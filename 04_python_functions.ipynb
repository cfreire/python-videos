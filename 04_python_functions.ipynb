{
  "cells": [
    {
      "cell_type": "markdown",
      "id": "9990ae26",
      "metadata": {},
      "source": [
        "# Python functions\n",
        "\n",
        "```txt\n",
        "       video:  4\n",
        "       title:  Python functions\n",
        "      author:  César Freire <cesar.freire@training.rumos.pt>\n",
        "   reviewers:  Ana Felizardo, Paulo Martins\n",
        "affiliations:  Rumos Formação\n",
        "```\n"
      ]
    },
    {
      "cell_type": "markdown",
      "id": "14663552",
      "metadata": {},
      "source": [
        "__In this episode__\n",
        "\n",
        "* [user-input](#function-input)\n",
        "* [user-defined-functions](#user-defined-functions)"
      ]
    },
    {
      "cell_type": "markdown",
      "id": "f82d79e1",
      "metadata": {},
      "source": [
        "## Function `input`\n",
        "Get data from user\n",
        "\n",
        "https://docs.python.org/3/library/functions.html#input"
      ]
    },
    {
      "cell_type": "code",
      "execution_count": null,
      "id": "bc462c6b",
      "metadata": {
        "trusted": true
      },
      "outputs": [],
      "source": [
        "# NOTE: Remove 'await' outside jupyter.org\n",
        "food = await input('Favorite food?')"
      ]
    },
    {
      "cell_type": "code",
      "execution_count": null,
      "id": "c1e6ee32",
      "metadata": {
        "trusted": true
      },
      "outputs": [],
      "source": [
        "food"
      ]
    },
    {
      "cell_type": "code",
      "execution_count": null,
      "id": "48a3a0d1",
      "metadata": {
        "trusted": true
      },
      "outputs": [],
      "source": [
        "# input always gives a string\n",
        "type(food)"
      ]
    },
    {
      "cell_type": "markdown",
      "id": "437aeb23",
      "metadata": {},
      "source": [
        "## User-defined functions\n",
        "\n",
        "* Reusability\n",
        "* Abstraction\n",
        "* Organization\n",
        "* Testing\n"
      ]
    },
    {
      "cell_type": "markdown",
      "id": "b8f08aa5",
      "metadata": {},
      "source": [
        "### Why Use Functions in Python?\n",
        "\n",
        "Exercise: Lorem Ipsum\n",
        "\n",
        "Lorem Ipsum \"de Finibus Bonorum et Malorum\" (The Extremes of Good and Evil) by Cicero, written in 45 BC...\n",
        "\n",
        "https://en.wikipedia.org/wiki/Lorem_ipsum"
      ]
    },
    {
      "cell_type": "code",
      "execution_count": null,
      "id": "f723be8a",
      "metadata": {
        "trusted": true
      },
      "outputs": [],
      "source": [
        "text = \"\"\"Lorem ipsum dolor sit amet, consectetur adipiscing elit, sed do eiusmod tempor incididunt ut labore et dolore magna aliqua. \n",
        "Ut enim ad minim veniam, quis nostrud exercitation ullamco laboris nisi ut aliquip ex ea commodo consequat. \n",
        "Duis aute irure dolor in reprehenderit in voluptate velit esse cillum dolore eu fugiat nulla pariatur. \n",
        "Excepteur sint occaecat cupidatat non proident, sunt in culpa qui officia deserunt mollit anim id est laborum.\"\"\""
      ]
    },
    {
      "cell_type": "code",
      "execution_count": null,
      "id": "befceeea",
      "metadata": {
        "trusted": true
      },
      "outputs": [],
      "source": [
        "# Remove all punctuators from the strings\n",
        "text = text.replace(' ', '').replace('\\n','').replace('.','').replace(',','').upper()\n",
        "\n",
        "text[:80]  # fist 80 letters"
      ]
    },
    {
      "cell_type": "code",
      "execution_count": null,
      "id": "bf8dcc9d",
      "metadata": {
        "trusted": true
      },
      "outputs": [],
      "source": [
        "# Dictionary with all letters and zeros\n",
        "import string\n",
        "\n",
        "letters = { letter: 0 for letter in string.ascii_uppercase }\n",
        "letters"
      ]
    },
    {
      "cell_type": "code",
      "execution_count": null,
      "id": "131f5c76",
      "metadata": {
        "trusted": true
      },
      "outputs": [],
      "source": [
        "# Add letter count from text\n",
        "for l in text:\n",
        "     letters[l] += 1\n",
        "letters"
      ]
    },
    {
      "cell_type": "code",
      "execution_count": null,
      "id": "2758eef3",
      "metadata": {
        "trusted": true
      },
      "outputs": [],
      "source": [
        "# Create a text bar chart with percentages\n",
        "bar_length = 30  # number of chars of bar chart\n",
        "for key, value in letters.items():\n",
        "    total = sum(letters.values())\n",
        "    bar = round(value / total * 100,2)\n",
        "    print(f\"{key:>6} |{'#' * round(bar)}{'.' * \n",
        "        (bar_length - round(bar))}| {bar:>4.1f} %\")"
      ]
    },
    {
      "cell_type": "code",
      "execution_count": null,
      "id": "3c6681b1",
      "metadata": {
        "trusted": true
      },
      "outputs": [],
      "source": [
        "# JOIN ALL CELL'S TOGETHER\n",
        "import string\n",
        "\n",
        "# Remove all punctuators from the strings\n",
        "text = text.replace(' ', '').replace('\\n','').replace('.','').replace(',','').upper()\n",
        "\n",
        "# Dictionary with all letters and zeros\n",
        "letters = { letter: 0 for letter in string.ascii_uppercase }\n",
        "\n",
        "# Add letter count from text\n",
        "for l in text:\n",
        "     letters[l] += 1\n",
        "\n",
        "# Create a text bar chart with percentages\n",
        "bar_length = 30  # size of bar chart\n",
        "for key, value in letters.items():\n",
        "    total = sum(letters.values())\n",
        "    bar = round(value / total * 100,2)\n",
        "    print(f\"{key:>6} |{'#' * round(bar)}{'.' * \n",
        "        (bar_length - round(bar))}| {bar:>4.1f} %\")"
      ]
    },
    {
      "cell_type": "markdown",
      "id": "bc2c79d9",
      "metadata": {},
      "source": [
        "### Convert scripts to functions"
      ]
    },
    {
      "cell_type": "code",
      "execution_count": null,
      "id": "1eaed58f",
      "metadata": {
        "trusted": true
      },
      "outputs": [],
      "source": [
        "def count_letters(text):\n",
        "    # Remove all punctuators from the strings\n",
        "    text = text.replace(' ', '').replace('\\n','').replace('.','').replace(',','').upper()\n",
        "    \n",
        "    # Dictionary with all letters and zeros\n",
        "    letters = { letter: 0 for letter in string.ascii_uppercase }\n",
        "    \n",
        "    # Add letter count from text\n",
        "    for l in text:\n",
        "         letters[l] += 1\n",
        "\n",
        "    return letters"
      ]
    },
    {
      "cell_type": "code",
      "execution_count": null,
      "id": "f3e2e08a",
      "metadata": {
        "trusted": true
      },
      "outputs": [],
      "source": [
        "def plot_graphic(letters):\n",
        "    # Create a text bar chart with percentages\n",
        "    bar_length = 30  # size of bar chart\n",
        "    for key, value in letters.items():\n",
        "        total = sum(letters.values())\n",
        "        bar_length = 30\n",
        "        bar = round(value / total * 100,2)\n",
        "        print(f\"{key:>6} |{'#' * round(bar)}{'.' * \n",
        "            (bar_length - round(bar))}| {bar:>4.1f} %\")"
      ]
    },
    {
      "cell_type": "code",
      "execution_count": null,
      "id": "a6e382ed-3c8f-4f7b-9834-bd7f0ffe20c5",
      "metadata": {
        "trusted": true
      },
      "outputs": [],
      "source": [
        "lorem_ipsum = count_letters(text)\n",
        "lorem_ipsum "
      ]
    },
    {
      "cell_type": "code",
      "execution_count": null,
      "id": "a0dae22d",
      "metadata": {
        "trusted": true
      },
      "outputs": [],
      "source": [
        "plot_graphic(lorem_ipsum)"
      ]
    },
    {
      "cell_type": "markdown",
      "id": "a1d5b2e3",
      "metadata": {},
      "source": [
        "### Lorem Ipsum comparison to  english\n",
        "\n",
        "The frequency of the letters of the alphabet in English\n",
        "\n",
        "https://en.wikipedia.org/wiki/Letter_frequency\n",
        "\n",
        "\n",
        "```\n",
        "E: 11.0%\n",
        "A: 7.8%\n",
        "O: 6.1%\n",
        "V: 1.0%\n",
        "```"
      ]
    },
    {
      "cell_type": "markdown",
      "id": "048acdb7",
      "metadata": {},
      "source": [
        "## More about functions"
      ]
    },
    {
      "cell_type": "code",
      "execution_count": null,
      "id": "3ea756a1-1c21-4af4-96ca-859c08003230",
      "metadata": {
        "trusted": true
      },
      "outputs": [],
      "source": [
        "# With function hints\n",
        "def count_letters(text: str) -> dict:  # hints\n",
        "    text = text.replace(' ', '').replace('\\n','').replace('.','').replace(',','').upper()\n",
        "    letters = { letter: 0 for letter in string.ascii_uppercase }\n",
        "    for l in text:\n",
        "         letters[l] += 1\n",
        "    return letters"
      ]
    },
    {
      "cell_type": "code",
      "execution_count": null,
      "id": "4b85e786",
      "metadata": {
        "trusted": true
      },
      "outputs": [],
      "source": [
        "# With docstring\n",
        "def count_letters(text: str) -> dict: \n",
        "    \"\"\" Counts the letters frequency in a text \"\"\"\n",
        "    text = text.replace(' ', '').replace('\\n','').replace('.','').replace(',','').upper()\n",
        "    letters = { letter: 0 for letter in string.ascii_uppercase }\n",
        "    for l in text:\n",
        "         letters[l] += 1\n",
        "    return letters\n"
      ]
    },
    {
      "cell_type": "code",
      "execution_count": null,
      "id": "59e1756d",
      "metadata": {
        "trusted": true
      },
      "outputs": [],
      "source": [
        "# With default parameters\n",
        "def plot_graphic(letter_frequencies, bar_length=10):\n",
        "    \"\"\" Plots bar frequency in text \"\"\"\n",
        "\n",
        "    ######## REMOVED: bar_length = 30  # size of bar chart #############\n",
        "    for key, value in letters.items():\n",
        "        total = sum(letters.values())\n",
        "        bar = round(value / total * 100,2)\n",
        "        print(f\"{key:>6} |{'#' * round(bar)}{'.' * \n",
        "            (bar_length - round(bar))}| {bar:>4.1f} %\")"
      ]
    },
    {
      "cell_type": "code",
      "execution_count": null,
      "id": "aa55c714",
      "metadata": {
        "trusted": true
      },
      "outputs": [],
      "source": [
        "croque_monsieur = { 'ham': 2, 'cheese': 1, 'bread': 2, 'bechamel': 1}\n",
        "plot_graphic(croque_monsieur) # argument bar_length=30 (default)"
      ]
    },
    {
      "cell_type": "code",
      "execution_count": null,
      "id": "e27c2229",
      "metadata": {
        "trusted": true
      },
      "outputs": [],
      "source": [
        "plot_graphic(croque_monsieur, 40) # change the 'bar_length' argument to override the default"
      ]
    },
    {
      "cell_type": "code",
      "execution_count": null,
      "id": "44734951-9790-4675-8cd0-bd7dbb890823",
      "metadata": {
        "trusted": true
      },
      "outputs": [],
      "source": [
        "plot_graphic(bar_length=35, letter_frequencies=croque_monsieur)  # keyword argument"
      ]
    },
    {
      "cell_type": "code",
      "execution_count": null,
      "id": "96e6b772-2b78-4799-af83-ce5a7e874182",
      "metadata": {
        "trusted": true
      },
      "outputs": [],
      "source": [
        "plot_graphic(croque_monsieur, bar_length=40)  # positional and keyword argument"
      ]
    },
    {
      "cell_type": "code",
      "execution_count": null,
      "id": "31a18b8f",
      "metadata": {
        "trusted": true
      },
      "outputs": [],
      "source": [
        "# Error (uncomment the last line to test)\n",
        "# SyntaxError: positional argument follows keyword argument\n",
        "\n",
        "# plot_graphic(bar_length=40, croque_monsieur)"
      ]
    },
    {
      "cell_type": "markdown",
      "id": "6b374248-babd-44ec-b734-2be88220586d",
      "metadata": {},
      "source": [
        "## Functions and global variables"
      ]
    },
    {
      "cell_type": "code",
      "execution_count": null,
      "id": "f96017fd-9e97-498b-b346-d3212cc21cec",
      "metadata": {
        "trusted": true
      },
      "outputs": [],
      "source": [
        "a = 10\n",
        "\n",
        "def show_var():\n",
        "    print(a)  # read global var\n",
        "\n",
        "show_var()"
      ]
    },
    {
      "cell_type": "code",
      "execution_count": null,
      "id": "7c621519-da99-4c43-a091-56089cd5e0d4",
      "metadata": {
        "trusted": true
      },
      "outputs": [],
      "source": [
        "a = 10\n",
        "\n",
        "def change_var():\n",
        "    global a # allow write\n",
        "    a = a +1  \n",
        "    print(a)\n",
        "\n",
        "change_var()"
      ]
    },
    {
      "cell_type": "markdown",
      "id": "0839f2e9",
      "metadata": {},
      "source": [
        "## Lambda functions\n",
        "https://docs.python.org/3/reference/expressions.html#lambda\n",
        "\n",
        "* no need to add a name \n",
        "* no need to add \"return\""
      ]
    },
    {
      "cell_type": "code",
      "execution_count": null,
      "id": "cd91a6ee",
      "metadata": {
        "trusted": true
      },
      "outputs": [],
      "source": [
        "f = lambda x : x + 10\n",
        "f(10)"
      ]
    },
    {
      "cell_type": "code",
      "execution_count": null,
      "id": "3f0f4ed6",
      "metadata": {
        "trusted": true
      },
      "outputs": [],
      "source": [
        "currencies = { 'USD': 0.92, 'GBP': 1.17, 'AOA': 0.0011, 'BTC': 58_290.94 }\n",
        "currencies.items()"
      ]
    },
    {
      "cell_type": "code",
      "execution_count": null,
      "id": "d02a2996",
      "metadata": {
        "trusted": true
      },
      "outputs": [],
      "source": [
        "def currency_sort(x: tuple):\n",
        "    \"\"\" dummy function just to sort by tuple second item \"\"\"\n",
        "    return x[1]"
      ]
    },
    {
      "cell_type": "code",
      "execution_count": null,
      "id": "1124b0b3",
      "metadata": {
        "trusted": true
      },
      "outputs": [],
      "source": [
        "# version 1 - with function\n",
        "sorted(currencies.items(), key=currency_sort, reverse=True)"
      ]
    },
    {
      "cell_type": "code",
      "execution_count": null,
      "id": "37279597",
      "metadata": {
        "trusted": true
      },
      "outputs": [],
      "source": [
        "# version 2 - with lambda\n",
        "sorted(currencies.items(), key=lambda x: x[1])"
      ]
    },
    {
      "cell_type": "markdown",
      "id": "9c2d3284-b7a7-4d8c-9780-109b63802809",
      "metadata": {},
      "source": [
        "## Questions worthy of our reflection\n",
        "![](https://upload.wikimedia.org/wikipedia/commons/thumb/a/ab/Pen_in_water.jpg/1280px-Pen_in_water.jpg)"
      ]
    },
    {
      "cell_type": "code",
      "execution_count": null,
      "id": "740fc3cb-9150-43bf-8806-012feb213df2",
      "metadata": {
        "trusted": true
      },
      "outputs": [],
      "source": [
        "# https://www.tiobe.com/tiobe-index/\n",
        "await input('Is Python dead?')"
      ]
    },
    {
      "cell_type": "code",
      "execution_count": null,
      "id": "7d612b98-9c4b-4bf6-95e0-1b0a4dbe3750",
      "metadata": {
        "trusted": true
      },
      "outputs": [],
      "source": [
        "input('Are you finnish?')"
      ]
    }
  ],
  "metadata": {
    "kernelspec": {
      "display_name": "venv",
      "language": "python",
      "name": "python3"
    },
    "language_info": {
      "codemirror_mode": {
        "name": "python",
        "version": 3
      },
      "file_extension": ".py",
      "mimetype": "text/x-python",
      "name": "python",
      "nbconvert_exporter": "python",
      "pygments_lexer": "ipython3",
      "version": "3.12.3"
    }
  },
  "nbformat": 4,
  "nbformat_minor": 5
}
