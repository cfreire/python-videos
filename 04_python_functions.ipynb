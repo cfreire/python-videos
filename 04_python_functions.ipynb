{
 "cells": [
  {
   "cell_type": "markdown",
   "id": "9990ae26",
   "metadata": {},
   "source": [
    "# Python functions\n",
    "\n",
    "```txt\n",
    "       video:  4\n",
    "       title:  Python functions\n",
    "      author:  César Freire <cesar.freire@training.rumos.pt>\n",
    "   reviewers:  Ana Felizardo, Paulo Martins\n",
    "affiliations:  Rumos Formação\n",
    "```\n"
   ]
  },
  {
   "cell_type": "markdown",
   "id": "14663552",
   "metadata": {},
   "source": [
    "## In this episode\n",
    "\n",
    "* [user-input]()\n",
    "* [functions]()\n",
    "* [errors]()"
   ]
  },
  {
   "cell_type": "markdown",
   "id": "f82d79e1",
   "metadata": {},
   "source": [
    "## User input\n",
    "\n",
    "https://docs.python.org/3/library/functions.html#input\n",
    "\n",
    "`answer = input('Question')`"
   ]
  },
  {
   "cell_type": "code",
   "execution_count": null,
   "id": "bc462c6b",
   "metadata": {},
   "outputs": [],
   "source": [
    "# Using input dependent of platform\n",
    "import sys\n",
    "\n",
    "if sys.platform == 'emscripten':\n",
    "    food = await input('Favorite food?')\n",
    "else:\n",
    "    food = input('Favorite food?')"
   ]
  },
  {
   "cell_type": "code",
   "execution_count": null,
   "id": "c1e6ee32",
   "metadata": {},
   "outputs": [],
   "source": [
    "food"
   ]
  },
  {
   "cell_type": "code",
   "execution_count": null,
   "id": "48a3a0d1",
   "metadata": {},
   "outputs": [],
   "source": [
    "# input always gives a string\n",
    "type(food)"
   ]
  },
  {
   "cell_type": "markdown",
   "id": "437aeb23",
   "metadata": {},
   "source": [
    "## Python functions\n",
    "\n",
    "__Why Use Functions in Python?__\n",
    "\n",
    "* Reusability\n",
    "* Abstraction\n",
    "* Organization\n",
    "* Testing\n"
   ]
  },
  {
   "cell_type": "markdown",
   "id": "b8f08aa5",
   "metadata": {},
   "source": [
    "## Script example\n",
    "\n",
    "Lorem Ipsum \"de Finibus Bonorum et Malorum\" (The Extremes of Good and Evil) by Cicero, written in 45 BC\n",
    "\n",
    "https://en.wikipedia.org/wiki/Lorem_ipsum"
   ]
  },
  {
   "cell_type": "code",
   "execution_count": null,
   "id": "f723be8a",
   "metadata": {},
   "outputs": [],
   "source": [
    "text = \"\"\"Lorem ipsum dolor sit amet, consectetur adipiscing elit, sed do eiusmod tempor incididunt ut labore et dolore magna aliqua. \n",
    "Ut enim ad minim veniam, quis nostrud exercitation ullamco laboris nisi ut aliquip ex ea commodo consequat. \n",
    "Duis aute irure dolor in reprehenderit in voluptate velit esse cillum dolore eu fugiat nulla pariatur. \n",
    "Excepteur sint occaecat cupidatat non proident, sunt in culpa qui officia deserunt mollit anim id est laborum.\"\"\"\n"
   ]
  },
  {
   "cell_type": "code",
   "execution_count": null,
   "id": "befceeea",
   "metadata": {},
   "outputs": [],
   "source": [
    "# remove all punctuators from the strings\n",
    "text = text.replace(' ', '').replace('\\n','').replace('.','').replace(',','')\n",
    "\n",
    "text[:60]  # fist 60 letters"
   ]
  },
  {
   "cell_type": "code",
   "execution_count": null,
   "id": "bf8dcc9d",
   "metadata": {},
   "outputs": [],
   "source": [
    "# Dictionary comprehension to create all alphabet\n",
    "letter_counts = {chr(65+x):0 for x in range(26)}\n",
    "letter_counts"
   ]
  },
  {
   "cell_type": "code",
   "execution_count": null,
   "id": "131f5c76",
   "metadata": {},
   "outputs": [],
   "source": [
    "# show letter frequencies\n",
    "for l in text:\n",
    "     letter_counts[l.upper()] += 1\n",
    "letter_counts"
   ]
  },
  {
   "cell_type": "code",
   "execution_count": null,
   "id": "2758eef3",
   "metadata": {},
   "outputs": [],
   "source": [
    "# create a bar chart with percentages\n",
    "total = sum(letter_counts.values())\n",
    "\n",
    "bar_length = 30\n",
    "\n",
    "for key, value in letter_counts.items():\n",
    "    bar = round(value / total * 100,2)\n",
    "    print(f\"{key:>8} |{'#' * round(bar)}{' ' * (bar_length - round(bar))}| {bar:>5} %\")\n"
   ]
  },
  {
   "cell_type": "code",
   "execution_count": null,
   "id": "3c6681b1",
   "metadata": {},
   "outputs": [],
   "source": [
    "# TODO all code here\n",
    "\n",
    "bar_length = 30\n",
    "\n",
    "for key, value in letter_counts.items():\n",
    "    bar = round(value / total * 100,2)\n",
    "    print(f\"{key:>8} |{'#' * round(bar)}{' ' * (bar_length - round(bar))}| {bar:>5} %\")"
   ]
  },
  {
   "cell_type": "markdown",
   "id": "bc2c79d9",
   "metadata": {},
   "source": [
    "## As a function"
   ]
  },
  {
   "cell_type": "code",
   "execution_count": null,
   "id": "1eaed58f",
   "metadata": {},
   "outputs": [],
   "source": [
    "def count_letters(text):\n",
    "    text = text.replace(' ', '').replace('\\n','').replace('.','').replace(',','')\n",
    "    letter_counts = {chr(65+x):0 for x in range(26)}\n",
    "    for l in text:\n",
    "        letter_counts[l.upper()] += 1\n",
    "    return letter_counts"
   ]
  },
  {
   "cell_type": "code",
   "execution_count": null,
   "id": "f3e2e08a",
   "metadata": {},
   "outputs": [],
   "source": [
    "def plot_graphic(letter_counts, bar_length):\n",
    "    total = sum(letter_counts.values())\n",
    "    for key, value in letter_counts.items():\n",
    "        bar = round(value / total * 100,2)\n",
    "        print(f\"{key:>8} |{'#' * round(bar)}{' ' * (bar_length - round(bar))}| {bar:>5} %\")"
   ]
  },
  {
   "cell_type": "code",
   "execution_count": null,
   "id": "a0dae22d",
   "metadata": {},
   "outputs": [],
   "source": [
    "plot_graphic(count_letters(text), 20)"
   ]
  },
  {
   "cell_type": "markdown",
   "id": "a1d5b2e3",
   "metadata": {},
   "source": [
    "### The frequency of the letters of the alphabet in English\n",
    "https://en.wikipedia.org/wiki/Letter_frequency\n",
    "\n",
    "__examples english dictionaries__\n",
    "\n",
    "```\n",
    "E: 11.0%\n",
    "I: 8.6%\n",
    "O: 6.1%\n",
    "V: 1.0%\n",
    "```"
   ]
  },
  {
   "cell_type": "code",
   "execution_count": null,
   "id": "3ea756a1-1c21-4af4-96ca-859c08003230",
   "metadata": {},
   "outputs": [],
   "source": [
    "# With function hints\n",
    "def count_letters(text: str) -> dict:  # hints\n",
    "    text = text.replace(' ', '').replace('\\n','').replace('.','').replace(',','')\n",
    "    letter_counts = {chr(65+x):0 for x in range(26)}\n",
    "    for l in text:\n",
    "        letter_counts[l.upper()] += 1\n",
    "    return letter_counts"
   ]
  },
  {
   "cell_type": "code",
   "execution_count": null,
   "id": "4b85e786",
   "metadata": {},
   "outputs": [],
   "source": [
    "# With docstring\n",
    "def count_letters(text: str) -> dict: \n",
    "    \"\"\" Counts the letters frequency in a text \"\"\"\n",
    "    text = text.replace(' ', '').replace('\\n','').replace('.','').replace(',','')\n",
    "    letter_counts = {chr(65+x):0 for x in range(26)}\n",
    "    for l in text:\n",
    "        letter_counts[l.upper()] += 1\n",
    "    return letter_counts\n"
   ]
  },
  {
   "cell_type": "code",
   "execution_count": null,
   "id": "59e1756d",
   "metadata": {},
   "outputs": [],
   "source": [
    "# With default argument\n",
    "def plot_graphic(letter_frequencies, bar_length=20):\n",
    "    \"\"\" Plots bar frequency in text \"\"\"\n",
    "    total = sum(letter_frequencies.values())\n",
    "    for key, value in letter_frequencies.items():\n",
    "        bar = round(value / total * 100,2)\n",
    "        print(f\"{key:>8} |{'#' * int(bar)}{' ' * (bar_length - int(bar))}| {bar} %\")"
   ]
  },
  {
   "cell_type": "code",
   "execution_count": null,
   "id": "aa55c714",
   "metadata": {},
   "outputs": [],
   "source": [
    "croque_monsieur = { 'ham': 2, 'cheese': 1, 'bread': 2, 'bechamel': 1}\n",
    "plot_graphic(croque_monsieur) # bar_length=20"
   ]
  },
  {
   "cell_type": "code",
   "execution_count": null,
   "id": "e27c2229",
   "metadata": {},
   "outputs": [],
   "source": [
    "plot_graphic(croque_monsieur, 50) # change the 'bar_length' parameter to override the default"
   ]
  },
  {
   "cell_type": "code",
   "execution_count": null,
   "id": "3906ba29",
   "metadata": {},
   "outputs": [],
   "source": [
    "plot_graphic(croque_monsieur, 50) # Positional parameters"
   ]
  },
  {
   "cell_type": "code",
   "execution_count": null,
   "id": "44734951-9790-4675-8cd0-bd7dbb890823",
   "metadata": {},
   "outputs": [],
   "source": [
    "plot_graphic(bar_length=40, letter_frequencies=croque_monsieur)  # keyword parameters"
   ]
  },
  {
   "cell_type": "code",
   "execution_count": null,
   "id": "96e6b772-2b78-4799-af83-ce5a7e874182",
   "metadata": {},
   "outputs": [],
   "source": [
    "plot_graphic(croque_monsieur, bar_length=40)  # positional and keyword argument"
   ]
  },
  {
   "cell_type": "code",
   "execution_count": null,
   "id": "31a18b8f",
   "metadata": {},
   "outputs": [],
   "source": [
    "# Error (uncomment the last line to test)\n",
    "# SyntaxError: positional argument follows keyword argument\n",
    "\n",
    "# plot_graphic(bar_length=40, croque_monsieur)  # positional and keyword argument\n"
   ]
  },
  {
   "cell_type": "markdown",
   "id": "7e584f10",
   "metadata": {},
   "source": [
    "## None value"
   ]
  },
  {
   "cell_type": "code",
   "execution_count": null,
   "id": "63713c7f-61dc-4165-b932-c6ad15617a31",
   "metadata": {},
   "outputs": [],
   "source": [
    "def dummy():\n",
    "    pass"
   ]
  },
  {
   "cell_type": "code",
   "execution_count": null,
   "id": "017cfadc-2b30-44d4-beeb-a0671878cf2b",
   "metadata": {},
   "outputs": [],
   "source": [
    "print(dummy())"
   ]
  },
  {
   "cell_type": "code",
   "execution_count": null,
   "id": "062adf23",
   "metadata": {},
   "outputs": [],
   "source": [
    "def dummy():\n",
    "    return None"
   ]
  },
  {
   "cell_type": "code",
   "execution_count": null,
   "id": "32719c2a",
   "metadata": {},
   "outputs": [],
   "source": [
    "a = None  # not yet defined"
   ]
  },
  {
   "cell_type": "markdown",
   "id": "6b374248-babd-44ec-b734-2be88220586d",
   "metadata": {},
   "source": [
    "## Global variables"
   ]
  },
  {
   "cell_type": "code",
   "execution_count": null,
   "id": "f96017fd-9e97-498b-b346-d3212cc21cec",
   "metadata": {},
   "outputs": [],
   "source": [
    "a = 10\n",
    "\n",
    "def show_var():\n",
    "    print(a)  # read global var\n",
    "\n",
    "show_var()"
   ]
  },
  {
   "cell_type": "code",
   "execution_count": null,
   "id": "7c621519-da99-4c43-a091-56089cd5e0d4",
   "metadata": {},
   "outputs": [],
   "source": [
    "def change_var():\n",
    "    global a\n",
    "    a = a +1  # now can write\n",
    "    print(a)\n",
    "\n",
    "change_var()"
   ]
  },
  {
   "cell_type": "code",
   "execution_count": null,
   "id": "5410d5ca-0b47-4ec2-9229-57d5d735ffa0",
   "metadata": {},
   "outputs": [],
   "source": [
    "# the ugly\n",
    "c = 10\n",
    "\n",
    "def ugly(x):\n",
    "    return x+1\n",
    "\n",
    "c = ugly(c)\n",
    "c"
   ]
  },
  {
   "cell_type": "code",
   "execution_count": null,
   "id": "4835c6e5",
   "metadata": {},
   "outputs": [],
   "source": [
    "# the bueno\n",
    "d = 20\n",
    "\n",
    "def bueno():\n",
    "    global d\n",
    "    d = d +1\n",
    "\n",
    "bueno()\n",
    "d"
   ]
  },
  {
   "cell_type": "markdown",
   "id": "6467447e",
   "metadata": {},
   "source": [
    "### Function example"
   ]
  },
  {
   "cell_type": "code",
   "execution_count": null,
   "id": "7eba1c1f",
   "metadata": {},
   "outputs": [],
   "source": [
    "# this is better\n",
    "\n",
    "counter = 0\n",
    "\n",
    "def login(name: str):\n",
    "    if str != 'fulano':\n",
    "        global counter\n",
    "        counter += 1\n",
    "\n",
    "def reset():\n",
    "    global counter\n",
    "    counter = 0\n",
    "\n",
    "login('beltrano')\n",
    "reset()"
   ]
  },
  {
   "cell_type": "code",
   "execution_count": null,
   "id": "7af52551",
   "metadata": {},
   "outputs": [],
   "source": [
    "# this is not better\n",
    "\n",
    "def login(name: str, counter):\n",
    "    if str != 'fulano':\n",
    "        return counter +1\n",
    "\n",
    "def reset(counter):\n",
    "    return 0\n",
    "\n",
    "counter = login('sicrano', counter)\n",
    "counter = reset(counter)"
   ]
  },
  {
   "cell_type": "markdown",
   "id": "0839f2e9",
   "metadata": {},
   "source": [
    "## Lambda functions\n",
    "\n",
    "* anonymous\n",
    "* no return\n",
    "* no def\n",
    "   "
   ]
  },
  {
   "cell_type": "code",
   "execution_count": null,
   "id": "cd91a6ee",
   "metadata": {},
   "outputs": [],
   "source": [
    "x = lambda a : a + 10\n",
    "x(10)"
   ]
  },
  {
   "cell_type": "code",
   "execution_count": null,
   "id": "3f0f4ed6",
   "metadata": {},
   "outputs": [],
   "source": [
    "currencies ={ 'USD': 0.92, 'GBP': 1.17, 'AOA': 0.0011, 'BTC': 58_290.94 }"
   ]
  },
  {
   "cell_type": "code",
   "execution_count": null,
   "id": "d02a2996",
   "metadata": {},
   "outputs": [],
   "source": [
    "def currency_sort(x: tuple):\n",
    "    return x[1]"
   ]
  },
  {
   "cell_type": "code",
   "execution_count": null,
   "id": "1124b0b3",
   "metadata": {},
   "outputs": [],
   "source": [
    "# version 1 - with function\n",
    "sorted(currencies.items(), key=currency_sort, reverse=True)"
   ]
  },
  {
   "cell_type": "code",
   "execution_count": null,
   "id": "37279597",
   "metadata": {},
   "outputs": [],
   "source": [
    "sorted(currencies.items(), key=lambda x: x[1])"
   ]
  },
  {
   "cell_type": "code",
   "execution_count": null,
   "id": "37bf63b5",
   "metadata": {},
   "outputs": [],
   "source": [
    "# sorted example\n",
    "sorted(['fulano', 'sicrano', 'beltrano'], key=lambda x: len(x))"
   ]
  }
 ],
 "metadata": {
  "kernelspec": {
   "display_name": "Python 3 (ipykernel)",
   "language": "python",
   "name": "python3"
  },
  "language_info": {
   "codemirror_mode": {
    "name": "ipython",
    "version": 3
   },
   "file_extension": ".py",
   "mimetype": "text/x-python",
   "name": "python",
   "nbconvert_exporter": "python",
   "pygments_lexer": "ipython3",
   "version": "3.12.3"
  }
 },
 "nbformat": 4,
 "nbformat_minor": 5
}
