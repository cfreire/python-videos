{
 "cells": [
  {
   "cell_type": "markdown",
   "id": "9990ae26",
   "metadata": {},
   "source": [
    "# Python functions\n",
    "\n",
    "```txt\n",
    "       video:  4\n",
    "       title:  Python functions\n",
    "      author:  César Freire <cesar.freire@training.rumos.pt>\n",
    "   reviewers:  Ana Felizardo, Paulo Martins\n",
    "affiliations:  Rumos Formação\n",
    "```\n"
   ]
  },
  {
   "cell_type": "markdown",
   "id": "14663552",
   "metadata": {},
   "source": [
    "__In this episode__\n",
    "\n",
    "* [user input](#function-example-user-input)\n",
    "* [user defined functions](#python-user-defined-functions)"
   ]
  },
  {
   "cell_type": "markdown",
   "id": "f82d79e1",
   "metadata": {},
   "source": [
    "## Function example: user input\n",
    "\n",
    "https://docs.python.org/3/library/functions.html#input\n",
    "\n",
    "`answer = input('Question')`"
   ]
  },
  {
   "cell_type": "code",
   "execution_count": 1,
   "id": "bc462c6b",
   "metadata": {},
   "outputs": [],
   "source": [
    "# Using input dependent of platform\n",
    "import sys\n",
    "\n",
    "if sys.platform == 'emscripten':\n",
    "    food = await input('Favorite food?')\n",
    "else:\n",
    "    food = input('Favorite food?')"
   ]
  },
  {
   "cell_type": "code",
   "execution_count": 2,
   "id": "c1e6ee32",
   "metadata": {},
   "outputs": [
    {
     "data": {
      "text/plain": [
       "'eggs'"
      ]
     },
     "execution_count": 2,
     "metadata": {},
     "output_type": "execute_result"
    }
   ],
   "source": [
    "food"
   ]
  },
  {
   "cell_type": "code",
   "execution_count": 3,
   "id": "48a3a0d1",
   "metadata": {},
   "outputs": [
    {
     "data": {
      "text/plain": [
       "str"
      ]
     },
     "execution_count": 3,
     "metadata": {},
     "output_type": "execute_result"
    }
   ],
   "source": [
    "# input always gives a string\n",
    "type(food)"
   ]
  },
  {
   "cell_type": "markdown",
   "id": "437aeb23",
   "metadata": {},
   "source": [
    "## Python user-defined functions\n",
    "\n",
    "* Reusability\n",
    "* Abstraction\n",
    "* Organization\n",
    "* Testing\n"
   ]
  },
  {
   "cell_type": "markdown",
   "id": "b8f08aa5",
   "metadata": {},
   "source": [
    "### Why Use Functions in Python?\n",
    "\n",
    "Exercise: Lorem Ipsum\n",
    "\n",
    "Lorem Ipsum \"de Finibus Bonorum et Malorum\" (The Extremes of Good and Evil) by Cicero, written in 45 BC...\n",
    "\n",
    "https://en.wikipedia.org/wiki/Lorem_ipsum"
   ]
  },
  {
   "cell_type": "code",
   "execution_count": 4,
   "id": "f723be8a",
   "metadata": {},
   "outputs": [],
   "source": [
    "text = \"\"\"Lorem ipsum dolor sit amet, consectetur adipiscing elit, sed do eiusmod tempor incididunt ut labore et dolore magna aliqua. \n",
    "Ut enim ad minim veniam, quis nostrud exercitation ullamco laboris nisi ut aliquip ex ea commodo consequat. \n",
    "Duis aute irure dolor in reprehenderit in voluptate velit esse cillum dolore eu fugiat nulla pariatur. \n",
    "Excepteur sint occaecat cupidatat non proident, sunt in culpa qui officia deserunt mollit anim id est laborum.\"\"\"\n"
   ]
  },
  {
   "cell_type": "code",
   "execution_count": 5,
   "id": "befceeea",
   "metadata": {},
   "outputs": [
    {
     "data": {
      "text/plain": [
       "'Loremipsumdolorsitametconsecteturadipiscingelitseddoeiusmodt'"
      ]
     },
     "execution_count": 5,
     "metadata": {},
     "output_type": "execute_result"
    }
   ],
   "source": [
    "# remove all punctuators from the strings\n",
    "text = text.replace(' ', '').replace('\\n','').replace('.','').replace(',','')\n",
    "\n",
    "text[:60]  # fist 60 letters"
   ]
  },
  {
   "cell_type": "code",
   "execution_count": 6,
   "id": "bf8dcc9d",
   "metadata": {},
   "outputs": [
    {
     "data": {
      "text/plain": [
       "{'A': 0,\n",
       " 'B': 0,\n",
       " 'C': 0,\n",
       " 'D': 0,\n",
       " 'E': 0,\n",
       " 'F': 0,\n",
       " 'G': 0,\n",
       " 'H': 0,\n",
       " 'I': 0,\n",
       " 'J': 0,\n",
       " 'K': 0,\n",
       " 'L': 0,\n",
       " 'M': 0,\n",
       " 'N': 0,\n",
       " 'O': 0,\n",
       " 'P': 0,\n",
       " 'Q': 0,\n",
       " 'R': 0,\n",
       " 'S': 0,\n",
       " 'T': 0,\n",
       " 'U': 0,\n",
       " 'V': 0,\n",
       " 'W': 0,\n",
       " 'X': 0,\n",
       " 'Y': 0,\n",
       " 'Z': 0}"
      ]
     },
     "execution_count": 6,
     "metadata": {},
     "output_type": "execute_result"
    }
   ],
   "source": [
    "# Dictionary comprehension to create all alphabet\n",
    "letter_counts = {chr(65+x):0 for x in range(26)}\n",
    "letter_counts"
   ]
  },
  {
   "cell_type": "code",
   "execution_count": 7,
   "id": "131f5c76",
   "metadata": {},
   "outputs": [
    {
     "data": {
      "text/plain": [
       "{'A': 29,\n",
       " 'B': 3,\n",
       " 'C': 16,\n",
       " 'D': 19,\n",
       " 'E': 38,\n",
       " 'F': 3,\n",
       " 'G': 3,\n",
       " 'H': 1,\n",
       " 'I': 42,\n",
       " 'J': 0,\n",
       " 'K': 0,\n",
       " 'L': 22,\n",
       " 'M': 17,\n",
       " 'N': 24,\n",
       " 'O': 29,\n",
       " 'P': 11,\n",
       " 'Q': 5,\n",
       " 'R': 22,\n",
       " 'S': 18,\n",
       " 'T': 32,\n",
       " 'U': 29,\n",
       " 'V': 3,\n",
       " 'W': 0,\n",
       " 'X': 3,\n",
       " 'Y': 0,\n",
       " 'Z': 0}"
      ]
     },
     "execution_count": 7,
     "metadata": {},
     "output_type": "execute_result"
    }
   ],
   "source": [
    "# show letter frequencies\n",
    "for l in text:\n",
    "     letter_counts[l.upper()] += 1\n",
    "letter_counts"
   ]
  },
  {
   "cell_type": "code",
   "execution_count": 8,
   "id": "2758eef3",
   "metadata": {},
   "outputs": [
    {
     "name": "stdout",
     "output_type": "stream",
     "text": [
      "       A |########                      |  7.86 %\n",
      "       B |#                             |  0.81 %\n",
      "       C |####                          |  4.34 %\n",
      "       D |#####                         |  5.15 %\n",
      "       E |##########                    |  10.3 %\n",
      "       F |#                             |  0.81 %\n",
      "       G |#                             |  0.81 %\n",
      "       H |                              |  0.27 %\n",
      "       I |###########                   | 11.38 %\n",
      "       J |                              |   0.0 %\n",
      "       K |                              |   0.0 %\n",
      "       L |######                        |  5.96 %\n",
      "       M |#####                         |  4.61 %\n",
      "       N |######                        |   6.5 %\n",
      "       O |########                      |  7.86 %\n",
      "       P |###                           |  2.98 %\n",
      "       Q |#                             |  1.36 %\n",
      "       R |######                        |  5.96 %\n",
      "       S |#####                         |  4.88 %\n",
      "       T |#########                     |  8.67 %\n",
      "       U |########                      |  7.86 %\n",
      "       V |#                             |  0.81 %\n",
      "       W |                              |   0.0 %\n",
      "       X |#                             |  0.81 %\n",
      "       Y |                              |   0.0 %\n",
      "       Z |                              |   0.0 %\n"
     ]
    }
   ],
   "source": [
    "# create a bar chart with percentages\n",
    "total = sum(letter_counts.values())\n",
    "\n",
    "bar_length = 30\n",
    "\n",
    "for key, value in letter_counts.items():\n",
    "    bar = round(value / total * 100,2)\n",
    "    print(f\"{key:>8} |{'#' * round(bar)}{' ' * (bar_length - round(bar))}| {bar:>5} %\")\n"
   ]
  },
  {
   "cell_type": "code",
   "execution_count": 9,
   "id": "3c6681b1",
   "metadata": {},
   "outputs": [
    {
     "name": "stdout",
     "output_type": "stream",
     "text": [
      "       A |########                      |  7.86 %\n",
      "       B |#                             |  0.81 %\n",
      "       C |####                          |  4.34 %\n",
      "       D |#####                         |  5.15 %\n",
      "       E |##########                    |  10.3 %\n",
      "       F |#                             |  0.81 %\n",
      "       G |#                             |  0.81 %\n",
      "       H |                              |  0.27 %\n",
      "       I |###########                   | 11.38 %\n",
      "       J |                              |   0.0 %\n",
      "       K |                              |   0.0 %\n",
      "       L |######                        |  5.96 %\n",
      "       M |#####                         |  4.61 %\n",
      "       N |######                        |   6.5 %\n",
      "       O |########                      |  7.86 %\n",
      "       P |###                           |  2.98 %\n",
      "       Q |#                             |  1.36 %\n",
      "       R |######                        |  5.96 %\n",
      "       S |#####                         |  4.88 %\n",
      "       T |#########                     |  8.67 %\n",
      "       U |########                      |  7.86 %\n",
      "       V |#                             |  0.81 %\n",
      "       W |                              |   0.0 %\n",
      "       X |#                             |  0.81 %\n",
      "       Y |                              |   0.0 %\n",
      "       Z |                              |   0.0 %\n"
     ]
    }
   ],
   "source": [
    "# TODO all code here\n",
    "\n",
    "bar_length = 30\n",
    "\n",
    "for key, value in letter_counts.items():\n",
    "    bar = round(value / total * 100,2)\n",
    "    print(f\"{key:>8} |{'#' * round(bar)}{' ' * (bar_length - round(bar))}| {bar:>5} %\")"
   ]
  },
  {
   "cell_type": "markdown",
   "id": "bc2c79d9",
   "metadata": {},
   "source": [
    "### Convert scripts to functions"
   ]
  },
  {
   "cell_type": "code",
   "execution_count": 10,
   "id": "1eaed58f",
   "metadata": {},
   "outputs": [],
   "source": [
    "def count_letters(text):\n",
    "    text = text.replace(' ', '').replace('\\n','').replace('.','').replace(',','')\n",
    "    letter_counts = {chr(65+x):0 for x in range(26)}\n",
    "    for l in text:\n",
    "        letter_counts[l.upper()] += 1\n",
    "    return letter_counts"
   ]
  },
  {
   "cell_type": "code",
   "execution_count": 11,
   "id": "f3e2e08a",
   "metadata": {},
   "outputs": [],
   "source": [
    "def plot_graphic(letter_counts, bar_length):\n",
    "    total = sum(letter_counts.values())\n",
    "    for key, value in letter_counts.items():\n",
    "        bar = round(value / total * 100,2)\n",
    "        print(f\"{key:>8} |{'#' * round(bar)}{' ' * (bar_length - round(bar))}| {bar:>5} %\")"
   ]
  },
  {
   "cell_type": "code",
   "execution_count": 12,
   "id": "a0dae22d",
   "metadata": {},
   "outputs": [
    {
     "name": "stdout",
     "output_type": "stream",
     "text": [
      "       A |########            |  7.86 %\n",
      "       B |#                   |  0.81 %\n",
      "       C |####                |  4.34 %\n",
      "       D |#####               |  5.15 %\n",
      "       E |##########          |  10.3 %\n",
      "       F |#                   |  0.81 %\n",
      "       G |#                   |  0.81 %\n",
      "       H |                    |  0.27 %\n",
      "       I |###########         | 11.38 %\n",
      "       J |                    |   0.0 %\n",
      "       K |                    |   0.0 %\n",
      "       L |######              |  5.96 %\n",
      "       M |#####               |  4.61 %\n",
      "       N |######              |   6.5 %\n",
      "       O |########            |  7.86 %\n",
      "       P |###                 |  2.98 %\n",
      "       Q |#                   |  1.36 %\n",
      "       R |######              |  5.96 %\n",
      "       S |#####               |  4.88 %\n",
      "       T |#########           |  8.67 %\n",
      "       U |########            |  7.86 %\n",
      "       V |#                   |  0.81 %\n",
      "       W |                    |   0.0 %\n",
      "       X |#                   |  0.81 %\n",
      "       Y |                    |   0.0 %\n",
      "       Z |                    |   0.0 %\n"
     ]
    }
   ],
   "source": [
    "plot_graphic(count_letters(text), 20)"
   ]
  },
  {
   "cell_type": "markdown",
   "id": "a1d5b2e3",
   "metadata": {},
   "source": [
    "### Lorem Ipsum comparison to  english\n",
    "\n",
    "The frequency of the letters of the alphabet in English\n",
    "\n",
    "https://en.wikipedia.org/wiki/Letter_frequency\n",
    "\n",
    "\n",
    "```\n",
    "E: 11.0%\n",
    "A: 7.8%\n",
    "O: 6.1%\n",
    "V: 1.0%\n",
    "```"
   ]
  },
  {
   "cell_type": "markdown",
   "id": "048acdb7",
   "metadata": {},
   "source": [
    "## More about functions"
   ]
  },
  {
   "cell_type": "code",
   "execution_count": 13,
   "id": "3ea756a1-1c21-4af4-96ca-859c08003230",
   "metadata": {},
   "outputs": [],
   "source": [
    "# With function hints\n",
    "def count_letters(text: str) -> dict:  # hints\n",
    "    text = text.replace(' ', '').replace('\\n','').replace('.','').replace(',','')\n",
    "    letter_counts = {chr(65+x):0 for x in range(26)}\n",
    "    for l in text:\n",
    "        letter_counts[l.upper()] += 1\n",
    "    return letter_counts"
   ]
  },
  {
   "cell_type": "code",
   "execution_count": 14,
   "id": "4b85e786",
   "metadata": {},
   "outputs": [],
   "source": [
    "# With docstring\n",
    "def count_letters(text: str) -> dict: \n",
    "    \"\"\" Counts the letters frequency in a text \"\"\"\n",
    "    text = text.replace(' ', '').replace('\\n','').replace('.','').replace(',','')\n",
    "    letter_counts = {chr(65+x):0 for x in range(26)}\n",
    "    for l in text:\n",
    "        letter_counts[l.upper()] += 1\n",
    "    return letter_counts\n"
   ]
  },
  {
   "cell_type": "code",
   "execution_count": 15,
   "id": "59e1756d",
   "metadata": {},
   "outputs": [],
   "source": [
    "# With default parameters\n",
    "def plot_graphic(letter_frequencies, bar_length=20):\n",
    "    \"\"\" Plots bar frequency in text \"\"\"\n",
    "    total = sum(letter_frequencies.values())\n",
    "    for key, value in letter_frequencies.items():\n",
    "        bar = round(value / total * 100,2)\n",
    "        print(f\"{key:>8} |{'#' * int(bar)}{' ' * (bar_length - int(bar))}| {bar} %\")"
   ]
  },
  {
   "cell_type": "code",
   "execution_count": 16,
   "id": "aa55c714",
   "metadata": {},
   "outputs": [
    {
     "name": "stdout",
     "output_type": "stream",
     "text": [
      "     ham |#################################| 33.33 %\n",
      "  cheese |################    | 16.67 %\n",
      "   bread |#################################| 33.33 %\n",
      "bechamel |################    | 16.67 %\n"
     ]
    }
   ],
   "source": [
    "croque_monsieur = { 'ham': 2, 'cheese': 1, 'bread': 2, 'bechamel': 1}\n",
    "plot_graphic(croque_monsieur) # argument bar_length=20 (default)"
   ]
  },
  {
   "cell_type": "code",
   "execution_count": 17,
   "id": "e27c2229",
   "metadata": {},
   "outputs": [
    {
     "name": "stdout",
     "output_type": "stream",
     "text": [
      "     ham |#################################                 | 33.33 %\n",
      "  cheese |################                                  | 16.67 %\n",
      "   bread |#################################                 | 33.33 %\n",
      "bechamel |################                                  | 16.67 %\n"
     ]
    }
   ],
   "source": [
    "plot_graphic(croque_monsieur, 50) # change the 'bar_length' argument to override the default"
   ]
  },
  {
   "cell_type": "code",
   "execution_count": 18,
   "id": "3906ba29",
   "metadata": {},
   "outputs": [
    {
     "name": "stdout",
     "output_type": "stream",
     "text": [
      "     ham |#################################                 | 33.33 %\n",
      "  cheese |################                                  | 16.67 %\n",
      "   bread |#################################                 | 33.33 %\n",
      "bechamel |################                                  | 16.67 %\n"
     ]
    }
   ],
   "source": [
    "plot_graphic(croque_monsieur, 50) # Positional argument"
   ]
  },
  {
   "cell_type": "code",
   "execution_count": 19,
   "id": "44734951-9790-4675-8cd0-bd7dbb890823",
   "metadata": {},
   "outputs": [
    {
     "name": "stdout",
     "output_type": "stream",
     "text": [
      "     ham |#################################       | 33.33 %\n",
      "  cheese |################                        | 16.67 %\n",
      "   bread |#################################       | 33.33 %\n",
      "bechamel |################                        | 16.67 %\n"
     ]
    }
   ],
   "source": [
    "plot_graphic(bar_length=40, letter_frequencies=croque_monsieur)  # keyword argument"
   ]
  },
  {
   "cell_type": "code",
   "execution_count": 20,
   "id": "96e6b772-2b78-4799-af83-ce5a7e874182",
   "metadata": {},
   "outputs": [
    {
     "name": "stdout",
     "output_type": "stream",
     "text": [
      "     ham |#################################       | 33.33 %\n",
      "  cheese |################                        | 16.67 %\n",
      "   bread |#################################       | 33.33 %\n",
      "bechamel |################                        | 16.67 %\n"
     ]
    }
   ],
   "source": [
    "plot_graphic(croque_monsieur, bar_length=40)  # positional and keyword argument"
   ]
  },
  {
   "cell_type": "code",
   "execution_count": 21,
   "id": "31a18b8f",
   "metadata": {},
   "outputs": [],
   "source": [
    "# Error (uncomment the last line to test)\n",
    "# SyntaxError: positional argument follows keyword argument\n",
    "\n",
    "# plot_graphic(bar_length=40, croque_monsieur)"
   ]
  },
  {
   "cell_type": "markdown",
   "id": "6b374248-babd-44ec-b734-2be88220586d",
   "metadata": {},
   "source": [
    "## Functions and global variables"
   ]
  },
  {
   "cell_type": "code",
   "execution_count": 22,
   "id": "f96017fd-9e97-498b-b346-d3212cc21cec",
   "metadata": {},
   "outputs": [
    {
     "name": "stdout",
     "output_type": "stream",
     "text": [
      "10\n"
     ]
    }
   ],
   "source": [
    "a = 10\n",
    "\n",
    "def show_var():\n",
    "    print(a)  # read global var\n",
    "\n",
    "show_var()"
   ]
  },
  {
   "cell_type": "code",
   "execution_count": 23,
   "id": "7c621519-da99-4c43-a091-56089cd5e0d4",
   "metadata": {},
   "outputs": [
    {
     "name": "stdout",
     "output_type": "stream",
     "text": [
      "11\n"
     ]
    }
   ],
   "source": [
    "a = 10\n",
    "\n",
    "def change_var():\n",
    "    global a # allow write\n",
    "    a = a +1  \n",
    "    print(a)\n",
    "\n",
    "change_var()"
   ]
  },
  {
   "cell_type": "markdown",
   "id": "0839f2e9",
   "metadata": {},
   "source": [
    "## Lambda functions\n",
    "https://docs.python.org/3/reference/expressions.html#lambda\n",
    "\n",
    "* no need to add a name \n",
    "* no need to add \"return\"\n",
    "* no need to add \"def\"\n",
    "   "
   ]
  },
  {
   "cell_type": "code",
   "execution_count": 24,
   "id": "cd91a6ee",
   "metadata": {},
   "outputs": [
    {
     "data": {
      "text/plain": [
       "20"
      ]
     },
     "execution_count": 24,
     "metadata": {},
     "output_type": "execute_result"
    }
   ],
   "source": [
    "x = lambda a : a + 10\n",
    "x(10)"
   ]
  },
  {
   "cell_type": "code",
   "execution_count": 25,
   "id": "3f0f4ed6",
   "metadata": {},
   "outputs": [
    {
     "data": {
      "text/plain": [
       "dict_items([('USD', 0.92), ('GBP', 1.17), ('AOA', 0.0011), ('BTC', 58290.94)])"
      ]
     },
     "execution_count": 25,
     "metadata": {},
     "output_type": "execute_result"
    }
   ],
   "source": [
    "currencies = { 'USD': 0.92, 'GBP': 1.17, 'AOA': 0.0011, 'BTC': 58_290.94 }\n",
    "currencies.items()"
   ]
  },
  {
   "cell_type": "code",
   "execution_count": 26,
   "id": "d02a2996",
   "metadata": {},
   "outputs": [],
   "source": [
    "def currency_sort(x: tuple):\n",
    "    return x[1]"
   ]
  },
  {
   "cell_type": "code",
   "execution_count": 27,
   "id": "1124b0b3",
   "metadata": {},
   "outputs": [
    {
     "data": {
      "text/plain": [
       "[('BTC', 58290.94), ('GBP', 1.17), ('USD', 0.92), ('AOA', 0.0011)]"
      ]
     },
     "execution_count": 27,
     "metadata": {},
     "output_type": "execute_result"
    }
   ],
   "source": [
    "# version 1 - with function\n",
    "sorted(currencies.items(), key=currency_sort, reverse=True)"
   ]
  },
  {
   "cell_type": "code",
   "execution_count": 28,
   "id": "37279597",
   "metadata": {},
   "outputs": [
    {
     "data": {
      "text/plain": [
       "[('AOA', 0.0011), ('USD', 0.92), ('GBP', 1.17), ('BTC', 58290.94)]"
      ]
     },
     "execution_count": 28,
     "metadata": {},
     "output_type": "execute_result"
    }
   ],
   "source": [
    "# version 2 - with lambda\n",
    "sorted(currencies.items(), key=lambda x: x[1])"
   ]
  }
 ],
 "metadata": {
  "kernelspec": {
   "display_name": "Python 3 (ipykernel)",
   "language": "python",
   "name": "python3"
  },
  "language_info": {
   "codemirror_mode": {
    "name": "ipython",
    "version": 3
   },
   "file_extension": ".py",
   "mimetype": "text/x-python",
   "name": "python",
   "nbconvert_exporter": "python",
   "pygments_lexer": "ipython3",
   "version": "3.12.3"
  }
 },
 "nbformat": 4,
 "nbformat_minor": 5
}
