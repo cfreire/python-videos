{
  "cells": [
    {
      "cell_type": "markdown",
      "id": "83edfd0a-c31e-4e0b-a17f-f88ec721a741",
      "metadata": {},
      "source": [
        "# Python collections\n",
        "\n",
        "```txt\n",
        "       video:  3\n",
        "       title:  Python collections\n",
        "      author:  César Freire <cesar.freire@training.rumos.pt>\n",
        "   reviewers:  Ana Felizardo, Paulo Martins\n",
        "affiliations:  Rumos Formação\n",
        "```\n",
        "__MORE INFO:__ https://docs.python.org/3/library/collections.html"
      ]
    },
    {
      "cell_type": "markdown",
      "id": "ba24ed77",
      "metadata": {},
      "source": [
        "## In this episode\n",
        "\n",
        "* [Lists](#lists)\n",
        "* [Dictionaries](#dictionaries)\n",
        "* [Tuples](#tuples)\n",
        "* [Sets](#sets)"
      ]
    },
    {
      "cell_type": "markdown",
      "id": "0db00249-c8ef-4109-8c6b-ef48309fc0fc",
      "metadata": {},
      "source": [
        "## Lists\n",
        "\n",
        "_Python knows a number of compound data types, used to group together other values. The most versatile is the list, which can be written as a list of comma-separated values (items) between square brackets. Lists might contain items of different types, but usually the items all have the same type._\n",
        "\n",
        "https://docs.python.org/3/tutorial/introduction.html#lists"
      ]
    },
    {
      "cell_type": "code",
      "execution_count": null,
      "id": "1bae4934-c401-49f1-bb10-45a8c9a32e80",
      "metadata": {},
      "outputs": [],
      "source": [
        "foods = ['eggs', 'ham', 'spam', 'ham', 'cheese']\n",
        "foods"
      ]
    },
    {
      "cell_type": "code",
      "execution_count": null,
      "id": "c2f8fedc-7f84-40b4-bc87-7e5e7ff9099c",
      "metadata": {},
      "outputs": [],
      "source": [
        "empty_list = []\n",
        "\n",
        "double_list = [ [1, 2, 3], [4, 5, 6] ]\n",
        "\n",
        "strangle_list = [12, 'Hello', True, ['a', 'b', 'c'], double_list]\n",
        "\n",
        "constructor_list = list('eggs')\n",
        "\n",
        "# lets output\n",
        "print(double_list)\n",
        "print(strangle_list)\n",
        "print(constructor_list)"
      ]
    },
    {
      "cell_type": "markdown",
      "id": "eda694eb-b9ed-42a1-95f9-3dca60d2f647",
      "metadata": {},
      "source": [
        "### List slicing\n",
        "One way to remember how slices work is to think of the indices as pointing between characters, with the left edge of the first character numbered 0. Then the right edge of the last character of a string of n characters has index n, for example:\n",
        "\n",
        "```txt\n",
        " +---+---+---+---+---+---+\n",
        " | P | y | t | h | o | n |\n",
        " +---+---+---+---+---+---+\n",
        " 0   1   2   3   4   5   6\n",
        "-6  -5  -4  -3  -2  -1\n",
        "\n",
        "```\n"
      ]
    },
    {
      "cell_type": "code",
      "execution_count": null,
      "id": "f2113dc2-d1e6-41f0-88df-c90275461a4f",
      "metadata": {},
      "outputs": [],
      "source": [
        "foods[0]  # first item"
      ]
    },
    {
      "cell_type": "code",
      "execution_count": null,
      "id": "d1af054c-eaf1-45a6-97bd-65ecea49d806",
      "metadata": {},
      "outputs": [],
      "source": [
        "foods[-1]  # last item"
      ]
    },
    {
      "cell_type": "code",
      "execution_count": null,
      "id": "8ef3fe17-3450-4d69-9831-1b9c195aec0e",
      "metadata": {},
      "outputs": [],
      "source": [
        "double_list[0][-1]  # item #3"
      ]
    },
    {
      "cell_type": "code",
      "execution_count": null,
      "id": "8ae91b99-457f-4239-916f-5674fd6633dc",
      "metadata": {},
      "outputs": [],
      "source": [
        "foods[1:3]  # index #3 not included"
      ]
    },
    {
      "cell_type": "code",
      "execution_count": null,
      "id": "11cd4596-0143-461d-b95d-95b53d6d66bd",
      "metadata": {},
      "outputs": [],
      "source": [
        "foods[:2] # index #2 not included"
      ]
    },
    {
      "cell_type": "markdown",
      "id": "d96f938b-fa91-44be-b7d0-131b19d76e2a",
      "metadata": {},
      "source": [
        "### List methods\n",
        "\n",
        "* __append()__\tAdds an element at the end of the list\n",
        "* __clear()__\tRemoves all the elements from the list\n",
        "* __copy()__\tReturns a copy of the list\n",
        "* __count()__\tReturns the number of elements with the specified value\n",
        "* __extend()__\tAdd the elements of a list (or any iterable), to the end of the current list\n",
        "* __index()__\tReturns the index of the first element with the specified value\n",
        "* __insert()__\tAdds an element at the specified position\n",
        "* __pop()__\tRemoves the element at the specified position\n",
        "* __remove()__\tRemoves the first item with the specified value\n",
        "* __reverse()__\tReverses the order of the list\n",
        "* __sort()__\tSorts the list\n"
      ]
    },
    {
      "cell_type": "code",
      "execution_count": null,
      "id": "8a977e0d-7df0-4c01-af70-b5408a350638",
      "metadata": {},
      "outputs": [],
      "source": [
        "foods.append('butter')\n",
        "foods"
      ]
    },
    {
      "cell_type": "code",
      "execution_count": null,
      "id": "4b5fdb6b-9f87-4916-99b1-34930af9b857",
      "metadata": {},
      "outputs": [],
      "source": [
        "foods.count('ham')  # how many"
      ]
    },
    {
      "cell_type": "markdown",
      "id": "6fd4d59b-b0f5-4a2d-bfbb-0a86b799ad80",
      "metadata": {},
      "source": [
        "### List assigments"
      ]
    },
    {
      "cell_type": "code",
      "execution_count": null,
      "id": "f7d0edb7-71f1-4e6c-84ec-1fbfa41b8ca8",
      "metadata": {},
      "outputs": [],
      "source": [
        "a = 10\n",
        "b = a\n",
        "a = 20\n",
        "b"
      ]
    },
    {
      "cell_type": "code",
      "execution_count": null,
      "id": "996aa19d-631b-4a3a-ab01-1d2bacb59638",
      "metadata": {},
      "outputs": [],
      "source": [
        "x = [1,2,3]\n",
        "y = x\n",
        "x.append(4)\n",
        "y"
      ]
    },
    {
      "cell_type": "code",
      "execution_count": null,
      "id": "b05a57de-1fda-42c5-86c1-3b21cd064397",
      "metadata": {},
      "outputs": [],
      "source": [
        "x = [1,2,3]\n",
        "y = x\n",
        "del x\n",
        "y"
      ]
    },
    {
      "cell_type": "code",
      "execution_count": null,
      "id": "f9c91201-4188-4859-8b47-0062ca9a1a9f",
      "metadata": {},
      "outputs": [],
      "source": [
        "x = [1,2,3]\n",
        "y = x[:]\n",
        "x.append(4)\n",
        "y"
      ]
    },
    {
      "cell_type": "code",
      "execution_count": null,
      "id": "5a947144-54c0-459e-a3ae-99f7eff6433b",
      "metadata": {},
      "outputs": [],
      "source": [
        "x = [1,2,3]\n",
        "y = x.copy()\n",
        "x.append(4)\n",
        "y"
      ]
    },
    {
      "cell_type": "markdown",
      "id": "69aba5d1-31e7-40d2-8b7a-ae8d937b50a6",
      "metadata": {},
      "source": [
        "### List Iterators"
      ]
    },
    {
      "cell_type": "code",
      "execution_count": null,
      "id": "e4016397-163c-4b78-ab4e-cf1c45dc24c1",
      "metadata": {},
      "outputs": [],
      "source": [
        "for f in foods:\n",
        "    print(f)"
      ]
    },
    {
      "cell_type": "code",
      "execution_count": null,
      "id": "65434b2b-3d9a-40fc-8697-ae5e88988e68",
      "metadata": {},
      "outputs": [],
      "source": [
        "# not a pythonic form\n",
        "\n",
        "i = 0\n",
        "for f in foods:\n",
        "    print(i, f)\n",
        "    i = i +1"
      ]
    },
    {
      "cell_type": "code",
      "execution_count": null,
      "id": "b1f42902-ebdc-487c-9330-3308629ab328",
      "metadata": {},
      "outputs": [],
      "source": [
        "for i, f in enumerate(foods):  # pair with count and value\n",
        "    print(i, f)"
      ]
    },
    {
      "cell_type": "code",
      "execution_count": null,
      "id": "5a4bc64b",
      "metadata": {},
      "outputs": [],
      "source": [
        "help(enumerate)"
      ]
    },
    {
      "cell_type": "markdown",
      "id": "49e763d3-24fe-47a4-8107-0af925fdfcc6",
      "metadata": {},
      "source": [
        "### List comprehension\n",
        "List comprehensions provide a concise way to create lists. Common applications are to make new lists where each element is the result of some operations applied to each member of another sequence or iterable, or to create a subsequence of those elements that satisfy a certain condition.\n",
        "\n",
        "https://docs.python.org/3/tutorial/datastructures.html#list-comprehensions"
      ]
    },
    {
      "cell_type": "code",
      "execution_count": null,
      "id": "618ccaf9-f9cb-48a4-a9b1-fa8aff617c22",
      "metadata": {},
      "outputs": [],
      "source": [
        "table = []\n",
        "for x in range(1, 11):\n",
        "    if x % 2  == 0:  # even number\n",
        "        table.append(x ** 2)\n",
        "\n",
        "table"
      ]
    },
    {
      "cell_type": "code",
      "execution_count": null,
      "id": "59dedddf-b97e-4f88-bfe4-5aee2d02bd79",
      "metadata": {},
      "outputs": [],
      "source": [
        "table = [x ** 2 for x in range(1, 11) if x % 2  == 0]\n",
        "table"
      ]
    },
    {
      "cell_type": "markdown",
      "id": "8834694c-a94a-4f48-af9f-5c2ade572901",
      "metadata": {},
      "source": [
        "## Dictionaries\n",
        "These represent finite sets of objects indexed by nearly arbitrary values.\n",
        "\n",
        "https://docs.python.org/3/reference/datamodel.html#dictionaries"
      ]
    },
    {
      "cell_type": "code",
      "execution_count": null,
      "id": "38602807-6d48-480d-a741-05f5f3610ef5",
      "metadata": {},
      "outputs": [],
      "source": [
        "croque_monsieur = { 'ham': 2, 'cheese': 1, 'bread': 2, 'bechamel': 1}\n",
        "type(croque_monsieur)"
      ]
    },
    {
      "cell_type": "code",
      "execution_count": null,
      "id": "a4aa244a-b208-4aae-8ef7-ad6a462e8bc9",
      "metadata": {},
      "outputs": [],
      "source": [
        "# get item by key\n",
        "croque_monsieur['bread']"
      ]
    },
    {
      "cell_type": "code",
      "execution_count": null,
      "id": "0bf816c7-5125-44de-bb42-e6fbd1163126",
      "metadata": {},
      "outputs": [],
      "source": [
        "# update\n",
        "croque_monsieur['ham'] = 1\n",
        "croque_monsieur"
      ]
    },
    {
      "cell_type": "code",
      "execution_count": null,
      "id": "052c1a7c-d74c-451f-818b-623127e36b00",
      "metadata": {},
      "outputs": [],
      "source": [
        "# add\n",
        "croque_monsieur['prosciutto'] = 1\n",
        "croque_monsieur"
      ]
    },
    {
      "cell_type": "code",
      "execution_count": null,
      "id": "dece805a-8591-4c9d-9dc2-3547d46b2c16",
      "metadata": {},
      "outputs": [],
      "source": [
        "# del\n",
        "del croque_monsieur['ham']\n",
        "croque_monsieur"
      ]
    },
    {
      "cell_type": "markdown",
      "id": "ce52f21c",
      "metadata": {},
      "source": [
        "### Francesinha\n",
        "\n",
        "_Desde há mais de 70 anos, entre os habitantes da cidade do Porto, está patente um facto notório e de conhecimento geral que é a sanduíche variação da sanduíche francesa __“croque-monsieur”__ ser a sanduíche mista quente e esta ter passado a ser mais conhecida pelo epíteto “francesinha” devido à sua origem francesa._\n",
        "\n",
        "https://pt.wikipedia.org/wiki/Francesinha\n",
        "\n",
        "![francesinha](https://upload.wikimedia.org/wikipedia/commons/thumb/c/c8/A_Francesinha_%285401346513%29.jpg/330px-A_Francesinha_%285401346513%29.jpg)\n"
      ]
    },
    {
      "cell_type": "markdown",
      "id": "95163b97-5841-4e2f-9da7-3bf36e8df7d9",
      "metadata": {},
      "source": [
        "### Dictionary methods\n",
        "\n",
        "* __clear()__\tRemoves all the elements from the dictionary\n",
        "* __copy()__\tReturns a copy of the dictionary\n",
        "* __fromkeys()__\tReturns a dictionary with the specified keys and value\n",
        "* __get()__\tReturns the value of the specified key\n",
        "* __items()__\tReturns a list containing a tuple for each key value pair\n",
        "* __keys()__\tReturns a list containing the dictionary's keys\n",
        "* __pop()__\tRemoves the element with the specified key\n",
        "* __popitem()__\tRemoves the last inserted key-value pair\n",
        "* __setdefault()__\tReturns the value of the specified key. If the key does not exist: insert the key, with the specified value\n",
        "* __update()__\tUpdates the dictionary with the specified key-value pairs\n",
        "* __values()__\tReturns a list of all the values in the dictionary"
      ]
    },
    {
      "cell_type": "code",
      "execution_count": null,
      "id": "5f332bec-c3fb-4542-adcb-83cacc5bba56",
      "metadata": {},
      "outputs": [],
      "source": [
        "croque_monsieur.keys()"
      ]
    },
    {
      "cell_type": "code",
      "execution_count": null,
      "id": "cc6ba386-dac8-462b-8fe5-8b3f57be4072",
      "metadata": {},
      "outputs": [],
      "source": [
        "croque_monsieur.values()"
      ]
    },
    {
      "cell_type": "markdown",
      "id": "16db8f49-a28e-4911-939e-c82669f4e315",
      "metadata": {},
      "source": [
        "### Dictionary iterators"
      ]
    },
    {
      "cell_type": "code",
      "execution_count": null,
      "id": "299bf64c-0352-49cd-933c-7ddff4ba1667",
      "metadata": {},
      "outputs": [],
      "source": [
        "for k in croque_monsieur:  # by keys\n",
        "    print(k)"
      ]
    },
    {
      "cell_type": "code",
      "execution_count": null,
      "id": "e7987ff3-be47-4e1c-b994-7b3ed34a6cb2",
      "metadata": {},
      "outputs": [],
      "source": [
        "for v in croque_monsieur.values():  # value\n",
        "    print(v)"
      ]
    },
    {
      "cell_type": "code",
      "execution_count": null,
      "id": "e94693b6-5877-4999-879b-e4baa04d3f64",
      "metadata": {},
      "outputs": [],
      "source": [
        "# With more pythonic variables\n",
        "for key, value in croque_monsieur.items():  # pack of two items\n",
        "    print(f'* {key:10} {value:3}')"
      ]
    },
    {
      "cell_type": "markdown",
      "id": "dcbd348c-e57d-4c04-be09-f1629935a5d8",
      "metadata": {},
      "source": [
        "## Tuples\n",
        "Tuples are immutable sequences, typically used to store collections of heterogeneous data.\n",
        "\n",
        "https://docs.python.org/3/library/stdtypes.html#tuples"
      ]
    },
    {
      "cell_type": "code",
      "execution_count": null,
      "id": "d67c3e60-4da7-4d4a-8f3d-4174dadedbfc",
      "metadata": {},
      "outputs": [],
      "source": [
        "quantities = (1, 1, 2, 1, 1)\n",
        "type(quantities)"
      ]
    },
    {
      "cell_type": "code",
      "execution_count": null,
      "id": "210ccc6d",
      "metadata": {},
      "outputs": [],
      "source": [
        "# tuple constructor\n",
        "quantities = tuple(croque_monsieur.values())\n",
        "quantities"
      ]
    },
    {
      "cell_type": "code",
      "execution_count": null,
      "id": "f794b54f",
      "metadata": {},
      "outputs": [],
      "source": [
        "not_a_tuple = (12)\n",
        "type(not_a_tuple)"
      ]
    },
    {
      "cell_type": "code",
      "execution_count": null,
      "id": "1456ac79",
      "metadata": {},
      "outputs": [],
      "source": [
        "now_a_tuple = (12,)\n",
        "type(now_a_tuple)"
      ]
    },
    {
      "cell_type": "code",
      "execution_count": null,
      "id": "4470c0a9",
      "metadata": {},
      "outputs": [],
      "source": [
        "also_a_tuple = 12,3\n",
        "type(also_a_tuple)"
      ]
    },
    {
      "cell_type": "markdown",
      "id": "93fdf66c",
      "metadata": {},
      "source": [
        "### Tuple methods\n",
        "\n",
        "* count\n",
        "* index"
      ]
    },
    {
      "cell_type": "code",
      "execution_count": null,
      "id": "28c6dcf8-01a6-4f20-b2de-716680f336b0",
      "metadata": {},
      "outputs": [],
      "source": [
        "# count\n",
        "quantities.count(1)  # how many number 1"
      ]
    },
    {
      "cell_type": "code",
      "execution_count": null,
      "id": "f7a0d010-8599-4b1b-a1d4-233f8df7d791",
      "metadata": {},
      "outputs": [],
      "source": [
        "quantities.index(2)  # where is number 2"
      ]
    },
    {
      "cell_type": "markdown",
      "id": "9f7baa6c",
      "metadata": {},
      "source": [
        "### Immutable programming\n",
        "\n",
        "https://en.wikipedia.org/wiki/Immutable_object"
      ]
    },
    {
      "cell_type": "code",
      "execution_count": null,
      "id": "e440ef90-ccc6-41cf-b898-ef531bdfbc52",
      "metadata": {},
      "outputs": [],
      "source": [
        "# tuples are immutable\n",
        "tup = (1,2) + (2,3)\n",
        "tup"
      ]
    },
    {
      "cell_type": "code",
      "execution_count": null,
      "id": "f145b2e7",
      "metadata": {},
      "outputs": [],
      "source": [
        "# The id is the object's memory address\n",
        "id(tup)"
      ]
    },
    {
      "cell_type": "code",
      "execution_count": null,
      "id": "86c4c885-c697-41d4-a8e3-b4dc6aea1dae",
      "metadata": {},
      "outputs": [],
      "source": [
        "tup = tup + (4,5)\n",
        "tup"
      ]
    },
    {
      "cell_type": "code",
      "execution_count": null,
      "id": "d39a67be",
      "metadata": {},
      "outputs": [],
      "source": [
        "# object is different\n",
        "id(tup)"
      ]
    },
    {
      "cell_type": "markdown",
      "id": "adde28b1",
      "metadata": {},
      "source": [
        "### Tuple generators"
      ]
    },
    {
      "cell_type": "code",
      "execution_count": null,
      "id": "07c4900b-be11-4d5f-a9f1-4b409b4ed076",
      "metadata": {},
      "outputs": [],
      "source": [
        "from sys import getsizeof\n",
        "\n",
        "l = [x for x in range(10) ]\n",
        "t = (x for x in range(10) )"
      ]
    },
    {
      "cell_type": "code",
      "execution_count": null,
      "id": "08a3a2ac-69ff-41f7-9e1c-d8e3f64d234e",
      "metadata": {},
      "outputs": [],
      "source": [
        "print(f'{getsizeof(l)=} Bytes')\n",
        "print(f'{getsizeof(t)=} Bytes')"
      ]
    },
    {
      "cell_type": "code",
      "execution_count": null,
      "id": "0735b8d6-d4f8-4b32-8804-b5b4dcdd6013",
      "metadata": {},
      "outputs": [],
      "source": [
        "# print list\n",
        "l"
      ]
    },
    {
      "cell_type": "code",
      "execution_count": null,
      "id": "2704b0f2-8756-4fb6-ab5c-00aa831eb11c",
      "metadata": {},
      "outputs": [],
      "source": [
        "# print tuple \n",
        "# <generator object <genexpr> at 0x7405fc278640>\n",
        "t"
      ]
    },
    {
      "cell_type": "code",
      "execution_count": null,
      "id": "72e81c7e-5ca2-479b-85ea-b74fcd232e56",
      "metadata": {},
      "outputs": [],
      "source": [
        "# need to iterate tuple\n",
        "for number in t:\n",
        "    print(number, end=', ')\n",
        "print('END')"
      ]
    },
    {
      "cell_type": "markdown",
      "id": "d188aa0c-eb4c-4c51-81fb-96da8c4984e5",
      "metadata": {},
      "source": [
        "## Sets\n",
        "Python also includes a data type for sets. A set is an unordered collection with no duplicate elements. Basic uses include membership testing and eliminating duplicate entries. Set objects also support mathematical operations like union, intersection, difference, and symmetric difference.\n",
        "\n",
        "https://docs.python.org/3/tutorial/datastructures.html#sets\n",
        "\n",
        "\n",
        "## Venn diagrams\n",
        "\n",
        "https://en.wikipedia.org/wiki/Venn_diagram\n",
        "\n",
        "![venn-diagram](https://upload.wikimedia.org/wikipedia/commons/thumb/7/76/Venn_diagram_of_legs_and_flying.svg/330px-Venn_diagram_of_legs_and_flying.svg.png)"
      ]
    },
    {
      "cell_type": "code",
      "execution_count": null,
      "id": "8edbb6e0-0217-4809-8983-14d3685268b6",
      "metadata": {},
      "outputs": [],
      "source": [
        "croque_monsieur_ingredients = {'bechamel', 'bread', 'cheese', 'prosciutto'}\n",
        "francesinha_ingredients = {'sausages', 'steaks', 'bread', 'cheese', 'ham', 'eggs', 'bechamel'}\n",
        "type(francesinha_ingredients)"
      ]
    },
    {
      "cell_type": "code",
      "execution_count": null,
      "id": "74f75f04",
      "metadata": {},
      "outputs": [],
      "source": [
        "# set constructor\n",
        "croque_monsieur_ingredients = set(croque_monsieur)\n",
        "croque_monsieur_ingredients"
      ]
    },
    {
      "cell_type": "markdown",
      "id": "cc4a82fb",
      "metadata": {},
      "source": [
        "$$ Intersection = A \\cap B $$\n",
        "\n",
        "\n",
        "![Intersection](https://upload.wikimedia.org/wikipedia/commons/thumb/9/99/Venn0001.svg/270px-Venn0001.svg.png)"
      ]
    },
    {
      "cell_type": "code",
      "execution_count": null,
      "id": "2f125f1b-1869-481a-8f02-154989c03e75",
      "metadata": {},
      "outputs": [],
      "source": [
        "# common ingredients\n",
        "croque_monsieur_ingredients.intersection(francesinha_ingredients)"
      ]
    },
    {
      "cell_type": "markdown",
      "id": "0ca3ab41",
      "metadata": {},
      "source": [
        "$$ Union = A \\cup B $$\n",
        "\n",
        "![union](https://upload.wikimedia.org/wikipedia/commons/thumb/3/30/Venn0111.svg/270px-Venn0111.svg.png)"
      ]
    },
    {
      "cell_type": "code",
      "execution_count": null,
      "id": "ab2cbab8-32b7-4602-b329-47133b6a0bfe",
      "metadata": {},
      "outputs": [],
      "source": [
        "croque_monsieur_ingredients.union(francesinha_ingredients)"
      ]
    },
    {
      "cell_type": "code",
      "execution_count": null,
      "id": "7ba78b0f-7645-449d-bc90-00ebbc5dee58",
      "metadata": {},
      "outputs": [],
      "source": [
        "# What is on croque_monsieur that is not on francesinha\n",
        "croque_monsieur_ingredients.difference(francesinha_ingredients)"
      ]
    },
    {
      "cell_type": "code",
      "execution_count": null,
      "id": "a7728e6b-c5ab-4687-be3f-794486617a89",
      "metadata": {},
      "outputs": [],
      "source": [
        "# Example: Create a new \"francesinha\" that as all that is common to both \n",
        "#          but does not include what is diferente from \"croque_monsieur\" and \"francesinha\"\n",
        "\n",
        "# Solution\n",
        "croque_monsieur_ingredients.union(francesinha_ingredients) - \\\n",
        "    croque_monsieur_ingredients.difference(francesinha_ingredients)"
      ]
    },
    {
      "cell_type": "markdown",
      "id": "67d5501c",
      "metadata": {},
      "source": [
        "## Are you finish?\n",
        "\n",
        "![spam](https://upload.wikimedia.org/wikipedia/commons/thumb/a/ae/Spam_wall_-_Flickr_-_freezelight.jpg/330px-Spam_wall_-_Flickr_-_freezelight.jpg)\n",
        "\n",
        "__YES__"
      ]
    },
    {
      "cell_type": "code",
      "execution_count": null,
      "id": "e6c74817",
      "metadata": {},
      "outputs": [],
      "source": [
        "# How to finish with more spam\n",
        "\n",
        "for x in range(10):\n",
        "    print('spam ' * 10)"
      ]
    }
  ],
  "metadata": {
    "kernelspec": {
      "display_name": "Python 3 (ipykernel)",
      "language": "python",
      "name": "python3"
    },
    "language_info": {
      "codemirror_mode": {
        "name": "ipython",
        "version": 3
      },
      "file_extension": ".py",
      "mimetype": "text/x-python",
      "name": "python",
      "nbconvert_exporter": "python",
      "pygments_lexer": "ipython3",
      "version": "3.12.3"
    }
  },
  "nbformat": 4,
  "nbformat_minor": 5
}