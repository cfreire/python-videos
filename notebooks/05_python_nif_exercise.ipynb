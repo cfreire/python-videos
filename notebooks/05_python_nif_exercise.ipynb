{
  "cells": [
    {
      "cell_type": "markdown",
      "id": "9990ae26",
      "metadata": {},
      "source": [
        "# Python exercise\n",
        "\n",
        "```txt\n",
        "       video:  5\n",
        "       title:  Python exercise\n",
        "      author:  César Freire <cesar.freire@training.rumos.pt>\n",
        "   reviewers:  Ana Felizardo, Paulo Martins\n",
        "affiliations:  Rumos Formação\n",
        "```\n"
      ]
    },
    {
      "cell_type": "markdown",
      "id": "ac88d0f6",
      "metadata": {},
      "source": [
        "## Introduction\n",
        "\n",
        "### How to validate \"Número de identificação fiscal\" aka NIF\n",
        "https://pt.wikipedia.org/wiki/N%C3%BAmero_de_identifica%C3%A7%C3%A3o_fiscal\n",
        "\n",
        "### The Verhoeff algorithm\n",
        "https://en.wikipedia.org/wiki/Verhoeff_algorithm\n",
        "\n",
        "---\n",
        "\n",
        "## NIF Validator calculations\n",
        "RUMOS NIF: 502624558\n",
        "\n",
        "\n",
        "        5   0   2   6   2   4   5   5   8 \n",
        "        9   8   7   6   5   4   3   2   1 \n",
        "        ----------------------------------\n",
        "        45  0  14  36  10  16  15  10   8 = Sum(154) mod 11 == 0  \n"
      ]
    },
    {
      "cell_type": "code",
      "execution_count": null,
      "id": "2bca9037",
      "metadata": {},
      "outputs": [],
      "source": [
        "# code\n",
        "nif = '502624558'\n",
        "\n",
        "total = []\n",
        "pos = 0\n",
        "\n",
        "for digit in nif:\n",
        "    mul = int(digit) * (9-pos)\n",
        "    total.append(mul)  # add lo list\n",
        "    print(f'>>> {9-pos} x {int(digit)} = {mul:02}') \n",
        "    pos = pos + 1\n",
        "\n",
        "total"
      ]
    },
    {
      "cell_type": "code",
      "execution_count": null,
      "id": "89c88f2a",
      "metadata": {},
      "outputs": [],
      "source": [
        "# code\n",
        "sum(total) % 11"
      ]
    },
    {
      "cell_type": "markdown",
      "id": "f0f7af16",
      "metadata": {},
      "source": [
        "### Reduce code enumerate"
      ]
    },
    {
      "cell_type": "code",
      "execution_count": null,
      "id": "03153961",
      "metadata": {},
      "outputs": [],
      "source": [
        "# code\n",
        "total = []\n",
        "for pos, digit in enumerate(nif):\n",
        "    total.append( int(digit) * (9-pos) )\n",
        "\n",
        "sum(total) % 11"
      ]
    },
    {
      "cell_type": "markdown",
      "id": "06321967",
      "metadata": {},
      "source": [
        "### Better with a tuple comprehension"
      ]
    },
    {
      "cell_type": "code",
      "execution_count": null,
      "id": "108b0747",
      "metadata": {},
      "outputs": [],
      "source": [
        "# code\n",
        "total = sum(int(digit) * (9-pos) for pos, digit in enumerate(nif) )\n",
        "\n",
        "total % 11 == 0"
      ]
    },
    {
      "cell_type": "markdown",
      "id": "6ec1af37",
      "metadata": {},
      "source": [
        "### Move it to a function\n",
        "\n",
        "- reuse\n",
        "- simplicity\n",
        "- testing"
      ]
    },
    {
      "cell_type": "code",
      "execution_count": null,
      "id": "27cf7bae",
      "metadata": {},
      "outputs": [],
      "source": [
        "# code\n",
        "def validate_nif(nif: str) -> bool:\n",
        "    \"\"\" Validates NIF number \"\"\"\n",
        "    total = sum( int(digit) * (9 - pos) for pos, digit in enumerate(nif) )\n",
        "    return total % 11 == 0"
      ]
    },
    {
      "cell_type": "code",
      "execution_count": null,
      "id": "a706d011",
      "metadata": {},
      "outputs": [],
      "source": [
        "validate_nif(nif='999999999') # False"
      ]
    },
    {
      "cell_type": "code",
      "execution_count": null,
      "id": "40690d52",
      "metadata": {},
      "outputs": [],
      "source": [
        "validate_nif(nif='999999990') # True"
      ]
    },
    {
      "cell_type": "markdown",
      "id": "b55da3f8",
      "metadata": {},
      "source": [
        "### Improve function resilience to bad arguments"
      ]
    },
    {
      "cell_type": "code",
      "execution_count": null,
      "id": "4a317544",
      "metadata": {},
      "outputs": [],
      "source": [
        "def validate_nif(nif: str) -> bool:\n",
        "    \"\"\" Validates PT NIF \"\"\"\n",
        "    \n",
        "    # test for length and type\n",
        "    if len(nif) != 9 or not nif.isdigit():\n",
        "        return False\n",
        "    \n",
        "    # test first digit \n",
        "    if nif[0] not in '12356789':\n",
        "        return False\n",
        "    \n",
        "    total = sum( int(digit) * (9 - pos) for pos, digit in enumerate(nif) )\n",
        "    return total % 11 == 0\n"
      ]
    },
    {
      "cell_type": "code",
      "execution_count": null,
      "id": "60bcb161",
      "metadata": {},
      "outputs": [],
      "source": [
        "validate_nif('99999999O')  # 'O' not '0' at the end"
      ]
    },
    {
      "cell_type": "markdown",
      "id": "2dd15b9c",
      "metadata": {},
      "source": [
        "### Do more testings with other resources\n",
        "Get a list of public NIF values\n",
        "\n",
        "https://seonline.isca.ua.pt/se/loja/modelos/NIF-V%C3%A1lidos.pdf"
      ]
    },
    {
      "cell_type": "code",
      "execution_count": null,
      "id": "e19bb12e",
      "metadata": {},
      "outputs": [],
      "source": [
        "def convert_txt_to_list(file_name: str) -> list:\n",
        "    \"\"\" Converts a txt file to a list \"\"\"\n",
        "\n",
        "    with open(file_name) as file:\n",
        "        nif_list = [line.strip().split() for  line in file]\n",
        "        flat_list = [item for sublist in nif_list for item in sublist]\n",
        "    return flat_list\n",
        "\n",
        "convert_txt_to_list('nif_list.txt')"
      ]
    },
    {
      "cell_type": "markdown",
      "id": "8cb3daee",
      "metadata": {},
      "source": [
        "### Count the number of False's"
      ]
    },
    {
      "cell_type": "code",
      "execution_count": null,
      "id": "9d87a020",
      "metadata": {},
      "outputs": [],
      "source": [
        "result = [validate_nif(nif) for nif in convert_txt_to_list('nif_list.txt')]\n",
        "result.count(False) / len(result) * 100"
      ]
    },
    {
      "cell_type": "markdown",
      "id": "ea1370e3",
      "metadata": {},
      "source": [
        "### Try to find the problem"
      ]
    },
    {
      "cell_type": "code",
      "execution_count": null,
      "id": "91433283",
      "metadata": {},
      "outputs": [],
      "source": [
        "map = { chr(48+number):0 for number in range(10) }\n",
        "\n",
        "for nif in convert_txt_to_list('nif_list.txt'):\n",
        "    last_digit = nif[-1]\n",
        "    if validate_nif(nif) == False:\n",
        "        map[last_digit] += 1\n",
        "\n",
        "map"
      ]
    },
    {
      "cell_type": "markdown",
      "id": "835c6a12",
      "metadata": {},
      "source": [
        "### Correct the function to solve 0/10 problem\n",
        "Final version"
      ]
    },
    {
      "cell_type": "code",
      "execution_count": null,
      "id": "4636ce95",
      "metadata": {},
      "outputs": [],
      "source": [
        "def validate_nif(nif):\n",
        "    \"\"\" Validates PT NIF \"\"\"\n",
        "    \n",
        "    if len(nif) != 9 or not nif.isdigit():\n",
        "        return False\n",
        "    \n",
        "    if nif[0] not in '12356789':\n",
        "        return False\n",
        "\n",
        "    total = sum( int(digit) * (9 - pos) for pos, digit in enumerate(nif) )\n",
        "\n",
        "    # correct 0/10 problem\n",
        "    if total % 11 == 1 and nif[-1] == '0':\n",
        "        total += 10\n",
        "\n",
        "    return total % 11 == 0"
      ]
    },
    {
      "cell_type": "code",
      "execution_count": null,
      "id": "71fca8b7",
      "metadata": {},
      "outputs": [],
      "source": [
        "# test again\n",
        "assert validate_nif('192453670') == True "
      ]
    },
    {
      "cell_type": "code",
      "execution_count": null,
      "id": "e50ccb4b",
      "metadata": {},
      "outputs": [],
      "source": [
        "# see if you got it right\n",
        "result = [validate_nif(nif) for nif in convert_txt_to_list('nif_list.txt')]\n",
        "result.count(False) / sum(result) * 100"
      ]
    }
  ],
  "metadata": {
    "kernelspec": {
      "display_name": "venv",
      "language": "python",
      "name": "python3"
    },
    "language_info": {
      "codemirror_mode": {
        "name": "ipython",
        "version": 3
      },
      "file_extension": ".py",
      "mimetype": "text/x-python",
      "name": "python",
      "nbconvert_exporter": "python",
      "pygments_lexer": "ipython3",
      "version": "3.12.3"
    }
  },
  "nbformat": 4,
  "nbformat_minor": 5
}
