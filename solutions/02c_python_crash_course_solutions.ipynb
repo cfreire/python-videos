{
  "cells": [
    {
      "cell_type": "markdown",
      "metadata": {},
      "source": [
        "# Python core solutions\n",
        "\n",
        "```txt\n",
        "       video:  2\n",
        "       title:  Python core solutions\n",
        "      author:  César Freire <cesar.freire@training.rumos.pt>\n",
        "   reviewers:  Ana Felizardo, Paulo Martins\n",
        "affiliations:  Rumos Formação\n",
        "```"
      ]
    },
    {
      "cell_type": "code",
      "execution_count": 5,
      "metadata": {},
      "outputs": [
        {
          "data": {
            "text/plain": [
              "27.984"
            ]
          },
          "execution_count": 5,
          "metadata": {},
          "output_type": "execute_result"
        }
      ],
      "source": [
        "# Ex. 1 (best solution)\n",
        "x = 2.3\n",
        "y = 4\n",
        "round(x ** y, 3)"
      ]
    },
    {
      "cell_type": "code",
      "execution_count": 4,
      "metadata": {},
      "outputs": [
        {
          "data": {
            "text/plain": [
              "'QUICK BROWN FOX JUMPS OVER THE LAZY'"
            ]
          },
          "execution_count": 4,
          "metadata": {},
          "output_type": "execute_result"
        }
      ],
      "source": [
        "# Ex. 2\n",
        "\n",
        "text = 'The quick brown fox jumps over the lazy dog'\n",
        "\n",
        "text.upper()[4:-4]"
      ]
    },
    {
      "cell_type": "code",
      "execution_count": 3,
      "metadata": {},
      "outputs": [
        {
          "name": "stdout",
          "output_type": "stream",
          "text": [
            "major=3, minor=12\n"
          ]
        }
      ],
      "source": [
        "# code Ex. 3\n",
        "\n",
        "from sys import version_info\n",
        "\n",
        "print(f'major={version_info.major}, minor={version_info.minor}')"
      ]
    },
    {
      "cell_type": "code",
      "execution_count": 2,
      "metadata": {},
      "outputs": [
        {
          "name": "stdout",
          "output_type": "stream",
          "text": [
            "fibonacci: 0, 1, 1, 2, 3, 5, 8, 13, 21, 34, 55, 89, "
          ]
        }
      ],
      "source": [
        "# code Ex. 4\n",
        "\n",
        "n = 100\n",
        "a, b = 0, 1\n",
        "print('fibonacci:', 0, end=', ')\n",
        "\n",
        "while b <= n:\n",
        "    print(b, end=', ')\n",
        "    a, b = b, a + b"
      ]
    }
  ],
  "metadata": {
    "kernelspec": {
      "display_name": "venv",
      "language": "python",
      "name": "python3"
    },
    "language_info": {
      "codemirror_mode": {
        "name": "ipython",
        "version": 3
      },
      "file_extension": ".py",
      "mimetype": "text/x-python",
      "name": "python",
      "nbconvert_exporter": "python",
      "pygments_lexer": "ipython3",
      "version": "3.12.3"
    }
  },
  "nbformat": 4,
  "nbformat_minor": 2
}
