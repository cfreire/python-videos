{
  "cells": [
    {
      "cell_type": "markdown",
      "metadata": {},
      "source": [
        "# Python functions solutions\n",
        "\n",
        "```txt\n",
        "       video:  4\n",
        "       title:  Python functions solutions\n",
        "      author:  César Freire <cesar.freire@training.rumos.pt>\n",
        "   reviewers:  Ana Felizardo, Paulo Martins\n",
        "affiliations:  Rumos Formação\n",
        "```"
      ]
    },
    {
      "cell_type": "markdown",
      "metadata": {},
      "source": [
        "## Ex.1 (Sol)"
      ]
    },
    {
      "cell_type": "code",
      "execution_count": 10,
      "metadata": {},
      "outputs": [
        {
          "data": {
            "text/plain": [
              "1.414"
            ]
          },
          "execution_count": 10,
          "metadata": {},
          "output_type": "execute_result"
        }
      ],
      "source": [
        "from math import sqrt\n",
        "\n",
        "def square_root(x:int, digits=3) -> float:\n",
        "    \"\"\" Rounded square root \"\"\"\n",
        "    # code here\n",
        "    return round(sqrt(x), digits)\n",
        "\n",
        "square_root(2)"
      ]
    },
    {
      "cell_type": "markdown",
      "metadata": {},
      "source": [
        "## Ex.2 (Sol)"
      ]
    },
    {
      "cell_type": "code",
      "execution_count": 14,
      "metadata": {},
      "outputs": [
        {
          "data": {
            "text/plain": [
              "'data_from_server1.txt'"
            ]
          },
          "execution_count": 14,
          "metadata": {},
          "output_type": "execute_result"
        }
      ],
      "source": [
        "# Code Ex. 2 \n",
        "def snake_case(text: str) -> str:\n",
        "    \"\"\" Converts a string to snake_case \"\"\"\n",
        "\n",
        "    return text.lower().replace(' ', '_')\n",
        "\n",
        "snake_case('Data from Server1.txt')"
      ]
    },
    {
      "cell_type": "markdown",
      "metadata": {},
      "source": [
        "## Ex.3 (Sol)"
      ]
    },
    {
      "cell_type": "code",
      "execution_count": 13,
      "metadata": {},
      "outputs": [
        {
          "data": {
            "text/plain": [
              "[0, 1, 1, 2, 3, 5, 8, 13, 21, 34, 55, 89, 144]"
            ]
          },
          "execution_count": 13,
          "metadata": {},
          "output_type": "execute_result"
        }
      ],
      "source": [
        "# Code Ex.3\n",
        "def fibonacci(n: int) -> list:\n",
        "    \"\"\" Fibonacci sequence \"\"\"\n",
        "\n",
        "    fibo = [0]\n",
        "    a, b = 0, 1\n",
        "    while b <= n:\n",
        "        fibo.append(b)\n",
        "        a, b = b, a + b\n",
        "    return fibo\n",
        "\n",
        "fibonacci(200)"
      ]
    },
    {
      "cell_type": "markdown",
      "metadata": {},
      "source": [
        "## Ex.4 (Sol)"
      ]
    },
    {
      "cell_type": "code",
      "execution_count": 1,
      "metadata": {},
      "outputs": [
        {
          "name": "stdout",
          "output_type": "stream",
          "text": [
            "Great job!\n"
          ]
        }
      ],
      "source": [
        "# code Ex.4\n",
        "\n",
        "def is_leap_year(year):\n",
        "    leap = False\n",
        "    \n",
        "     # Check if the year is divisible by 4\n",
        "    if year % 4 == 0:\n",
        "        # Check if the year is divisible by 100\n",
        "        if year % 100 == 0:\n",
        "            # Check if the year is divisible by 400\n",
        "            if year % 400 == 0:\n",
        "                return True\n",
        "            else:\n",
        "                return False\n",
        "        else:\n",
        "            return True\n",
        "    else:\n",
        "        return False\n",
        "\n",
        "# Example usage\n",
        "assert is_leap_year(2024) == True\n",
        "assert is_leap_year(1900) == False \n",
        "assert is_leap_year(2000) == True\n",
        "assert is_leap_year(2023) == False\n",
        "print('Great job!')"
      ]
    }
  ],
  "metadata": {
    "kernelspec": {
      "display_name": "venv",
      "language": "python",
      "name": "python3"
    },
    "language_info": {
      "codemirror_mode": {
        "name": "ipython",
        "version": 3
      },
      "file_extension": ".py",
      "mimetype": "text/x-python",
      "name": "python",
      "nbconvert_exporter": "python",
      "pygments_lexer": "ipython3",
      "version": "3.12.3"
    }
  },
  "nbformat": 4,
  "nbformat_minor": 2
}
