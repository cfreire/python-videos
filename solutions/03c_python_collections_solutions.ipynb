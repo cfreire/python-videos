{
 "cells": [
  {
   "cell_type": "markdown",
   "metadata": {},
   "source": [
    "# Python collections solutions\n",
    "\n",
    "```txt\n",
    "       video:  3\n",
    "       title:  Python collections solutions\n",
    "      author:  César Freire <cesar.freire@training.rumos.pt>\n",
    "   reviewers:  Ana Felizardo, Paulo Martins\n",
    "affiliations:  Rumos Formação\n",
    "```"
   ]
  },
  {
   "cell_type": "markdown",
   "metadata": {},
   "source": [
    "## Ex.1 (Sol)"
   ]
  },
  {
   "cell_type": "code",
   "execution_count": null,
   "metadata": {},
   "outputs": [],
   "source": [
    "# code Ex. 1\n",
    "\n",
    "from statistics import mean\n",
    "\n",
    "brent_price = [54.06, 53.23, 55.64, 57.1, 56.91, 59.46, 60.47, 59.24, 58.8, 58.65, 59.81, \n",
    "59.85, 62.04, 62.18, 60.9, 61.05, 61.09, 61.49, 59.71, 60.98, 61.89, 62.46, 61.86, 62.26, \n",
    "61.67, 62.22, 61.01, 61.37, 61.3, 62.58, 63.27, 64.0, 65.65, 66.41, 65.86, 66.82, 66.91, \n",
    "66.91, 64.02, 64.51, 65.55, 65.03, 63.71, 64.44, 64.24, 64.51, 64.82, 65.66, 65.06, 65.33, \n",
    "65.89, 66.18, 66.11, 66.65, 67.13, 68.35, 68.3, 66.29, 67.37, 67.51, 67.35, 66.08, 67.93, \n",
    "69.08]\n",
    "\n",
    "days = 10\n",
    "\n",
    "print(f'First {days} days mean: {mean(brent_price[:10]):.2f} USD')\n",
    "print(f'Last {days} days mean: {mean(brent_price[-10:]):.2f} USD')\n",
    "print(f'All {len(brent_price)} days mean: {mean(brent_price):.2f} USD')"
   ]
  },
  {
   "cell_type": "markdown",
   "metadata": {},
   "source": [
    "---"
   ]
  },
  {
   "cell_type": "markdown",
   "metadata": {},
   "source": [
    "## Ex.2 (Sol)"
   ]
  },
  {
   "cell_type": "code",
   "execution_count": 6,
   "metadata": {},
   "outputs": [],
   "source": [
    "# Code Ex. 2\n",
    "currencies = { 'USD': 0.92, 'GBP': 1.17, 'AOA': 0.0011, 'BTC': 58_290.94 }"
   ]
  },
  {
   "cell_type": "code",
   "execution_count": 14,
   "metadata": {},
   "outputs": [],
   "source": [
    "# NOTE on Jupyter.org \"input\" as to be prefix with \"await\" and in one empty code cell \n",
    "\n",
    "coin = input('Currency:')"
   ]
  },
  {
   "cell_type": "code",
   "execution_count": null,
   "metadata": {},
   "outputs": [],
   "source": [
    "# verify if currency exists\n",
    "coin = coin.upper()  # convert into upper case\n",
    "if coin not in currencies.keys():\n",
    "  print('Coin not in dictionary!')\n",
    "else:\n",
    "  print(coin)"
   ]
  },
  {
   "cell_type": "code",
   "execution_count": 9,
   "metadata": {},
   "outputs": [],
   "source": [
    "# NOTE on Jupyter.org input as to be prefix with \"await\" and in one empty code cell \n",
    "\n",
    "value = input('Value:')"
   ]
  },
  {
   "cell_type": "code",
   "execution_count": null,
   "metadata": {},
   "outputs": [],
   "source": [
    "# Convert str from input to float\n",
    "try:\n",
    "  value = float(value)\n",
    "  print(f'{value:.2f} {coin} -> {currencies[coin] * value:.2f} EUR')\n",
    "except ValueError:\n",
    "  print('Only numbers. DUDE!')\n",
    "except KeyError:\n",
    "  print('Coin not in dictionary!')\n"
   ]
  },
  {
   "cell_type": "markdown",
   "metadata": {},
   "source": [
    "---"
   ]
  },
  {
   "cell_type": "markdown",
   "metadata": {},
   "source": [
    "## Ex.3 (Sol)"
   ]
  },
  {
   "cell_type": "code",
   "execution_count": 3,
   "metadata": {},
   "outputs": [],
   "source": [
    "# Code Ex. 3\n",
    "\n",
    "import json\n",
    "\n",
    "file_name = '../data/obs-surface.geojson'\n",
    "\n",
    "# Opening JSON file\n",
    "f = open(file_name)\n",
    "\n",
    "# returns JSON object as a dictionary\n",
    "data = json.load(f)\n",
    "\n",
    "# Closing file\n",
    "f.close()"
   ]
  },
  {
   "cell_type": "code",
   "execution_count": 6,
   "metadata": {},
   "outputs": [
    {
     "data": {
      "text/plain": [
       "[22.1, 24.2, 22.3]"
      ]
     },
     "execution_count": 6,
     "metadata": {},
     "output_type": "execute_result"
    }
   ],
   "source": [
    "table = []  # list comprehension\n",
    "id_ = 7240919  # Lisboa \n",
    "\n",
    "for item in data['features']:\n",
    "  if item['properties']['idEstacao'] == id_:\n",
    "    table.append(item['properties']['temperatura'])\n",
    "\n",
    "table"
   ]
  },
  {
   "cell_type": "code",
   "execution_count": 7,
   "metadata": {},
   "outputs": [
    {
     "data": {
      "text/plain": [
       "22.87"
      ]
     },
     "execution_count": 7,
     "metadata": {},
     "output_type": "execute_result"
    }
   ],
   "source": [
    "from statistics import mean\n",
    "\n",
    "round(mean(table),2)"
   ]
  },
  {
   "cell_type": "markdown",
   "metadata": {},
   "source": [
    "---"
   ]
  },
  {
   "cell_type": "markdown",
   "metadata": {},
   "source": [
    "## Ex.4 (Sol)"
   ]
  },
  {
   "cell_type": "code",
   "execution_count": 9,
   "metadata": {},
   "outputs": [],
   "source": [
    "\n",
    "exam = ('A', 'B', 'C', 'A', 'A', 'B', 'C', 'D', 'D', 'D', \n",
    "        'D', 'B', 'C', 'B', 'C', 'B', 'D', 'C', 'A', 'D', \n",
    "        'A', 'D', 'C', 'C', 'D', 'A', 'A', 'A', 'A', 'D', \n",
    "        'D', 'A', 'A', 'D', 'C', 'B', 'B', 'A', 'C', 'C')"
   ]
  },
  {
   "cell_type": "code",
   "execution_count": 11,
   "metadata": {},
   "outputs": [
    {
     "data": {
      "text/plain": [
       "{'A': 12, 'B': 7, 'C': 10, 'D': 11}"
      ]
     },
     "execution_count": 11,
     "metadata": {},
     "output_type": "execute_result"
    }
   ],
   "source": [
    "results = {'A':0, 'B':0, 'C':0, 'D':0}\n",
    "\n",
    "for x in exam:\n",
    "    results[x] += 1\n",
    "\n",
    "results"
   ]
  },
  {
   "cell_type": "code",
   "execution_count": 12,
   "metadata": {},
   "outputs": [
    {
     "ename": "ModuleNotFoundError",
     "evalue": "No module named 'scipy'",
     "output_type": "error",
     "traceback": [
      "\u001b[0;31m---------------------------------------------------------------------------\u001b[0m",
      "\u001b[0;31mModuleNotFoundError\u001b[0m                       Traceback (most recent call last)",
      "Cell \u001b[0;32mIn[12], line 1\u001b[0m\n\u001b[0;32m----> 1\u001b[0m \u001b[38;5;28;01mfrom\u001b[39;00m \u001b[38;5;21;01mscipy\u001b[39;00m \u001b[38;5;28;01mimport\u001b[39;00m stats\n\u001b[1;32m      3\u001b[0m \u001b[38;5;66;03m# Observed frequencies\u001b[39;00m\n\u001b[1;32m      4\u001b[0m observed_frequencies \u001b[38;5;241m=\u001b[39m (\u001b[38;5;241m7\u001b[39m, \u001b[38;5;241m11\u001b[39m, \u001b[38;5;241m12\u001b[39m, \u001b[38;5;241m10\u001b[39m)\n",
      "\u001b[0;31mModuleNotFoundError\u001b[0m: No module named 'scipy'"
     ]
    }
   ],
   "source": [
    "from scipy import stats\n",
    "\n",
    "# Observed frequencies\n",
    "observed_frequencies = (7, 11, 12, 10)\n",
    "\n",
    "# Expected frequencies\n",
    "expected_frequencies = (10, 10, 10, 10)\n",
    "\n",
    "# Perform the chi-squared test\n",
    "chi2, p = stats.chisquare(observed_frequencies, f_exp=expected_frequencies)\n",
    "\n",
    "# Print the test statistic and p-value\n",
    "print(\"Chi-squared test statistic:\", chi2)\n",
    "print(\"p-value:\", p)"
   ]
  }
 ],
 "metadata": {
  "kernelspec": {
   "display_name": "venv",
   "language": "python",
   "name": "python3"
  },
  "language_info": {
   "codemirror_mode": {
    "name": "ipython",
    "version": 3
   },
   "file_extension": ".py",
   "mimetype": "text/x-python",
   "name": "python",
   "nbconvert_exporter": "python",
   "pygments_lexer": "ipython3",
   "version": "3.12.3"
  }
 },
 "nbformat": 4,
 "nbformat_minor": 2
}
