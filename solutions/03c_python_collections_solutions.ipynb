{
  "metadata": {
    "kernelspec": {
      "name": "python",
      "display_name": "Python (Pyodide)",
      "language": "python"
    },
    "language_info": {
      "codemirror_mode": {
        "name": "python",
        "version": 3
      },
      "file_extension": ".py",
      "mimetype": "text/x-python",
      "name": "python",
      "nbconvert_exporter": "python",
      "pygments_lexer": "ipython3",
      "version": "3.8"
    }
  },
  "nbformat_minor": 4,
  "nbformat": 4,
  "cells": [
    {
      "cell_type": "markdown",
      "source": "# Python collections solutions\n\n```txt\n       video:  3\n       title:  Python collections solutions\n      author:  César Freire <cesar.freire@training.rumos.pt>\n   reviewers:  Ana Felizardo, Paulo Martins\naffiliations:  Rumos Formação\n```",
      "metadata": {}
    },
    {
      "cell_type": "markdown",
      "source": "## Ex.1 (Sol)",
      "metadata": {}
    },
    {
      "cell_type": "code",
      "source": "# code Ex. 1\n\nfrom statistics import mean\n\nbrent_price = [54.06, 53.23, 55.64, 57.1, 56.91, 59.46, 60.47, 59.24, 58.8, 58.65, 59.81, \n59.85, 62.04, 62.18, 60.9, 61.05, 61.09, 61.49, 59.71, 60.98, 61.89, 62.46, 61.86, 62.26, \n61.67, 62.22, 61.01, 61.37, 61.3, 62.58, 63.27, 64.0, 65.65, 66.41, 65.86, 66.82, 66.91, \n66.91, 64.02, 64.51, 65.55, 65.03, 63.71, 64.44, 64.24, 64.51, 64.82, 65.66, 65.06, 65.33, \n65.89, 66.18, 66.11, 66.65, 67.13, 68.35, 68.3, 66.29, 67.37, 67.51, 67.35, 66.08, 67.93, \n69.08]\n\ndays = 10\n\nprint(f'First {days} days mean: {mean(brent_price[:10]):.2f} USD')\nprint(f'Last {days} days mean: {mean(brent_price[-10:]):.2f} USD')\nprint(f'All {len(brent_price)} days mean: {mean(brent_price):.2f} USD')",
      "metadata": {
        "trusted": true
      },
      "outputs": [
        {
          "name": "stdout",
          "text": "First 10 days mean: 57.36 USD\nLast 10 days mean: 67.54 USD\nAll 64 days mean: 63.19 USD\n",
          "output_type": "stream"
        }
      ],
      "execution_count": 1
    },
    {
      "cell_type": "markdown",
      "source": "---",
      "metadata": {}
    },
    {
      "cell_type": "markdown",
      "source": "## Ex.2 (Sol)",
      "metadata": {}
    },
    {
      "cell_type": "code",
      "source": "# Code Ex. 2\ncurrencies = { 'USD': 0.92, 'GBP': 1.17, 'AOA': 0.0011, 'BTC': 58_290.94 }",
      "metadata": {
        "trusted": true
      },
      "outputs": [],
      "execution_count": 2
    },
    {
      "cell_type": "code",
      "source": "# NOTE on Jupyter.org \"input\" as to be prefix with \"await\" and in one empty code cell \n\ncoin = await input('Currency:')",
      "metadata": {
        "trusted": true
      },
      "outputs": [
        {
          "output_type": "stream",
          "name": "stdin",
          "text": "Currency: usd\n"
        }
      ],
      "execution_count": 3
    },
    {
      "cell_type": "code",
      "source": "# verify if currency exists\ncoin = coin.upper()  # convert into upper case\nif coin not in currencies.keys():\n  print('Coin not in dictionary!')\nelse:\n  print(coin)",
      "metadata": {
        "trusted": true
      },
      "outputs": [
        {
          "name": "stdout",
          "text": "USD\n",
          "output_type": "stream"
        }
      ],
      "execution_count": 4
    },
    {
      "cell_type": "code",
      "source": "# On Jupyter.org input as to be prefix with \"await\" and in one empty code cell \n\nvalue = await input('Value:')",
      "metadata": {
        "trusted": true
      },
      "outputs": [
        {
          "output_type": "stream",
          "name": "stdin",
          "text": "Value: 10.2\n"
        }
      ],
      "execution_count": 5
    },
    {
      "cell_type": "code",
      "source": "# Convert str from input to float\ntry:\n  value = float(value)\n  print(f'{value:.2f} {coin} -> {currencies[coin] * value:.2f} EUR')\nexcept ValueError:\n  print('Only numbers. DUDE!')\nexcept KeyError:\n  print('Coin not in dictionary!')\n",
      "metadata": {
        "trusted": true
      },
      "outputs": [
        {
          "name": "stdout",
          "text": "10.20 USD -> 9.38 EUR\n",
          "output_type": "stream"
        }
      ],
      "execution_count": 6
    },
    {
      "cell_type": "markdown",
      "source": "---",
      "metadata": {}
    },
    {
      "cell_type": "markdown",
      "source": "## Ex.3 (Sol)",
      "metadata": {}
    },
    {
      "cell_type": "code",
      "source": "# Code Ex. 3\n\nimport json\n\nfile_name = 'obs-surface.geojson'\n\n# Opening JSON file\nf = open(file_name)\n\n# returns JSON object as a dictionary\ndata = json.load(f)\n\n# Closing file\nf.close()",
      "metadata": {
        "trusted": true
      },
      "outputs": [],
      "execution_count": 7
    },
    {
      "cell_type": "code",
      "source": "table = []  # list comprehension\nid_ = 7240919  # Lisboa \n\nfor item in data['features']:\n  if item['properties']['idEstacao'] == id_:\n    table.append(item['properties']['temperatura'])\n\ntable",
      "metadata": {
        "trusted": true
      },
      "outputs": [
        {
          "execution_count": 8,
          "output_type": "execute_result",
          "data": {
            "text/plain": "[26.8, 27.9, 29.4]"
          },
          "metadata": {}
        }
      ],
      "execution_count": 8
    },
    {
      "cell_type": "code",
      "source": "from statistics import mean\n\nround(mean(table),2)",
      "metadata": {
        "trusted": true
      },
      "outputs": [
        {
          "execution_count": 9,
          "output_type": "execute_result",
          "data": {
            "text/plain": "28.03"
          },
          "metadata": {}
        }
      ],
      "execution_count": 9
    },
    {
      "cell_type": "markdown",
      "source": "---",
      "metadata": {}
    },
    {
      "cell_type": "markdown",
      "source": "## Ex.4 (Sol)",
      "metadata": {}
    },
    {
      "cell_type": "code",
      "source": "\nexam = ('A', 'B', 'C', 'A', 'A', 'B', 'C', 'D', 'D', 'D', \n        'D', 'B', 'C', 'B', 'C', 'B', 'D', 'C', 'A', 'D', \n        'A', 'D', 'C', 'C', 'D', 'A', 'A', 'A', 'A', 'D', \n        'D', 'A', 'A', 'D', 'C', 'B', 'B', 'A', 'C', 'C')",
      "metadata": {
        "trusted": true
      },
      "outputs": [],
      "execution_count": 10
    },
    {
      "cell_type": "code",
      "source": "results = {'A':0, 'B':0, 'C':0, 'D':0}\n\nfor x in exam:\n    results[x] += 1\n\nresults",
      "metadata": {
        "trusted": true
      },
      "outputs": [
        {
          "execution_count": 11,
          "output_type": "execute_result",
          "data": {
            "text/plain": "{'A': 12, 'B': 7, 'C': 10, 'D': 11}"
          },
          "metadata": {}
        }
      ],
      "execution_count": 11
    },
    {
      "cell_type": "markdown",
      "source": "### Optional exercise",
      "metadata": {}
    },
    {
      "cell_type": "code",
      "source": "%pip install -q scipy",
      "metadata": {
        "trusted": true
      },
      "outputs": [],
      "execution_count": 13
    },
    {
      "cell_type": "code",
      "source": "from scipy import stats\n\n# Observed frequencies\nobserved_frequencies = (7, 11, 12, 10)\n\n# Expected frequencies\nexpected_frequencies = (10, 10, 10, 10)\n\n# Perform the chi-squared test\nchi2, p = stats.chisquare(observed_frequencies, f_exp=expected_frequencies)\n\n# Print the test statistic and p-value\nprint(\"Chi-squared test statistic:\", chi2)\nprint(\"p-value:\", round(p,3))",
      "metadata": {
        "trusted": true
      },
      "outputs": [
        {
          "name": "stdout",
          "text": "Chi-squared test statistic: 1.4\np-value: 0.706\n",
          "output_type": "stream"
        }
      ],
      "execution_count": 14
    }
  ]
}