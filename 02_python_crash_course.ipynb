{
 "cells": [
  {
   "cell_type": "markdown",
   "metadata": {},
   "source": [
    "# Python crash course\n",
    "\n",
    "```txt\n",
    "       video:  2\n",
    "       title:  Python crash course\n",
    "      author:  César Freire <cesar.freire@training.rumos.pt>\n",
    "   reviewers:  Ana Felizardo, Paulo Martins\n",
    "affiliations:  Rumos Formação\n",
    "```\n",
    "\n",
    "__MORE INFO:__ [An Informal Introduction to Python](https://docs.python.org/3/tutorial/introduction.html)"
   ]
  },
  {
   "cell_type": "markdown",
   "metadata": {},
   "source": [
    "## In this episode\n",
    "\n",
    "* [Assignments](#assignments)\n",
    "* [Variable types](#variable-types)\n",
    "* [Libraries](#libraries)\n",
    "* [Flow control](#flow-control)\n",
    "* [Jupyter magic commands](#jupyter-magic-commands)\n",
    "* [Python style guide](#python-style-guide)\n",
    "* [Addon topics](#addon-topics)\n",
    "\n",
    "---\n"
   ]
  },
  {
   "cell_type": "markdown",
   "metadata": {},
   "source": [
    "## Assignments\n",
    "Sometimes we may wan't to store some value, for later use."
   ]
  },
  {
   "cell_type": "code",
   "execution_count": null,
   "metadata": {},
   "outputs": [],
   "source": [
    "# using Python as a calculator\n",
    "2 + 2"
   ]
  },
  {
   "cell_type": "code",
   "execution_count": null,
   "metadata": {},
   "outputs": [],
   "source": [
    "# ... or keeping the value in a variable for future use\n",
    "x = 2\n",
    "x"
   ]
  },
  {
   "cell_type": "markdown",
   "metadata": {},
   "source": [
    "## Variable types\n",
    "\n",
    "* Integers (int)\n",
    "* Floating point (float)\n",
    "* Booleans (bool)\n",
    "* Strings (str) aka Text"
   ]
  },
  {
   "cell_type": "markdown",
   "metadata": {},
   "source": [
    "### Integers\n",
    "_Integers is those which are devoid of the fractional part_"
   ]
  },
  {
   "cell_type": "code",
   "execution_count": null,
   "metadata": {},
   "outputs": [],
   "source": [
    "# int assignment\n",
    "eggs = 4\n",
    "eggs"
   ]
  },
  {
   "cell_type": "code",
   "execution_count": null,
   "metadata": {},
   "outputs": [],
   "source": [
    "# get the type of variable\n",
    "type(eggs)"
   ]
  },
  {
   "cell_type": "code",
   "execution_count": null,
   "metadata": {},
   "outputs": [],
   "source": [
    "# underscore in numeric literals\n",
    "trillion = 1_000_000_000_000\n",
    "type(trillion)"
   ]
  },
  {
   "cell_type": "code",
   "execution_count": null,
   "metadata": {},
   "outputs": [],
   "source": [
    "# support for large int's. Ex.\n",
    "2 ** 300  # inline comment: 2^300"
   ]
  },
  {
   "cell_type": "markdown",
   "metadata": {},
   "source": [
    "### Floats\n",
    "_Numbers that have a non-empty decimal fraction_"
   ]
  },
  {
   "cell_type": "code",
   "execution_count": null,
   "metadata": {},
   "outputs": [],
   "source": [
    "# float assignment\n",
    "spam_ratio = 12.4\n",
    "type(spam_ratio)"
   ]
  },
  {
   "cell_type": "code",
   "execution_count": null,
   "metadata": {},
   "outputs": [],
   "source": [
    "# 4x10^2 (400.0)\n",
    "type(4e2)"
   ]
  },
  {
   "cell_type": "markdown",
   "metadata": {},
   "source": [
    "### Booleans\n",
    "\n",
    "\n",
    "_Booleans represent one of two values: `True` or `False`_\n",
    "\n",
    "NOTE: `True` and `False` are written with upper case since they are immutable"
   ]
  },
  {
   "cell_type": "code",
   "execution_count": null,
   "metadata": {},
   "outputs": [],
   "source": [
    "# bool assignment\n",
    "in_this_spam = True\n",
    "type(in_this_spam)"
   ]
  },
  {
   "cell_type": "markdown",
   "metadata": {},
   "source": [
    "__The menu at Monty Python__\n",
    "\n",
    "![The menu at Monty Python](https://upload.wikimedia.org/wikipedia/commons/thumb/8/8e/Monty_Python_Live_02-07-14_13_04_42_%2814598710791%29.jpg/330px-Monty_Python_Live_02-07-14_13_04_42_%2814598710791%29.jpg)\n",
    "\n"
   ]
  },
  {
   "cell_type": "markdown",
   "metadata": {},
   "source": [
    "### Strings\n",
    "_Strings in python are surrounded by either single quotation marks, or double quotation marks_"
   ]
  },
  {
   "cell_type": "code",
   "execution_count": null,
   "metadata": {},
   "outputs": [],
   "source": [
    "# You can use quotes inside a string,\n",
    "# as long as they don't match the quotes surrounding the string\n",
    "sketch = \"Monty Python's Flying Circus\"\n",
    "spam = ' \"Spam\" is a Monty Python sketch, first televised in 1970...'\n",
    "\n",
    "type(spam)"
   ]
  },
  {
   "cell_type": "markdown",
   "metadata": {},
   "source": [
    "## Libraries\n",
    "\n",
    "* Python Standard Library | \n",
    "https://docs.python.org/3/library/index.html\n",
    "\n",
    "*  Python Package Index | \n",
    "https://pypi.org/"
   ]
  },
  {
   "cell_type": "markdown",
   "metadata": {},
   "source": [
    "### Core libraries"
   ]
  },
  {
   "cell_type": "code",
   "execution_count": null,
   "metadata": {},
   "outputs": [],
   "source": [
    "import sys\n",
    "\n",
    "sys.version"
   ]
  },
  {
   "cell_type": "code",
   "execution_count": null,
   "metadata": {},
   "outputs": [],
   "source": [
    "from sys import version\n",
    "\n",
    "version"
   ]
  },
  {
   "cell_type": "code",
   "execution_count": null,
   "metadata": {},
   "outputs": [],
   "source": [
    "from sys import version as ver  # rename import\n",
    "\n",
    "ver"
   ]
  },
  {
   "cell_type": "code",
   "execution_count": null,
   "metadata": {},
   "outputs": [],
   "source": [
    "# The Zen of Python was introduced in PEP 20. It is supposed to be 20 aphorisms, \n",
    "# but only 19 of which have been written down.\n",
    "\n",
    "import this"
   ]
  },
  {
   "cell_type": "markdown",
   "metadata": {},
   "source": [
    "![Tim Petters](https://community.cadence.com/resized-image/__size/250x480/__key/communityserver-blogs-components-weblogfiles/00-00-00-01-06/8738.peters.png)\n",
    "\n",
    "_Tim Petters_"
   ]
  },
  {
   "cell_type": "markdown",
   "metadata": {},
   "source": [
    "### Additions to the standard library"
   ]
  },
  {
   "cell_type": "code",
   "execution_count": null,
   "metadata": {},
   "outputs": [],
   "source": [
    "%pip install numpy"
   ]
  },
  {
   "cell_type": "code",
   "execution_count": null,
   "metadata": {},
   "outputs": [],
   "source": [
    "import numpy as np\n",
    "\n",
    "np.random.randint(1, 11, size=10)"
   ]
  },
  {
   "cell_type": "markdown",
   "metadata": {},
   "source": [
    "## Flow control\n",
    "\n",
    "* for\n",
    "* if-then-else\n",
    "* while"
   ]
  },
  {
   "cell_type": "code",
   "execution_count": null,
   "metadata": {},
   "outputs": [],
   "source": [
    "# code cell as calculator. Only last line and at the beginning of line\n",
    "2  # does not print this line\n",
    "3"
   ]
  },
  {
   "cell_type": "code",
   "execution_count": null,
   "metadata": {},
   "outputs": [],
   "source": [
    "# solution\n",
    "print(2)\n",
    "3"
   ]
  },
  {
   "cell_type": "code",
   "execution_count": null,
   "metadata": {},
   "outputs": [],
   "source": [
    "# loop\n",
    "for x in range(3):\n",
    "    print(x)"
   ]
  },
  {
   "cell_type": "code",
   "execution_count": null,
   "metadata": {},
   "outputs": [],
   "source": [
    "# loop with no line feed\n",
    "for x in range(1, 11):\n",
    "    print(x, end=' . ')\n",
    "print('END')"
   ]
  },
  {
   "cell_type": "code",
   "execution_count": null,
   "metadata": {},
   "outputs": [],
   "source": [
    "# loop with if and break\n",
    "for x in range(1, 11):\n",
    "    print(x, end=' . ')\n",
    "    if x == 5:\n",
    "        print('STOP', end=' . ')\n",
    "        break\n",
    "print('END')"
   ]
  },
  {
   "cell_type": "code",
   "execution_count": null,
   "metadata": {},
   "outputs": [],
   "source": [
    "# loop with if-else and continue\n",
    "for x in range(1, 11):\n",
    "    if x == 5:\n",
    "        print('MISSING', end=' . ')\n",
    "        continue\n",
    "    else:\n",
    "        print(x, end=' . ')\n",
    "print('END')"
   ]
  },
  {
   "cell_type": "code",
   "execution_count": null,
   "metadata": {},
   "outputs": [],
   "source": [
    "# while loop\n",
    "import numpy as np\n",
    "\n",
    "\n",
    "while True:\n",
    "    dice = np.random.randint(1, 7) # get a random number from 1 to 6\n",
    "    if dice == 6: # Only leave if 6 came up\n",
    "        print('LUCKY6')\n",
    "        break\n",
    "    else:\n",
    "        print(dice, end='.')"
   ]
  },
  {
   "cell_type": "markdown",
   "metadata": {},
   "source": [
    "## Jupyter magic commands\n",
    "https://ipython.readthedocs.io/en/stable/interactive/magics.html"
   ]
  },
  {
   "cell_type": "code",
   "execution_count": null,
   "metadata": {},
   "outputs": [],
   "source": [
    "# How long does it take to...\n",
    "%timeit 2 ** 300"
   ]
  },
  {
   "cell_type": "code",
   "execution_count": null,
   "metadata": {},
   "outputs": [],
   "source": [
    "# Show all kernel variables\n",
    "%whos"
   ]
  },
  {
   "cell_type": "markdown",
   "metadata": {},
   "source": [
    "## Python style guide\n",
    "https://peps.python.org/pep-0008/\n",
    "\n",
    "![guido-van-rossum](https://upload.wikimedia.org/wikipedia/commons/thumb/e/e2/Guido-portrait-2014-drc.jpg/290px-Guido-portrait-2014-drc.jpg) \n",
    "\n",
    "_Guido van Russum_\n",
    "\n",
    "One of Guido’s key insights is that code is read much more often than it is written. The guidelines provided here are intended to improve the readability of code and make it consistent across the wide spectrum of Python code."
   ]
  },
  {
   "cell_type": "markdown",
   "metadata": {},
   "source": [
    "### PEP8 main rules\n",
    "\n",
    "* Use 4 spaces per indentation level\n",
    "* Limit all lines to a maximum of 79 characters\n",
    "* Surround top-level function with two blank lines\n",
    "* Imports should usually be on separate lines"
   ]
  },
  {
   "cell_type": "markdown",
   "metadata": {},
   "source": [
    "### Verifying PEP8 in iPython notebook code"
   ]
  },
  {
   "cell_type": "code",
   "execution_count": null,
   "metadata": {},
   "outputs": [],
   "source": [
    "%pip install -q flake8 pycodestyle_magic"
   ]
  },
  {
   "cell_type": "code",
   "execution_count": null,
   "metadata": {},
   "outputs": [],
   "source": [
    "%load_ext pycodestyle_magic"
   ]
  },
  {
   "cell_type": "code",
   "execution_count": null,
   "metadata": {},
   "outputs": [],
   "source": [
    "%pycodestyle_on"
   ]
  },
  {
   "cell_type": "code",
   "execution_count": null,
   "metadata": {},
   "outputs": [],
   "source": [
    "#NOT PEP8 compliant\n",
    "a=5\n",
    "while a>0:\n",
    "  print(a, end = '.')\n",
    "  a=a-1 #or a -=1\n",
    "print( 'BOOM!' )\n",
    "# Disregard in Jupyter: W391 blank line at end of file"
   ]
  },
  {
   "cell_type": "code",
   "execution_count": null,
   "metadata": {},
   "outputs": [],
   "source": [
    "# PEP8 compliant code\n",
    "a = 5\n",
    "while a > 0:\n",
    "    print(a, end='.')\n",
    "    a = a-1  # or a -=1\n",
    "print('BOOM!')"
   ]
  },
  {
   "cell_type": "code",
   "execution_count": null,
   "metadata": {},
   "outputs": [],
   "source": [
    "%pycodestyle_off"
   ]
  },
  {
   "cell_type": "markdown",
   "metadata": {},
   "source": [
    "## Addon topics\n",
    "\n",
    "* String evolution\n",
    "* Getting help\n",
    "* Python 2 Why end of line "
   ]
  },
  {
   "cell_type": "markdown",
   "metadata": {},
   "source": [
    "### String evolution\n",
    "\n",
    "All Python modules uses __semver__ versioning.\n",
    "https://semver.org/"
   ]
  },
  {
   "cell_type": "code",
   "execution_count": null,
   "metadata": {},
   "outputs": [],
   "source": [
    "from sys import version_info\n",
    "\n",
    "version_info"
   ]
  },
  {
   "cell_type": "code",
   "execution_count": null,
   "metadata": {},
   "outputs": [],
   "source": [
    "major = version_info.major\n",
    "minor = version_info.minor\n",
    "major, minor"
   ]
  },
  {
   "cell_type": "code",
   "execution_count": null,
   "metadata": {},
   "outputs": [],
   "source": [
    "# python 2.7 (2008)\n",
    "# SyntaxError: Missing parentheses in call to 'print'. Did you mean print(...)?\n",
    "# print 'major=', major ,'minor=', minor\n",
    "\n",
    "# python 3.0 (C Style)\n",
    "print('major=%i minor=%i' % (major, minor))\n",
    "\n",
    "# or\n",
    "print('major=', major, ' minor=', minor, sep='')\n",
    "\n",
    "# python 3.6\n",
    "print('major={} minor={}'.format(major, minor))\n",
    "\n",
    "# python 3.7\n",
    "print(f'major={major} minor={minor}')\n",
    "\n",
    "# python 3.8 (self-documenting expressions in f-strings)\n",
    "print(f'{major=} {minor=}')"
   ]
  },
  {
   "cell_type": "markdown",
   "metadata": {},
   "source": [
    "### Getting help on a function\n",
    "\n",
    "* `TAB` autocomplete\n",
    "* `SHIFT-TAB` inline help"
   ]
  },
  {
   "cell_type": "code",
   "execution_count": null,
   "metadata": {},
   "outputs": [],
   "source": [
    "help(repr)\n",
    "\n",
    "# Example\n",
    "print('major=' + repr(major) + ' minor=' + repr(minor))\n"
   ]
  },
  {
   "cell_type": "markdown",
   "metadata": {},
   "source": [
    "### Python2 End of life - Why?"
   ]
  },
  {
   "cell_type": "markdown",
   "metadata": {},
   "source": [
    "#### Python Division"
   ]
  },
  {
   "cell_type": "code",
   "execution_count": null,
   "metadata": {},
   "outputs": [],
   "source": [
    "# In Python3\n",
    "# 7 / 2 = 3.5\n",
    "7 / 2"
   ]
  },
  {
   "cell_type": "code",
   "execution_count": null,
   "metadata": {},
   "outputs": [],
   "source": [
    "# In Python2\n",
    "# 7 / 2 = 3 (int division gives int response)\n",
    "# simulating in Python3\n",
    "7 // 2"
   ]
  },
  {
   "cell_type": "code",
   "execution_count": null,
   "metadata": {},
   "outputs": [],
   "source": [
    "# Remainder of int division\n",
    "7 % 2"
   ]
  },
  {
   "cell_type": "markdown",
   "metadata": {},
   "source": [
    "#### Python Charset\n",
    "\n",
    "https://en.wikipedia.org/wiki/List_of_Unicode_characters"
   ]
  },
  {
   "cell_type": "code",
   "execution_count": null,
   "metadata": {},
   "outputs": [],
   "source": [
    "# Python3 (UNICODE) vs Python2 (ASCII)\n",
    "# Support for unicode\n",
    "'\\u03c0'  # pi"
   ]
  }
 ],
 "metadata": {
  "kernelspec": {
   "display_name": ".venv",
   "language": "python",
   "name": "python3"
  },
  "language_info": {
   "codemirror_mode": {
    "name": "ipython",
    "version": 3
   },
   "file_extension": ".py",
   "mimetype": "text/x-python",
   "name": "python",
   "nbconvert_exporter": "python",
   "pygments_lexer": "ipython3",
   "version": "3.12.3"
  }
 },
 "nbformat": 4,
 "nbformat_minor": 2
}
