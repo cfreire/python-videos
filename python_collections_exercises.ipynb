{
 "cells": [
  {
   "cell_type": "markdown",
   "metadata": {},
   "source": [
    "# Python collections exercises\n",
    "\n",
    "```txt\n",
    "       video:  3\n",
    "       title:  Python collections exercises\n",
    "      author:  César Freire <cesar.freire@training.rumos.pt>\n",
    "   reviewers:  Ana Felizardo, Paulo Martins\n",
    "affiliations:  Rumos Formação\n",
    "```"
   ]
  },
  {
   "cell_type": "markdown",
   "metadata": {},
   "source": [
    "## Exercises\n",
    "\n",
    "* [NIF Validator](#exercise-nif-validator)"
   ]
  },
  {
   "cell_type": "markdown",
   "metadata": {},
   "source": [
    "### Exercise: NIF validator\n",
    "https://en.wikipedia.org/wiki/Luhn_algorithm\n",
    "\n",
    "https://pt.wikipedia.org/wiki/N%C3%BAmero_de_identifica%C3%A7%C3%A3o_fiscal"
   ]
  },
  {
   "cell_type": "code",
   "execution_count": null,
   "metadata": {},
   "outputs": [],
   "source": [
    "nif = '500366039'  # NIPC RUMOS SA\n",
    "\n",
    "table = []\n",
    "for x in range(9):\n",
    "    table.append( (9-x) * int(nif[x]) )\n",
    "\n",
    "table"
   ]
  },
  {
   "cell_type": "code",
   "execution_count": null,
   "metadata": {},
   "outputs": [],
   "source": [
    "sum(table) % 11"
   ]
  },
  {
   "cell_type": "code",
   "execution_count": null,
   "metadata": {},
   "outputs": [],
   "source": [
    "table = [(9-x) * int(nif[x]) for x in range(9) ]\n",
    "sum(table) % 11"
   ]
  },
  {
   "cell_type": "code",
   "execution_count": null,
   "metadata": {},
   "outputs": [],
   "source": [
    "sum([ (9-x) * int(nif[x]) for x in range(9) ] ) % 11"
   ]
  },
  {
   "cell_type": "code",
   "execution_count": null,
   "metadata": {},
   "outputs": [],
   "source": [
    "# v2\n",
    "table = []\n",
    "for position, digit in enumerate(nif):\n",
    "    # print(position, digit)\n",
    "    table.append((9-position) * int(digit))\n",
    "\n",
    "table"
   ]
  },
  {
   "cell_type": "code",
   "execution_count": null,
   "metadata": {},
   "outputs": [],
   "source": [
    "table = [ (9-position) * int(digit) for position, digit in enumerate(nif) ]\n",
    "table"
   ]
  },
  {
   "cell_type": "markdown",
   "metadata": {},
   "source": [
    "### Exercise: Exchange rates converter"
   ]
  },
  {
   "cell_type": "code",
   "execution_count": null,
   "metadata": {},
   "outputs": [],
   "source": [
    "# await on jupyterLite\n",
    "coin = input('Currency:')"
   ]
  },
  {
   "cell_type": "code",
   "execution_count": null,
   "metadata": {},
   "outputs": [],
   "source": [
    "coin = coin.upper()  # convert into upper case\n",
    "if coin not in currencies.keys():\n",
    "  print('Coin not in database!')\n",
    "else:\n",
    "  print(coin)"
   ]
  },
  {
   "cell_type": "code",
   "execution_count": null,
   "metadata": {},
   "outputs": [],
   "source": [
    "value = input('Value:')"
   ]
  },
  {
   "cell_type": "code",
   "execution_count": null,
   "metadata": {},
   "outputs": [],
   "source": [
    "try:\n",
    "  value = float(value)\n",
    "  print(value)\n",
    "except ValueError:\n",
    "  print('Only numbers. DUDE!')"
   ]
  },
  {
   "cell_type": "markdown",
   "metadata": {},
   "source": [
    "#### Delist operator (*)\n",
    "_optional explanation_"
   ]
  },
  {
   "cell_type": "code",
   "execution_count": null,
   "metadata": {},
   "outputs": [],
   "source": [
    "l = [[1,2,3]]\n",
    "print(*l)"
   ]
  },
  {
   "cell_type": "code",
   "execution_count": null,
   "metadata": {},
   "outputs": [],
   "source": [
    "try:\n",
    "  print(f'{value} {coin} -> {currencies[coin] * value:10.4f} EUR')\n",
    "except KeyError:\n",
    "  print('Currency not in database')\n",
    "  print('Available: ', end='')\n",
    "  print(*list(currencies.keys()), sep=' | ')  # (*) delist operator\n",
    "except ValueError:\n",
    "    print('Value must be float or int')\n",
    "except:\n",
    "    print('Algo correu muito mal')  # Not a best pratice"
   ]
  }
 ],
 "metadata": {
  "language_info": {
   "name": "python"
  }
 },
 "nbformat": 4,
 "nbformat_minor": 2
}
