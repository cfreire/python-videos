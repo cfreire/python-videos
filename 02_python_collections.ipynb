{
 "cells": [
  {
   "cell_type": "markdown",
   "id": "83edfd0a-c31e-4e0b-a17f-f88ec721a741",
   "metadata": {},
   "source": [
    "# Python collections\n",
    "\n",
    "* lists\n",
    "* dictionaries\n",
    "* tuples\n",
    "* sets"
   ]
  },
  {
   "cell_type": "markdown",
   "id": "0db00249-c8ef-4109-8c6b-ef48309fc0fc",
   "metadata": {},
   "source": [
    "## Lists\n",
    "\n",
    "_Python knows a number of compound data types, used to group together other values. The most versatile is the list, which can be written as a list of comma-separated values (items) between square brackets. Lists might contain items of different types, but usually the items all have the same type._\n",
    "\n",
    "https://docs.python.org/3/tutorial/introduction.html#lists"
   ]
  },
  {
   "cell_type": "code",
   "execution_count": 9,
   "id": "1bae4934-c401-49f1-bb10-45a8c9a32e80",
   "metadata": {},
   "outputs": [
    {
     "data": {
      "text/plain": [
       "['pen', 'apple', 'pen', 'pine-apple-pen']"
      ]
     },
     "execution_count": 9,
     "metadata": {},
     "output_type": "execute_result"
    }
   ],
   "source": [
    "ppap = ['pen', 'apple', 'pen', 'pine-apple-pen']\n",
    "ppap"
   ]
  },
  {
   "cell_type": "code",
   "execution_count": 10,
   "id": "c2f8fedc-7f84-40b4-bc87-7e5e7ff9099c",
   "metadata": {},
   "outputs": [],
   "source": [
    "empty_list = []\n",
    "\n",
    "double_list = [ [1, 2, 3], [4, 5, 6] ]\n",
    "\n",
    "strangle_list = [12, 'Hello', True, ['a', 'b', 'c'], double_list]"
   ]
  },
  {
   "cell_type": "markdown",
   "id": "eda694eb-b9ed-42a1-95f9-3dca60d2f647",
   "metadata": {},
   "source": [
    "### List slicing\n",
    "One way to remember how slices work is to think of the indices as pointing between characters, with the left edge of the first character numbered 0. Then the right edge of the last character of a string of n characters has index n, for example:\n",
    "\n",
    "```txt\n",
    " +---+---+---+---+---+---+\n",
    " | P | y | t | h | o | n |\n",
    " +---+---+---+---+---+---+\n",
    " 0   1   2   3   4   5   6\n",
    "-6  -5  -4  -3  -2  -1\n",
    "\n",
    "```\n"
   ]
  },
  {
   "cell_type": "code",
   "execution_count": 11,
   "id": "f2113dc2-d1e6-41f0-88df-c90275461a4f",
   "metadata": {},
   "outputs": [
    {
     "data": {
      "text/plain": [
       "'pen'"
      ]
     },
     "execution_count": 11,
     "metadata": {},
     "output_type": "execute_result"
    }
   ],
   "source": [
    "ppap[0]  # first item"
   ]
  },
  {
   "cell_type": "code",
   "execution_count": 12,
   "id": "d1af054c-eaf1-45a6-97bd-65ecea49d806",
   "metadata": {},
   "outputs": [
    {
     "data": {
      "text/plain": [
       "'pine-apple-pen'"
      ]
     },
     "execution_count": 12,
     "metadata": {},
     "output_type": "execute_result"
    }
   ],
   "source": [
    "ppap[-1]  # last item"
   ]
  },
  {
   "cell_type": "code",
   "execution_count": 13,
   "id": "8ef3fe17-3450-4d69-9831-1b9c195aec0e",
   "metadata": {},
   "outputs": [
    {
     "data": {
      "text/plain": [
       "3"
      ]
     },
     "execution_count": 13,
     "metadata": {},
     "output_type": "execute_result"
    }
   ],
   "source": [
    "double_list[0][-1]  # 3 item"
   ]
  },
  {
   "cell_type": "code",
   "execution_count": 14,
   "id": "8ae91b99-457f-4239-916f-5674fd6633dc",
   "metadata": {},
   "outputs": [
    {
     "data": {
      "text/plain": [
       "['apple', 'pen']"
      ]
     },
     "execution_count": 14,
     "metadata": {},
     "output_type": "execute_result"
    }
   ],
   "source": [
    "ppap[1:3]  # 3 not included"
   ]
  },
  {
   "cell_type": "code",
   "execution_count": 15,
   "id": "11cd4596-0143-461d-b95d-95b53d6d66bd",
   "metadata": {},
   "outputs": [
    {
     "data": {
      "text/plain": [
       "['pen', 'apple']"
      ]
     },
     "execution_count": 15,
     "metadata": {},
     "output_type": "execute_result"
    }
   ],
   "source": [
    "ppap[:2] # index[2] not included"
   ]
  },
  {
   "cell_type": "markdown",
   "id": "d96f938b-fa91-44be-b7d0-131b19d76e2a",
   "metadata": {},
   "source": [
    "### List methods\n",
    "\n",
    "* __append()__\tAdds an element at the end of the list\n",
    "* __clear()__\tRemoves all the elements from the list\n",
    "* __copy()__\tReturns a copy of the list\n",
    "* __count()__\tReturns the number of elements with the specified value\n",
    "* __extend()__\tAdd the elements of a list (or any iterable), to the end of the current list\n",
    "* __index()__\tReturns the index of the first element with the specified value\n",
    "* __insert()__\tAdds an element at the specified position\n",
    "* __pop()__\tRemoves the element at the specified position\n",
    "* __remove()__\tRemoves the first item with the specified value\n",
    "* __reverse()__\tReverses the order of the list\n",
    "* __sort()__\tSorts the list\n"
   ]
  },
  {
   "cell_type": "code",
   "execution_count": 16,
   "id": "8a977e0d-7df0-4c01-af70-b5408a350638",
   "metadata": {},
   "outputs": [
    {
     "data": {
      "text/plain": [
       "['pen', 'apple', 'pen', 'pine-apple-pen', 'pine-apple-apple-pen']"
      ]
     },
     "execution_count": 16,
     "metadata": {},
     "output_type": "execute_result"
    }
   ],
   "source": [
    "ppap.append('pine-apple-apple-pen')\n",
    "ppap"
   ]
  },
  {
   "cell_type": "code",
   "execution_count": 17,
   "id": "4b5fdb6b-9f87-4916-99b1-34930af9b857",
   "metadata": {},
   "outputs": [
    {
     "data": {
      "text/plain": [
       "2"
      ]
     },
     "execution_count": 17,
     "metadata": {},
     "output_type": "execute_result"
    }
   ],
   "source": [
    "ppap.count('pen')  # how many"
   ]
  },
  {
   "cell_type": "markdown",
   "id": "6fd4d59b-b0f5-4a2d-bfbb-0a86b799ad80",
   "metadata": {},
   "source": [
    "### List assigments"
   ]
  },
  {
   "cell_type": "code",
   "execution_count": 18,
   "id": "f7d0edb7-71f1-4e6c-84ec-1fbfa41b8ca8",
   "metadata": {},
   "outputs": [
    {
     "data": {
      "text/plain": [
       "10"
      ]
     },
     "execution_count": 18,
     "metadata": {},
     "output_type": "execute_result"
    }
   ],
   "source": [
    "a = 10\n",
    "b = a\n",
    "a = 20\n",
    "b"
   ]
  },
  {
   "cell_type": "code",
   "execution_count": 19,
   "id": "996aa19d-631b-4a3a-ab01-1d2bacb59638",
   "metadata": {},
   "outputs": [
    {
     "data": {
      "text/plain": [
       "[1, 2, 3, 4]"
      ]
     },
     "execution_count": 19,
     "metadata": {},
     "output_type": "execute_result"
    }
   ],
   "source": [
    "x = [1,2,3]\n",
    "y = x\n",
    "x.append(4)\n",
    "y"
   ]
  },
  {
   "cell_type": "code",
   "execution_count": 20,
   "id": "b05a57de-1fda-42c5-86c1-3b21cd064397",
   "metadata": {},
   "outputs": [
    {
     "data": {
      "text/plain": [
       "[1, 2, 3]"
      ]
     },
     "execution_count": 20,
     "metadata": {},
     "output_type": "execute_result"
    }
   ],
   "source": [
    "x = [1,2,3]\n",
    "y = x\n",
    "del x\n",
    "y"
   ]
  },
  {
   "cell_type": "code",
   "execution_count": 21,
   "id": "f9c91201-4188-4859-8b47-0062ca9a1a9f",
   "metadata": {},
   "outputs": [
    {
     "data": {
      "text/plain": [
       "[1, 2, 3]"
      ]
     },
     "execution_count": 21,
     "metadata": {},
     "output_type": "execute_result"
    }
   ],
   "source": [
    "x = [1,2,3]\n",
    "y = x[:]\n",
    "x.append(4)\n",
    "y"
   ]
  },
  {
   "cell_type": "code",
   "execution_count": 22,
   "id": "5a947144-54c0-459e-a3ae-99f7eff6433b",
   "metadata": {},
   "outputs": [
    {
     "data": {
      "text/plain": [
       "[1, 2, 3]"
      ]
     },
     "execution_count": 22,
     "metadata": {},
     "output_type": "execute_result"
    }
   ],
   "source": [
    "x = [1,2,3]\n",
    "y = x.copy()\n",
    "x.append(4)\n",
    "y"
   ]
  },
  {
   "cell_type": "markdown",
   "id": "69aba5d1-31e7-40d2-8b7a-ae8d937b50a6",
   "metadata": {},
   "source": [
    "### List Iterators"
   ]
  },
  {
   "cell_type": "code",
   "execution_count": 23,
   "id": "e4016397-163c-4b78-ab4e-cf1c45dc24c1",
   "metadata": {},
   "outputs": [
    {
     "name": "stdout",
     "output_type": "stream",
     "text": [
      "pen\n",
      "apple\n",
      "pen\n",
      "pine-apple-pen\n",
      "pine-apple-apple-pen\n"
     ]
    }
   ],
   "source": [
    "for item in ppap:\n",
    "    print(item)"
   ]
  },
  {
   "cell_type": "code",
   "execution_count": 24,
   "id": "65434b2b-3d9a-40fc-8697-ae5e88988e68",
   "metadata": {},
   "outputs": [
    {
     "name": "stdout",
     "output_type": "stream",
     "text": [
      "0 pen\n",
      "1 apple\n",
      "2 pen\n",
      "3 pine-apple-pen\n",
      "4 pine-apple-apple-pen\n"
     ]
    }
   ],
   "source": [
    "# not pythonic\n",
    "\n",
    "index = 0\n",
    "for item in ppap:\n",
    "    print(index, item)\n",
    "    index = index +1"
   ]
  },
  {
   "cell_type": "code",
   "execution_count": 72,
   "id": "b1f42902-ebdc-487c-9330-3308629ab328",
   "metadata": {},
   "outputs": [
    {
     "name": "stdout",
     "output_type": "stream",
     "text": [
      "0 pen\n",
      "1 apple\n",
      "2 pen\n",
      "3 pine-apple-pen\n",
      "4 pine-apple-apple-pen\n"
     ]
    }
   ],
   "source": [
    "for index, item in enumerate(ppap):  # pair with count and value\n",
    "    print(index, item)"
   ]
  },
  {
   "cell_type": "code",
   "execution_count": 74,
   "id": "5a4bc64b",
   "metadata": {},
   "outputs": [
    {
     "name": "stdout",
     "output_type": "stream",
     "text": [
      "Help on class enumerate in module builtins:\n",
      "\n",
      "class enumerate(object)\n",
      " |  enumerate(iterable, start=0)\n",
      " |\n",
      " |  Return an enumerate object.\n",
      " |\n",
      " |    iterable\n",
      " |      an object supporting iteration\n",
      " |\n",
      " |  The enumerate object yields pairs containing a count (from start, which\n",
      " |  defaults to zero) and a value yielded by the iterable argument.\n",
      " |\n",
      " |  enumerate is useful for obtaining an indexed list:\n",
      " |      (0, seq[0]), (1, seq[1]), (2, seq[2]), ...\n",
      " |\n",
      " |  Methods defined here:\n",
      " |\n",
      " |  __getattribute__(self, name, /)\n",
      " |      Return getattr(self, name).\n",
      " |\n",
      " |  __iter__(self, /)\n",
      " |      Implement iter(self).\n",
      " |\n",
      " |  __next__(self, /)\n",
      " |      Implement next(self).\n",
      " |\n",
      " |  __reduce__(...)\n",
      " |      Return state information for pickling.\n",
      " |\n",
      " |  ----------------------------------------------------------------------\n",
      " |  Class methods defined here:\n",
      " |\n",
      " |  __class_getitem__(...)\n",
      " |      See PEP 585\n",
      " |\n",
      " |  ----------------------------------------------------------------------\n",
      " |  Static methods defined here:\n",
      " |\n",
      " |  __new__(*args, **kwargs)\n",
      " |      Create and return a new object.  See help(type) for accurate signature.\n",
      "\n"
     ]
    }
   ],
   "source": [
    "help(enumerate)"
   ]
  },
  {
   "cell_type": "markdown",
   "id": "49e763d3-24fe-47a4-8107-0af925fdfcc6",
   "metadata": {},
   "source": [
    "### List comprehension\n",
    "List comprehensions provide a concise way to create lists. Common applications are to make new lists where each element is the result of some operations applied to each member of another sequence or iterable, or to create a subsequence of those elements that satisfy a certain condition.\n",
    "\n",
    "https://docs.python.org/3/tutorial/datastructures.html#list-comprehensions"
   ]
  },
  {
   "cell_type": "code",
   "execution_count": 27,
   "id": "618ccaf9-f9cb-48a4-a9b1-fa8aff617c22",
   "metadata": {},
   "outputs": [
    {
     "data": {
      "text/plain": [
       "[4, 16, 36, 64, 100]"
      ]
     },
     "execution_count": 27,
     "metadata": {},
     "output_type": "execute_result"
    }
   ],
   "source": [
    "table = []\n",
    "for x in range(1, 11):\n",
    "    if x % 2  == 0:  # even number\n",
    "        table.append(x ** 2)\n",
    "\n",
    "table"
   ]
  },
  {
   "cell_type": "code",
   "execution_count": 28,
   "id": "59dedddf-b97e-4f88-bfe4-5aee2d02bd79",
   "metadata": {},
   "outputs": [
    {
     "data": {
      "text/plain": [
       "[4, 16, 36, 64, 100]"
      ]
     },
     "execution_count": 28,
     "metadata": {},
     "output_type": "execute_result"
    }
   ],
   "source": [
    "table = [x ** 2 for x in range(1, 11) if x % 2  == 0]\n",
    "table"
   ]
  },
  {
   "cell_type": "markdown",
   "id": "1d72695a-7f7f-4226-8770-8b659955d8a9",
   "metadata": {},
   "source": [
    "### Exercise: NIF validator\n",
    "https://en.wikipedia.org/wiki/Luhn_algorithm\n",
    "\n",
    "https://pt.wikipedia.org/wiki/N%C3%BAmero_de_identifica%C3%A7%C3%A3o_fiscal"
   ]
  },
  {
   "cell_type": "code",
   "execution_count": 29,
   "id": "d48cb323-4787-49e4-aa7d-57776c7a87a2",
   "metadata": {},
   "outputs": [
    {
     "data": {
      "text/plain": [
       "[45, 0, 0, 18, 30, 24, 0, 6, 9]"
      ]
     },
     "execution_count": 29,
     "metadata": {},
     "output_type": "execute_result"
    }
   ],
   "source": [
    "nif = '500366039'  # NIPC RUMOS SA\n",
    "\n",
    "table = []\n",
    "for x in range(9):\n",
    "    table.append( (9-x) * int(nif[x]) )\n",
    "\n",
    "table"
   ]
  },
  {
   "cell_type": "code",
   "execution_count": 30,
   "id": "db388751-b954-4bb4-99b0-b37d121868a4",
   "metadata": {},
   "outputs": [
    {
     "data": {
      "text/plain": [
       "0"
      ]
     },
     "execution_count": 30,
     "metadata": {},
     "output_type": "execute_result"
    }
   ],
   "source": [
    "sum(table) % 11"
   ]
  },
  {
   "cell_type": "code",
   "execution_count": 31,
   "id": "e96288bf-aeab-4f00-921d-8687e05265b0",
   "metadata": {},
   "outputs": [
    {
     "data": {
      "text/plain": [
       "0"
      ]
     },
     "execution_count": 31,
     "metadata": {},
     "output_type": "execute_result"
    }
   ],
   "source": [
    "table = [(9-x) * int(nif[x]) for x in range(9) ]\n",
    "sum(table) % 11"
   ]
  },
  {
   "cell_type": "code",
   "execution_count": 32,
   "id": "97d004ad-2adf-4eff-8cb2-4ea066600d85",
   "metadata": {},
   "outputs": [
    {
     "data": {
      "text/plain": [
       "0"
      ]
     },
     "execution_count": 32,
     "metadata": {},
     "output_type": "execute_result"
    }
   ],
   "source": [
    "sum([ (9-x) * int(nif[x]) for x in range(9) ] ) % 11"
   ]
  },
  {
   "cell_type": "code",
   "execution_count": 33,
   "id": "0c83fda0-cfd0-4d1e-ab6b-5878d63d36d9",
   "metadata": {},
   "outputs": [
    {
     "data": {
      "text/plain": [
       "[45, 0, 0, 18, 30, 24, 0, 6, 9]"
      ]
     },
     "execution_count": 33,
     "metadata": {},
     "output_type": "execute_result"
    }
   ],
   "source": [
    "# v2\n",
    "table = []\n",
    "for position, digit in enumerate(nif):\n",
    "    # print(position, digit)\n",
    "    table.append((9-position) * int(digit))\n",
    "\n",
    "table"
   ]
  },
  {
   "cell_type": "code",
   "execution_count": 34,
   "id": "af002c40-ce1a-406c-982a-093aec99a387",
   "metadata": {},
   "outputs": [
    {
     "data": {
      "text/plain": [
       "[45, 0, 0, 18, 30, 24, 0, 6, 9]"
      ]
     },
     "execution_count": 34,
     "metadata": {},
     "output_type": "execute_result"
    }
   ],
   "source": [
    "table = [ (9-position) * int(digit) for position, digit in enumerate(nif) ]\n",
    "table"
   ]
  },
  {
   "cell_type": "markdown",
   "id": "8834694c-a94a-4f48-af9f-5c2ade572901",
   "metadata": {},
   "source": [
    "## Dictionaries\n",
    "These represent finite sets of objects indexed by nearly arbitrary values.\n",
    "\n",
    "https://docs.python.org/3/reference/datamodel.html#dictionaries"
   ]
  },
  {
   "cell_type": "code",
   "execution_count": 35,
   "id": "38602807-6d48-480d-a741-05f5f3610ef5",
   "metadata": {},
   "outputs": [
    {
     "data": {
      "text/plain": [
       "dict"
      ]
     },
     "execution_count": 35,
     "metadata": {},
     "output_type": "execute_result"
    }
   ],
   "source": [
    "currencies = { 'USD': 0.92, 'GBP': 1.17, 'AOA': 0.0011, 'BTC': 58_290.94 }\n",
    "type(currencies)"
   ]
  },
  {
   "cell_type": "code",
   "execution_count": 36,
   "id": "a4aa244a-b208-4aae-8ef7-ad6a462e8bc9",
   "metadata": {},
   "outputs": [
    {
     "data": {
      "text/plain": [
       "0.92"
      ]
     },
     "execution_count": 36,
     "metadata": {},
     "output_type": "execute_result"
    }
   ],
   "source": [
    "currencies['USD']"
   ]
  },
  {
   "cell_type": "code",
   "execution_count": 37,
   "id": "0bf816c7-5125-44de-bb42-e6fbd1163126",
   "metadata": {},
   "outputs": [
    {
     "data": {
      "text/plain": [
       "{'USD': 0.93, 'GBP': 1.17, 'AOA': 0.0011, 'BTC': 58290.94}"
      ]
     },
     "execution_count": 37,
     "metadata": {},
     "output_type": "execute_result"
    }
   ],
   "source": [
    "# update\n",
    "currencies['USD'] = 0.93\n",
    "currencies"
   ]
  },
  {
   "cell_type": "code",
   "execution_count": 38,
   "id": "052c1a7c-d74c-451f-818b-623127e36b00",
   "metadata": {},
   "outputs": [
    {
     "data": {
      "text/plain": [
       "{'USD': 0.93, 'GBP': 1.17, 'AOA': 0.0011, 'BTC': 58290.94, 'JPY': 0.0061}"
      ]
     },
     "execution_count": 38,
     "metadata": {},
     "output_type": "execute_result"
    }
   ],
   "source": [
    "# add\n",
    "currencies['JPY'] = 0.0061\n",
    "currencies"
   ]
  },
  {
   "cell_type": "code",
   "execution_count": 39,
   "id": "dece805a-8591-4c9d-9dc2-3547d46b2c16",
   "metadata": {},
   "outputs": [
    {
     "data": {
      "text/plain": [
       "{'USD': 0.93, 'GBP': 1.17, 'BTC': 58290.94, 'JPY': 0.0061}"
      ]
     },
     "execution_count": 39,
     "metadata": {},
     "output_type": "execute_result"
    }
   ],
   "source": [
    "# del\n",
    "del currencies['AOA']\n",
    "currencies"
   ]
  },
  {
   "cell_type": "markdown",
   "id": "95163b97-5841-4e2f-9da7-3bf36e8df7d9",
   "metadata": {},
   "source": [
    "### Dictionary methods\n",
    "\n",
    "* __clear()__\tRemoves all the elements from the dictionary\n",
    "* __copy()__\tReturns a copy of the dictionary\n",
    "* __fromkeys()__\tReturns a dictionary with the specified keys and value\n",
    "* __get()__\tReturns the value of the specified key\n",
    "* __items()__\tReturns a list containing a tuple for each key value pair\n",
    "* __keys()__\tReturns a list containing the dictionary's keys\n",
    "* __pop()__\tRemoves the element with the specified key\n",
    "* __popitem()__\tRemoves the last inserted key-value pair\n",
    "* __setdefault()__\tReturns the value of the specified key. If the key does not exist: insert the key, with the specified value\n",
    "* __update()__\tUpdates the dictionary with the specified key-value pairs\n",
    "* __values()__\tReturns a list of all the values in the dictionary"
   ]
  },
  {
   "cell_type": "code",
   "execution_count": 40,
   "id": "5f332bec-c3fb-4542-adcb-83cacc5bba56",
   "metadata": {},
   "outputs": [
    {
     "data": {
      "text/plain": [
       "dict_keys(['USD', 'GBP', 'BTC', 'JPY'])"
      ]
     },
     "execution_count": 40,
     "metadata": {},
     "output_type": "execute_result"
    }
   ],
   "source": [
    "currencies.keys()"
   ]
  },
  {
   "cell_type": "code",
   "execution_count": 41,
   "id": "cc6ba386-dac8-462b-8fe5-8b3f57be4072",
   "metadata": {},
   "outputs": [
    {
     "data": {
      "text/plain": [
       "dict_values([0.93, 1.17, 58290.94, 0.0061])"
      ]
     },
     "execution_count": 41,
     "metadata": {},
     "output_type": "execute_result"
    }
   ],
   "source": [
    "currencies.values()"
   ]
  },
  {
   "cell_type": "markdown",
   "id": "16db8f49-a28e-4911-939e-c82669f4e315",
   "metadata": {},
   "source": [
    "### Dictionary iterators"
   ]
  },
  {
   "cell_type": "code",
   "execution_count": 42,
   "id": "299bf64c-0352-49cd-933c-7ddff4ba1667",
   "metadata": {},
   "outputs": [
    {
     "name": "stdout",
     "output_type": "stream",
     "text": [
      "USD\n",
      "GBP\n",
      "BTC\n",
      "JPY\n"
     ]
    }
   ],
   "source": [
    "for coin in currencies:  # by keys\n",
    "    print(coin)"
   ]
  },
  {
   "cell_type": "code",
   "execution_count": 43,
   "id": "e7987ff3-be47-4e1c-b994-7b3ed34a6cb2",
   "metadata": {},
   "outputs": [
    {
     "name": "stdout",
     "output_type": "stream",
     "text": [
      "0.93\n",
      "1.17\n",
      "58290.94\n",
      "0.0061\n"
     ]
    }
   ],
   "source": [
    "for value in currencies.values():  # value\n",
    "    print(value)"
   ]
  },
  {
   "cell_type": "code",
   "execution_count": 44,
   "id": "e94693b6-5877-4999-879b-e4baa04d3f64",
   "metadata": {},
   "outputs": [
    {
     "name": "stdout",
     "output_type": "stream",
     "text": [
      "USD 0.93\n",
      "GBP 1.17\n",
      "BTC 58290.94\n",
      "JPY 0.0061\n"
     ]
    }
   ],
   "source": [
    "for coin, value in currencies.items():  # pack\n",
    "    print(coin, value)"
   ]
  },
  {
   "cell_type": "markdown",
   "id": "bf11c141",
   "metadata": {},
   "source": [
    "### Exercise: Exchange rates converter"
   ]
  },
  {
   "cell_type": "code",
   "execution_count": 45,
   "id": "e396ff79",
   "metadata": {},
   "outputs": [],
   "source": [
    "# await on jupyterLite\n",
    "coin = input('Currency:')"
   ]
  },
  {
   "cell_type": "code",
   "execution_count": 46,
   "id": "50d61506",
   "metadata": {},
   "outputs": [
    {
     "name": "stdout",
     "output_type": "stream",
     "text": [
      "USD\n"
     ]
    }
   ],
   "source": [
    "coin = coin.upper()  # convert into upper case\n",
    "if coin not in currencies.keys():\n",
    "  print('Coin not in database!')\n",
    "else:\n",
    "  print(coin)"
   ]
  },
  {
   "cell_type": "code",
   "execution_count": 47,
   "id": "40ee5586",
   "metadata": {},
   "outputs": [],
   "source": [
    "value = input('Value:')"
   ]
  },
  {
   "cell_type": "code",
   "execution_count": 48,
   "id": "76a66627",
   "metadata": {},
   "outputs": [
    {
     "name": "stdout",
     "output_type": "stream",
     "text": [
      "10.0\n"
     ]
    }
   ],
   "source": [
    "try:\n",
    "  value = float(value)\n",
    "  print(value)\n",
    "except ValueError:\n",
    "  print('Only numbers. DUDE!')"
   ]
  },
  {
   "cell_type": "markdown",
   "id": "18b39292",
   "metadata": {},
   "source": [
    "#### Delist operator (*)\n",
    "_optional explanation_"
   ]
  },
  {
   "cell_type": "code",
   "execution_count": 49,
   "id": "1af0cc8f",
   "metadata": {},
   "outputs": [
    {
     "name": "stdout",
     "output_type": "stream",
     "text": [
      "[1, 2, 3]\n"
     ]
    }
   ],
   "source": [
    "l = [[1,2,3]]\n",
    "print(*l)"
   ]
  },
  {
   "cell_type": "code",
   "execution_count": 50,
   "id": "66dc9715",
   "metadata": {},
   "outputs": [
    {
     "name": "stdout",
     "output_type": "stream",
     "text": [
      "10.0 USD ->     9.3000 EUR\n"
     ]
    }
   ],
   "source": [
    "try:\n",
    "  print(f'{value} {coin} -> {currencies[coin] * value:10.4f} EUR')\n",
    "except KeyError:\n",
    "  print('Currency not in database')\n",
    "  print('Available: ', end='')\n",
    "  print(*list(currencies.keys()), sep=' | ')  # (*) delist operator\n",
    "except ValueError:\n",
    "    print('Value must be float or int')\n",
    "except:\n",
    "    print('Algo correu muito mal')  # Not a best pratice"
   ]
  },
  {
   "cell_type": "markdown",
   "id": "dcbd348c-e57d-4c04-be09-f1629935a5d8",
   "metadata": {},
   "source": [
    "## Tuples\n",
    "Tuples are immutable sequences, typically used to store collections of heterogeneous data.\n",
    "\n",
    "https://docs.python.org/3/library/stdtypes.html#tuples"
   ]
  },
  {
   "cell_type": "code",
   "execution_count": 51,
   "id": "d67c3e60-4da7-4d4a-8f3d-4174dadedbfc",
   "metadata": {},
   "outputs": [
    {
     "data": {
      "text/plain": [
       "tuple"
      ]
     },
     "execution_count": 51,
     "metadata": {},
     "output_type": "execute_result"
    }
   ],
   "source": [
    "my_tuple = (1,2,3)\n",
    "type(my_tuple)"
   ]
  },
  {
   "cell_type": "code",
   "execution_count": 52,
   "id": "28c6dcf8-01a6-4f20-b2de-716680f336b0",
   "metadata": {},
   "outputs": [
    {
     "data": {
      "text/plain": [
       "1"
      ]
     },
     "execution_count": 52,
     "metadata": {},
     "output_type": "execute_result"
    }
   ],
   "source": [
    "my_tuple.count(2)  # how many number 2"
   ]
  },
  {
   "cell_type": "code",
   "execution_count": 53,
   "id": "f7a0d010-8599-4b1b-a1d4-233f8df7d791",
   "metadata": {},
   "outputs": [
    {
     "data": {
      "text/plain": [
       "2"
      ]
     },
     "execution_count": 53,
     "metadata": {},
     "output_type": "execute_result"
    }
   ],
   "source": [
    "my_tuple.index(3)  # where is number 3"
   ]
  },
  {
   "cell_type": "code",
   "execution_count": 54,
   "id": "e440ef90-ccc6-41cf-b898-ef531bdfbc52",
   "metadata": {},
   "outputs": [
    {
     "data": {
      "text/plain": [
       "(1, 2, 2, 3)"
      ]
     },
     "execution_count": 54,
     "metadata": {},
     "output_type": "execute_result"
    }
   ],
   "source": [
    "a = (1,2) + (2,3)\n",
    "a"
   ]
  },
  {
   "cell_type": "code",
   "execution_count": 55,
   "id": "86c4c885-c697-41d4-a8e3-b4dc6aea1dae",
   "metadata": {},
   "outputs": [
    {
     "data": {
      "text/plain": [
       "(1, 2, 2, 3, 4, 5)"
      ]
     },
     "execution_count": 55,
     "metadata": {},
     "output_type": "execute_result"
    }
   ],
   "source": [
    "a = a + (4,5)\n",
    "a"
   ]
  },
  {
   "cell_type": "code",
   "execution_count": 56,
   "id": "5869560d-d5c3-47ce-9b6d-87e361f8f00a",
   "metadata": {},
   "outputs": [
    {
     "data": {
      "text/plain": [
       "int"
      ]
     },
     "execution_count": 56,
     "metadata": {},
     "output_type": "execute_result"
    }
   ],
   "source": [
    "not_a_tuple = (12)\n",
    "type(not_a_tuple)"
   ]
  },
  {
   "cell_type": "code",
   "execution_count": 57,
   "id": "6996e368-48e8-42a8-a0a1-6dbe5d047bd8",
   "metadata": {},
   "outputs": [
    {
     "data": {
      "text/plain": [
       "tuple"
      ]
     },
     "execution_count": 57,
     "metadata": {},
     "output_type": "execute_result"
    }
   ],
   "source": [
    "now_a_tuple = (12,)\n",
    "type(now_a_tuple)"
   ]
  },
  {
   "cell_type": "code",
   "execution_count": 58,
   "id": "07c4900b-be11-4d5f-a9f1-4b409b4ed076",
   "metadata": {},
   "outputs": [],
   "source": [
    "from sys import getsizeof\n",
    "\n",
    "a = [x for x in range(10) ]\n",
    "b = (x for x in range(10) )"
   ]
  },
  {
   "cell_type": "code",
   "execution_count": 59,
   "id": "08a3a2ac-69ff-41f7-9e1c-d8e3f64d234e",
   "metadata": {},
   "outputs": [
    {
     "name": "stdout",
     "output_type": "stream",
     "text": [
      "0.1796875 KiB\n",
      "192\n"
     ]
    }
   ],
   "source": [
    "print(getsizeof(a) / 1024, 'KiB')\n",
    "print(getsizeof(b))"
   ]
  },
  {
   "cell_type": "code",
   "execution_count": 60,
   "id": "0735b8d6-d4f8-4b32-8804-b5b4dcdd6013",
   "metadata": {},
   "outputs": [
    {
     "data": {
      "text/plain": [
       "[0, 1, 2, 3, 4, 5, 6, 7, 8, 9]"
      ]
     },
     "execution_count": 60,
     "metadata": {},
     "output_type": "execute_result"
    }
   ],
   "source": [
    "a"
   ]
  },
  {
   "cell_type": "code",
   "execution_count": 61,
   "id": "2704b0f2-8756-4fb6-ab5c-00aa831eb11c",
   "metadata": {},
   "outputs": [
    {
     "data": {
      "text/plain": [
       "<generator object <genexpr> at 0x714db0cb4b80>"
      ]
     },
     "execution_count": 61,
     "metadata": {},
     "output_type": "execute_result"
    }
   ],
   "source": [
    "b"
   ]
  },
  {
   "cell_type": "code",
   "execution_count": 62,
   "id": "72e81c7e-5ca2-479b-85ea-b74fcd232e56",
   "metadata": {},
   "outputs": [
    {
     "name": "stdout",
     "output_type": "stream",
     "text": [
      "0\n",
      "1\n",
      "2\n",
      "3\n",
      "4\n",
      "5\n",
      "6\n",
      "7\n",
      "8\n",
      "9\n"
     ]
    }
   ],
   "source": [
    "for number in b:\n",
    "    print(number)"
   ]
  },
  {
   "cell_type": "code",
   "execution_count": 63,
   "id": "55b79e88-c0e2-4833-87fa-49c78784236b",
   "metadata": {},
   "outputs": [
    {
     "data": {
      "text/plain": [
       "45"
      ]
     },
     "execution_count": 63,
     "metadata": {},
     "output_type": "execute_result"
    }
   ],
   "source": [
    "sum(a)"
   ]
  },
  {
   "cell_type": "code",
   "execution_count": 64,
   "id": "f34d2df3-a605-4323-a0e4-b64dc343c43d",
   "metadata": {},
   "outputs": [
    {
     "name": "stdout",
     "output_type": "stream",
     "text": [
      "0\n",
      "1\n",
      "2\n",
      "3\n",
      "4\n",
      "5\n"
     ]
    }
   ],
   "source": [
    "b = (x for x in range(10) )\n",
    "for x in b:\n",
    "    print(x)\n",
    "    if x == 5:\n",
    "        break"
   ]
  },
  {
   "cell_type": "code",
   "execution_count": 65,
   "id": "568f6ca8-6137-4aba-b65d-bd4d3f4676d1",
   "metadata": {},
   "outputs": [
    {
     "data": {
      "text/plain": [
       "30"
      ]
     },
     "execution_count": 65,
     "metadata": {},
     "output_type": "execute_result"
    }
   ],
   "source": [
    "sum(b)"
   ]
  },
  {
   "cell_type": "markdown",
   "id": "d188aa0c-eb4c-4c51-81fb-96da8c4984e5",
   "metadata": {},
   "source": [
    "## Sets\n",
    "Python also includes a data type for sets. A set is an unordered collection with no duplicate elements. Basic uses include membership testing and eliminating duplicate entries. Set objects also support mathematical operations like union, intersection, difference, and symmetric difference.\n",
    "\n",
    "https://docs.python.org/3/tutorial/datastructures.html#sets\n"
   ]
  },
  {
   "cell_type": "code",
   "execution_count": 66,
   "id": "8edbb6e0-0217-4809-8983-14d3685268b6",
   "metadata": {},
   "outputs": [],
   "source": [
    "a = {'USD', 'AOA'}\n",
    "b = {'USD', 'GBP', 'BTC'}"
   ]
  },
  {
   "cell_type": "code",
   "execution_count": 67,
   "id": "2f125f1b-1869-481a-8f02-154989c03e75",
   "metadata": {},
   "outputs": [
    {
     "data": {
      "text/plain": [
       "{'USD'}"
      ]
     },
     "execution_count": 67,
     "metadata": {},
     "output_type": "execute_result"
    }
   ],
   "source": [
    "a.intersection(b)"
   ]
  },
  {
   "cell_type": "code",
   "execution_count": 68,
   "id": "ab2cbab8-32b7-4602-b329-47133b6a0bfe",
   "metadata": {},
   "outputs": [
    {
     "data": {
      "text/plain": [
       "{'AOA', 'BTC', 'GBP', 'USD'}"
      ]
     },
     "execution_count": 68,
     "metadata": {},
     "output_type": "execute_result"
    }
   ],
   "source": [
    "a.union(b)"
   ]
  },
  {
   "cell_type": "code",
   "execution_count": 69,
   "id": "7ba78b0f-7645-449d-bc90-00ebbc5dee58",
   "metadata": {},
   "outputs": [
    {
     "data": {
      "text/plain": [
       "{'AOA'}"
      ]
     },
     "execution_count": 69,
     "metadata": {},
     "output_type": "execute_result"
    }
   ],
   "source": [
    "a.difference(b)"
   ]
  },
  {
   "cell_type": "code",
   "execution_count": 70,
   "id": "a7728e6b-c5ab-4687-be3f-794486617a89",
   "metadata": {},
   "outputs": [
    {
     "data": {
      "text/plain": [
       "{'AOA', 'USD'}"
      ]
     },
     "execution_count": 70,
     "metadata": {},
     "output_type": "execute_result"
    }
   ],
   "source": [
    "a.union(b) - b.difference(a)"
   ]
  },
  {
   "cell_type": "code",
   "execution_count": 71,
   "id": "5178a968-bd03-4098-9042-5000bd05c503",
   "metadata": {},
   "outputs": [
    {
     "data": {
      "text/plain": [
       "{'BTC', 'GBP', 'JPY', 'USD'}"
      ]
     },
     "execution_count": 71,
     "metadata": {},
     "output_type": "execute_result"
    }
   ],
   "source": [
    "set(currencies)"
   ]
  }
 ],
 "metadata": {
  "kernelspec": {
   "display_name": "Python 3 (ipykernel)",
   "language": "python",
   "name": "python3"
  },
  "language_info": {
   "codemirror_mode": {
    "name": "ipython",
    "version": 3
   },
   "file_extension": ".py",
   "mimetype": "text/x-python",
   "name": "python",
   "nbconvert_exporter": "python",
   "pygments_lexer": "ipython3",
   "version": "3.12.3"
  }
 },
 "nbformat": 4,
 "nbformat_minor": 5
}
