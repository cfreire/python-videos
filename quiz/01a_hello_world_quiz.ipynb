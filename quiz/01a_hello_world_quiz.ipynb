{
 "cells": [
  {
   "cell_type": "markdown",
   "metadata": {},
   "source": [
    "# Video #1 Quiz\n",
    "\n",
    "```txt\n",
    "       video:  1\n",
    "       title:  Python hello world quiz\n",
    "      author:  César Freire <cesar.freire@training.rumos.pt>\n",
    "   reviewers:  Ana Felizardo, Paulo Martins\n",
    "affiliations:  Rumos Formação\n",
    "```"
   ]
  },
  {
   "cell_type": "markdown",
   "metadata": {},
   "source": [
    "## Q.1\n",
    "\n",
    "To start coding in Python is necessary to install software on your computer ?\n",
    "\n",
    "- [ ] Yes\n",
    "- [X] No"
   ]
  },
  {
   "cell_type": "markdown",
   "metadata": {},
   "source": [
    "## Q.2\n",
    "Is it possible to change a code cell in to a markdown cell and vice-versa in jupyter notebook ?\n",
    "\n",
    "- [X] Yes\n",
    "- [ ] No"
   ]
  },
  {
   "cell_type": "markdown",
   "metadata": {
    "vscode": {
     "languageId": "plaintext"
    }
   },
   "source": [
    "## Q.3\n",
    "Is markdown a markup language to produce better documentation ?\n",
    "\n",
    "- [X] Yes\n",
    "- [ ] No"
   ]
  },
  {
   "cell_type": "markdown",
   "metadata": {},
   "source": [
    "## Q.4\n",
    "Should python notebooks files be named in CamelCase convention like this `DataSampleTest.ipynb`\n",
    "\n",
    "- [ ] Yes\n",
    "- [X] No"
   ]
  },
  {
   "cell_type": "markdown",
   "metadata": {},
   "source": [
    "## Q.5\n",
    "Creating a code cell in a jupyter notebook, then adding the code `print(Ola Mundo)` and pressing CTRL+ENTER will give un error ?\n",
    "\n",
    "- [X] Yes\n",
    "- [ ] No"
   ]
  }
 ],
 "metadata": {
  "kernelspec": {
   "display_name": "venv",
   "language": "python",
   "name": "python3"
  },
  "language_info": {
   "codemirror_mode": {
    "name": "ipython",
    "version": 3
   },
   "file_extension": ".py",
   "mimetype": "text/x-python",
   "name": "python",
   "nbconvert_exporter": "python",
   "pygments_lexer": "ipython3",
   "version": "3.12.3"
  }
 },
 "nbformat": 4,
 "nbformat_minor": 2
}
