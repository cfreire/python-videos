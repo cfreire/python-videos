{
 "cells": [
  {
   "cell_type": "markdown",
   "metadata": {},
   "source": [
    "# Video #4 Quiz\n",
    "\n",
    "```txt\n",
    "       video:  4\n",
    "       title:  Python functions quiz\n",
    "      author:  César Freire <cesar.freire@training.rumos.pt>\n",
    "   reviewers:  Ana Felizardo, Paulo Martins\n",
    "affiliations:  Rumos Formação\n",
    "```"
   ]
  },
  {
   "cell_type": "markdown",
   "metadata": {},
   "source": [
    "## Q.1\n",
    "__A function definitions starts with the keyword__\n",
    "\n",
    "- [X] def\n",
    "- [ ] function\n",
    "- [ ] fun\n",
    "- [ ] Sub"
   ]
  },
  {
   "cell_type": "markdown",
   "metadata": {},
   "source": [
    "## Q.2\n",
    "\n",
    "__A function parameter is a kind of variable accessible__\n",
    "\n",
    "\n",
    "- [ ] Only outside the function\n",
    "- [X] Only inside the function\n",
    "- [ ] After the function definition end's\n",
    "- [ ] Anywhere in the code"
   ]
  },
  {
   "cell_type": "markdown",
   "metadata": {},
   "source": [
    "## Q.3\n",
    "\n",
    "__The way of passing arguments into a function, in which the order determines the parameter values, is called__\n",
    "\n",
    "- [ ] args\n",
    "- [ ] def\n",
    "- [ ] keyword \n",
    "- [X] positional "
   ]
  },
  {
   "cell_type": "markdown",
   "metadata": {},
   "source": [
    "## Q.4\n",
    "\n",
    "__A function that does not have the `return` statement returns__\n",
    "\n",
    "\n",
    "- [ ] 0\n",
    "- [ ] null\n",
    "- [X] None\n",
    "- [ ] empty string"
   ]
  },
  {
   "cell_type": "markdown",
   "metadata": {},
   "source": [
    "## Q.5\n",
    "\n",
    "__A Variable defined outside a function__\n",
    "\n",
    "- [ ] May be read and written\n",
    "- [X] May be read, but not written by default\n",
    "- [ ] Cannot be read or written\n",
    "- [ ] Only if is called 'home'"
   ]
  },
  {
   "cell_type": "markdown",
   "metadata": {},
   "source": [
    "## Q.6\n",
    "\n",
    "__What is the output of the following code snippet__\n",
    "\n",
    "```txt\n",
    "def fun(in=2, out=3):\n",
    "    return in * out\n",
    "\n",
    "print(fun(3))\n",
    "```\n",
    "\n",
    "- [ ] 6\n",
    "- [ ] 3\n",
    "- [X] Error (invalid syntax)\n",
    "- [ ] 27"
   ]
  }
 ],
 "metadata": {
  "kernelspec": {
   "display_name": "venv",
   "language": "python",
   "name": "python3"
  },
  "language_info": {
   "codemirror_mode": {
    "name": "ipython",
    "version": 3
   },
   "file_extension": ".py",
   "mimetype": "text/x-python",
   "name": "python",
   "nbconvert_exporter": "python",
   "pygments_lexer": "ipython3",
   "version": "3.12.3"
  }
 },
 "nbformat": 4,
 "nbformat_minor": 2
}
