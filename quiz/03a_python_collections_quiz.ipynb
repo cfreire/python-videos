{
 "cells": [
  {
   "cell_type": "markdown",
   "metadata": {},
   "source": [
    "# Video #3 Quiz\n",
    "\n",
    "```txt\n",
    "       video:  3\n",
    "       title:  Python collections quiz\n",
    "      author:  César Freire <cesar.freire@training.rumos.pt>\n",
    "   reviewers:  Ana Felizardo, Paulo Martins\n",
    "affiliations:  Rumos Formação\n",
    "```"
   ]
  },
  {
   "cell_type": "markdown",
   "metadata": {},
   "source": [
    "## Q.1\n",
    "__In the following dictionary, how to access the value 4:__\n",
    "\n",
    "`d = {'A': 1, 'B': 2, 'C': 3, 'D': 4 }`\n",
    "\n",
    "- [ ] D(4)\n",
    "- [ ] d.4\n",
    "- [X] d['D']\n",
    "- [ ] d['d']"
   ]
  },
  {
   "cell_type": "markdown",
   "metadata": {},
   "source": [
    "## Q.2\n",
    "\n",
    "__What is the output of the following code__\n",
    "\n",
    "```python\n",
    "my_list = [3, 1, -1]\n",
    "my_list[-1] = my_list[2]\n",
    "print(my_list)\n",
    "```\n",
    "\n",
    "- [ ] [3, -1, -1]\n",
    "- [ ] [3, -1,  1]\n",
    "- [ ] [3,  1,  1]\n",
    "- [X] [3,  1, -1]"
   ]
  },
  {
   "cell_type": "markdown",
   "metadata": {},
   "source": [
    "## Q.3\n",
    "\n",
    "__Witch of the following statement is true__\n",
    "\n",
    "```python\n",
    "nums = []\n",
    "vals = nums[:]\n",
    "vals.append(1)\n",
    "```\n",
    "- [X] `vals` is longer that `nums`\n",
    "- [ ] `nums` is longer that `vals` \n",
    "- [ ] they are of same length\n",
    "- [ ] It gives un error"
   ]
  },
  {
   "cell_type": "markdown",
   "metadata": {},
   "source": [
    "## Q.4\n",
    "\n",
    "__How many elements does the `my_list` contains__\n",
    "\n",
    "```python\n",
    "my_list = [0 for _ in range(1,4)]\n",
    "```\n",
    "\n",
    "- [ ] 1\n",
    "- [ ] 2\n",
    "- [X] 3\n",
    "- [ ] 4"
   ]
  },
  {
   "cell_type": "markdown",
   "metadata": {},
   "source": [
    "## Q.5\n",
    "\n",
    "__Why is the code `my_tuple = (12)` is not a tuple__\n",
    "\n",
    "- [ ] Must be defined with square brackets []\n",
    "- [X] It misses comma (,)\n",
    "- [ ] Tuples must have more than one value\n",
    "- [ ] Tuples cannot have integers"
   ]
  },
  {
   "cell_type": "markdown",
   "metadata": {},
   "source": [
    "## Q.6\n",
    "\n",
    "__Given the set `my_set = {'a', 'b', 'c'}` how can we get the result `{'a', 'b', 'c', 'd'}`__\n",
    "\n",
    "- [X] `my_set.add('d')`\n",
    "- [ ] `my_set.union('c')`\n",
    "- [ ] `my_set.difference('a')`\n",
    "- [ ] All of the above "
   ]
  }
 ],
 "metadata": {
  "kernelspec": {
   "display_name": "venv",
   "language": "python",
   "name": "python3"
  },
  "language_info": {
   "codemirror_mode": {
    "name": "ipython",
    "version": 3
   },
   "file_extension": ".py",
   "mimetype": "text/x-python",
   "name": "python",
   "nbconvert_exporter": "python",
   "pygments_lexer": "ipython3",
   "version": "3.12.3"
  }
 },
 "nbformat": 4,
 "nbformat_minor": 2
}
