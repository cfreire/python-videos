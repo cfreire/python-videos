{
 "cells": [
  {
   "cell_type": "markdown",
   "metadata": {},
   "source": [
    "# Video #2 Quiz\n",
    "\n",
    "```txt\n",
    "       video:  2\n",
    "       title:  Python crash course quiz\n",
    "      author:  César Freire <cesar.freire@training.rumos.pt>\n",
    "   reviewers:  Ana Felizardo, Paulo Martins\n",
    "affiliations:  Rumos Formação\n",
    "```"
   ]
  },
  {
   "cell_type": "markdown",
   "metadata": {},
   "source": [
    "## Q.1\n",
    "__A difference between integer and floating-point numbers lies in the fact that:__\n",
    "\n",
    "- [X] Integers will not support factional part while floating-point does \n",
    "- [ ] There is no difference\n",
    "- [ ] There is a limit in integers\n",
    "- [ ] Floating-point requires python 3.10 version"
   ]
  },
  {
   "cell_type": "markdown",
   "metadata": {},
   "source": [
    "## Q.2\n",
    "\n",
    "__The result of the following addition__\n",
    "\n",
    "`144 + 0.0`\n",
    "\n",
    "is ?\n",
    "\n",
    "- [ ] 144\n",
    "- [ ] Error\n",
    "- [X] 144.0\n",
    "- [ ] Cannot be evaluated"
   ]
  },
  {
   "cell_type": "markdown",
   "metadata": {},
   "source": [
    "## Q.3\n",
    "\n",
    "__What is que character to indicate a string in python__\n",
    "\n",
    "- [ ] Double quotes (\")\n",
    "- [ ] Single quotes (')\n",
    "- [X] All of the above"
   ]
  },
  {
   "cell_type": "markdown",
   "metadata": {},
   "source": [
    "## Q.4\n",
    "\n",
    "`import this` \n",
    "\n",
    "__gives you__\n",
    "\n",
    "- [ ] All internal variables\n",
    "- [X] The Zen of Python\n",
    "- [ ] It's not used in Python 3\n",
    "- [ ] It will install core libraries"
   ]
  },
  {
   "cell_type": "markdown",
   "metadata": {},
   "source": [
    "## Q.5\n",
    "\n",
    "__Why the following code will not print numbers: 0,1,2,3__\n",
    "\n",
    "```python\n",
    "for x in range(3):  # print three numbers\n",
    "    print(x)\n",
    "``` \n",
    "\n",
    "- [ ] Variable `x` was not initialized\n",
    "- [ ] Because print is not ident with 4 spaces\n",
    "- [X] Because arrays in Python start at zero\n",
    "- [ ] You are wrong it will print: 0,1,2,3"
   ]
  },
  {
   "cell_type": "markdown",
   "metadata": {},
   "source": [
    "## Q.6\n",
    "\n",
    "__What is the correct code snippet to get the python version__\n",
    "\n",
    "- [X] `from sys import version; print(version)`\n",
    "- [ ] `print(python.version)`\n",
    "- [ ] `import sys; print(sys.ver)`\n",
    "- [ ] `get version; put version`"
   ]
  },
  {
   "cell_type": "markdown",
   "metadata": {},
   "source": [
    "## Q.7\n",
    "\n",
    "__What does the percentage operator(%) gives in python__\n",
    "\n",
    "- [ ] Calculates percentage normally\n",
    "- [ ] Divides two numbers\n",
    "- [ ] It's not used\n",
    "- [X] Remainder of int division"
   ]
  },
  {
   "cell_type": "markdown",
   "metadata": {},
   "source": [
    "## Q.8\n",
    "\n",
    "__How many stars will the following snippet send to console__\n",
    "\n",
    "```python\n",
    "i = 2\n",
    "while  i >= 0:\n",
    "    print('*')\n",
    "    i -= 2\n",
    "```\n",
    "\n",
    "- [ ] 1\n",
    "- [X] 2\n",
    "- [ ] 4\n",
    "- [ ] Gives un error"
   ]
  }
 ],
 "metadata": {
  "kernelspec": {
   "display_name": "venv",
   "language": "python",
   "name": "python3"
  },
  "language_info": {
   "codemirror_mode": {
    "name": "ipython",
    "version": 3
   },
   "file_extension": ".py",
   "mimetype": "text/x-python",
   "name": "python",
   "nbconvert_exporter": "python",
   "pygments_lexer": "ipython3",
   "version": "3.12.3"
  }
 },
 "nbformat": 4,
 "nbformat_minor": 2
}
