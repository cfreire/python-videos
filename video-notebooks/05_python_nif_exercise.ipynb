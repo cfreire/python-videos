{
  "metadata": {
    "kernelspec": {
      "name": "python",
      "display_name": "Python (Pyodide)",
      "language": "python"
    },
    "language_info": {
      "codemirror_mode": {
        "name": "python",
        "version": 3
      },
      "file_extension": ".py",
      "mimetype": "text/x-python",
      "name": "python",
      "nbconvert_exporter": "python",
      "pygments_lexer": "ipython3",
      "version": "3.8"
    }
  },
  "nbformat_minor": 5,
  "nbformat": 4,
  "cells": [
    {
      "id": "9990ae26",
      "cell_type": "markdown",
      "source": "# Python exercise\n\n```txt\n       video:  5\n       title:  Python exercise\n      author:  César Freire <cesar.freire@training.rumos.pt>\n   reviewers:  Ana Felizardo, Paulo Martins\naffiliations:  Rumos Formação\n```\n",
      "metadata": {}
    },
    {
      "id": "ac88d0f6",
      "cell_type": "markdown",
      "source": "## Introduction\n\n### How to validate \"Número de identificação fiscal\" aka NIF\nhttps://pt.wikipedia.org/wiki/N%C3%BAmero_de_identifica%C3%A7%C3%A3o_fiscal\n\n### The Verhoeff algorithm\nhttps://en.wikipedia.org/wiki/Verhoeff_algorithm\n\n---\n\n## NIF Validator calculations\nRUMOS NIF: 502624558\n\n\n        5   0   2   6   2   4   5   5   8 \n        9   8   7   6   5   4   3   2   1 \n        ----------------------------------\n        45  0  14  36  10  16  15  10   8 = Sum(154) mod 11 == 0  \n",
      "metadata": {}
    },
    {
      "id": "2bca9037",
      "cell_type": "code",
      "source": "# code\nnif = '502624558'\n\ntotal = []\npos = 0\n\nfor digit in nif:\n    mul = int(digit) * (9-pos)\n    total.append(mul)  # add lo list\n    print(f'>>> {9-pos} x {int(digit)} = {mul:02}') \n    pos = pos + 1\n\ntotal",
      "metadata": {
        "trusted": true
      },
      "outputs": [
        {
          "name": "stdout",
          "text": ">>> 9 x 5 = 45\n>>> 8 x 0 = 00\n>>> 7 x 2 = 14\n>>> 6 x 6 = 36\n>>> 5 x 2 = 10\n>>> 4 x 4 = 16\n>>> 3 x 5 = 15\n>>> 2 x 5 = 10\n>>> 1 x 8 = 08\n",
          "output_type": "stream"
        },
        {
          "execution_count": 1,
          "output_type": "execute_result",
          "data": {
            "text/plain": "[45, 0, 14, 36, 10, 16, 15, 10, 8]"
          },
          "metadata": {}
        }
      ],
      "execution_count": 1
    },
    {
      "id": "89c88f2a",
      "cell_type": "code",
      "source": "# code\nsum(total) % 11",
      "metadata": {
        "trusted": true
      },
      "outputs": [
        {
          "execution_count": 2,
          "output_type": "execute_result",
          "data": {
            "text/plain": "0"
          },
          "metadata": {}
        }
      ],
      "execution_count": 2
    },
    {
      "id": "f0f7af16",
      "cell_type": "markdown",
      "source": "### Reduce code enumerate",
      "metadata": {}
    },
    {
      "id": "03153961",
      "cell_type": "code",
      "source": "# code\ntotal = []\nfor pos, digit in enumerate(nif):\n    total.append( int(digit) * (9-pos) )\n\nsum(total) % 11",
      "metadata": {
        "trusted": true
      },
      "outputs": [
        {
          "execution_count": 3,
          "output_type": "execute_result",
          "data": {
            "text/plain": "0"
          },
          "metadata": {}
        }
      ],
      "execution_count": 3
    },
    {
      "id": "06321967",
      "cell_type": "markdown",
      "source": "### Better with a tuple comprehension",
      "metadata": {}
    },
    {
      "id": "108b0747",
      "cell_type": "code",
      "source": "# code\ntotal = sum(int(digit) * (9-pos) for pos, digit in enumerate(nif) )\n\ntotal % 11 == 0",
      "metadata": {
        "trusted": true
      },
      "outputs": [
        {
          "execution_count": 4,
          "output_type": "execute_result",
          "data": {
            "text/plain": "True"
          },
          "metadata": {}
        }
      ],
      "execution_count": 4
    },
    {
      "id": "6ec1af37",
      "cell_type": "markdown",
      "source": "### Move it to a function\n\n- reuse\n- simplicity\n- testing",
      "metadata": {}
    },
    {
      "id": "27cf7bae",
      "cell_type": "code",
      "source": "# code\ndef validate_nif(nif: str) -> bool:\n    \"\"\" Validates NIF number \"\"\"\n    total = sum( int(digit) * (9 - pos) for pos, digit in enumerate(nif) )\n    return total % 11 == 0",
      "metadata": {
        "trusted": true
      },
      "outputs": [],
      "execution_count": 5
    },
    {
      "id": "a706d011",
      "cell_type": "code",
      "source": "validate_nif(nif='999999999') # False",
      "metadata": {
        "trusted": true
      },
      "outputs": [
        {
          "execution_count": 6,
          "output_type": "execute_result",
          "data": {
            "text/plain": "False"
          },
          "metadata": {}
        }
      ],
      "execution_count": 6
    },
    {
      "id": "40690d52",
      "cell_type": "code",
      "source": "validate_nif(nif='999999990') # True",
      "metadata": {
        "trusted": true
      },
      "outputs": [
        {
          "execution_count": 7,
          "output_type": "execute_result",
          "data": {
            "text/plain": "True"
          },
          "metadata": {}
        }
      ],
      "execution_count": 7
    },
    {
      "id": "b55da3f8",
      "cell_type": "markdown",
      "source": "### Improve function resilience to bad arguments",
      "metadata": {}
    },
    {
      "id": "4a317544",
      "cell_type": "code",
      "source": "def validate_nif(nif: str) -> bool:\n    \"\"\" Validates PT NIF \"\"\"\n    \n    # test for length and type\n    if len(nif) != 9 or not nif.isdigit():\n        return False\n    \n    # test first digit \n    if nif[0] not in '12356789':\n        return False\n    \n    total = sum( int(digit) * (9 - pos) for pos, digit in enumerate(nif) )\n    return total % 11 == 0\n",
      "metadata": {
        "trusted": true
      },
      "outputs": [],
      "execution_count": 5
    },
    {
      "id": "60bcb161",
      "cell_type": "code",
      "source": "validate_nif('99999999O')  # 'O' not '0' at the end",
      "metadata": {
        "trusted": true
      },
      "outputs": [
        {
          "execution_count": 9,
          "output_type": "execute_result",
          "data": {
            "text/plain": "False"
          },
          "metadata": {}
        }
      ],
      "execution_count": 9
    },
    {
      "id": "2dd15b9c",
      "cell_type": "markdown",
      "source": "### Do more testings with other resources\nGet a list of public NIF values\n\nhttps://seonline.isca.ua.pt/se/loja/modelos/NIF-V%C3%A1lidos.pdf",
      "metadata": {}
    },
    {
      "id": "e19bb12e",
      "cell_type": "code",
      "source": "def convert_txt_to_list(file_name: str) -> list:\n    \"\"\" Converts a txt file to a list \"\"\"\n\n    with open(file_name) as file:\n        nif_list = [line.strip().split() for  line in file]\n        flat_list = [item for sublist in nif_list for item in sublist]\n    return flat_list\n\nconvert_txt_to_list('nif_list.txt');",
      "metadata": {
        "trusted": true
      },
      "outputs": [],
      "execution_count": 3
    },
    {
      "id": "8cb3daee",
      "cell_type": "markdown",
      "source": "### Count the number of False's",
      "metadata": {}
    },
    {
      "id": "9d87a020",
      "cell_type": "code",
      "source": "result = [validate_nif(nif) for nif in convert_txt_to_list('nif_list.txt')]\nresult.count(False) / len(result) * 100",
      "metadata": {
        "trusted": true
      },
      "outputs": [
        {
          "execution_count": 6,
          "output_type": "execute_result",
          "data": {
            "text/plain": "9.25"
          },
          "metadata": {}
        }
      ],
      "execution_count": 6
    },
    {
      "id": "ea1370e3",
      "cell_type": "markdown",
      "source": "### Try to find the problem",
      "metadata": {}
    },
    {
      "id": "91433283",
      "cell_type": "code",
      "source": "map = { chr(48+number):0 for number in range(10) }\n\nfor nif in convert_txt_to_list('nif_list.txt'):\n    last_digit = nif[-1]\n    if validate_nif(nif) == False:\n        map[last_digit] += 1\n\nmap",
      "metadata": {
        "trusted": true
      },
      "outputs": [
        {
          "execution_count": 7,
          "output_type": "execute_result",
          "data": {
            "text/plain": "{'0': 74,\n '1': 0,\n '2': 0,\n '3': 0,\n '4': 0,\n '5': 0,\n '6': 0,\n '7': 0,\n '8': 0,\n '9': 0}"
          },
          "metadata": {}
        }
      ],
      "execution_count": 7
    },
    {
      "id": "835c6a12",
      "cell_type": "markdown",
      "source": "### Correct the function to solve 0/10 problem\nFinal version",
      "metadata": {}
    },
    {
      "id": "4636ce95",
      "cell_type": "code",
      "source": "def validate_nif(nif):\n    \"\"\" Validates PT NIF \"\"\"\n    \n    if len(nif) != 9 or not nif.isdigit():\n        return False\n    \n    if nif[0] not in '12356789':\n        return False\n\n    total = sum( int(digit) * (9 - pos) for pos, digit in enumerate(nif) )\n\n    # correct 0/10 problem\n    if total % 11 == 1 and nif[-1] == '0':\n        total += 10\n\n    return total % 11 == 0",
      "metadata": {
        "trusted": true
      },
      "outputs": [],
      "execution_count": 8
    },
    {
      "id": "71fca8b7",
      "cell_type": "code",
      "source": "# test again\nassert validate_nif('192453670') == True ",
      "metadata": {
        "trusted": true
      },
      "outputs": [],
      "execution_count": 14
    },
    {
      "id": "e50ccb4b",
      "cell_type": "code",
      "source": "# see if you got it right\nresult = [validate_nif(nif) for nif in convert_txt_to_list('nif_list.txt')]\nresult.count(False) / sum(result) * 100",
      "metadata": {
        "trusted": true
      },
      "outputs": [
        {
          "ename": "<class 'FileNotFoundError'>",
          "evalue": "[Errno 44] No such file or directory: 'nif_list.txt'",
          "traceback": [
            "\u001b[0;31m---------------------------------------------------------------------------\u001b[0m",
            "\u001b[0;31mFileNotFoundError\u001b[0m                         Traceback (most recent call last)",
            "Cell \u001b[0;32mIn[15], line 2\u001b[0m\n\u001b[1;32m      1\u001b[0m \u001b[38;5;66;03m# see if you got it right\u001b[39;00m\n\u001b[0;32m----> 2\u001b[0m result \u001b[38;5;241m=\u001b[39m [validate_nif(nif) \u001b[38;5;28;01mfor\u001b[39;00m nif \u001b[38;5;129;01min\u001b[39;00m \u001b[43mconvert_txt_to_list\u001b[49m\u001b[43m(\u001b[49m\u001b[38;5;124;43m'\u001b[39;49m\u001b[38;5;124;43mnif_list.txt\u001b[39;49m\u001b[38;5;124;43m'\u001b[39;49m\u001b[43m)\u001b[49m]\n\u001b[1;32m      3\u001b[0m result\u001b[38;5;241m.\u001b[39mcount(\u001b[38;5;28;01mFalse\u001b[39;00m) \u001b[38;5;241m/\u001b[39m \u001b[38;5;28msum\u001b[39m(result) \u001b[38;5;241m*\u001b[39m \u001b[38;5;241m100\u001b[39m\n",
            "Cell \u001b[0;32mIn[10], line 4\u001b[0m, in \u001b[0;36mconvert_txt_to_list\u001b[0;34m(file_name)\u001b[0m\n\u001b[1;32m      1\u001b[0m \u001b[38;5;28;01mdef\u001b[39;00m \u001b[38;5;21mconvert_txt_to_list\u001b[39m(file_name: \u001b[38;5;28mstr\u001b[39m) \u001b[38;5;241m-\u001b[39m\u001b[38;5;241m>\u001b[39m \u001b[38;5;28mlist\u001b[39m:\n\u001b[1;32m      2\u001b[0m \u001b[38;5;250m    \u001b[39m\u001b[38;5;124;03m\"\"\" Converts a txt file to a list \"\"\"\u001b[39;00m\n\u001b[0;32m----> 4\u001b[0m     \u001b[38;5;28;01mwith\u001b[39;00m \u001b[38;5;28;43mopen\u001b[39;49m\u001b[43m(\u001b[49m\u001b[43mfile_name\u001b[49m\u001b[43m)\u001b[49m \u001b[38;5;28;01mas\u001b[39;00m file:\n\u001b[1;32m      5\u001b[0m         nif_list \u001b[38;5;241m=\u001b[39m [line\u001b[38;5;241m.\u001b[39mstrip()\u001b[38;5;241m.\u001b[39msplit() \u001b[38;5;28;01mfor\u001b[39;00m  line \u001b[38;5;129;01min\u001b[39;00m file]\n\u001b[1;32m      6\u001b[0m         flat_list \u001b[38;5;241m=\u001b[39m [item \u001b[38;5;28;01mfor\u001b[39;00m sublist \u001b[38;5;129;01min\u001b[39;00m nif_list \u001b[38;5;28;01mfor\u001b[39;00m item \u001b[38;5;129;01min\u001b[39;00m sublist]\n",
            "File \u001b[0;32m/lib/python3.12/site-packages/IPython/core/interactiveshell.py:324\u001b[0m, in \u001b[0;36m_modified_open\u001b[0;34m(file, *args, **kwargs)\u001b[0m\n\u001b[1;32m    317\u001b[0m \u001b[38;5;28;01mif\u001b[39;00m file \u001b[38;5;129;01min\u001b[39;00m {\u001b[38;5;241m0\u001b[39m, \u001b[38;5;241m1\u001b[39m, \u001b[38;5;241m2\u001b[39m}:\n\u001b[1;32m    318\u001b[0m     \u001b[38;5;28;01mraise\u001b[39;00m \u001b[38;5;167;01mValueError\u001b[39;00m(\n\u001b[1;32m    319\u001b[0m         \u001b[38;5;124mf\u001b[39m\u001b[38;5;124m\"\u001b[39m\u001b[38;5;124mIPython won\u001b[39m\u001b[38;5;124m'\u001b[39m\u001b[38;5;124mt let you open fd=\u001b[39m\u001b[38;5;132;01m{\u001b[39;00mfile\u001b[38;5;132;01m}\u001b[39;00m\u001b[38;5;124m by default \u001b[39m\u001b[38;5;124m\"\u001b[39m\n\u001b[1;32m    320\u001b[0m         \u001b[38;5;124m\"\u001b[39m\u001b[38;5;124mas it is likely to crash IPython. If you know what you are doing, \u001b[39m\u001b[38;5;124m\"\u001b[39m\n\u001b[1;32m    321\u001b[0m         \u001b[38;5;124m\"\u001b[39m\u001b[38;5;124myou can use builtins\u001b[39m\u001b[38;5;124m'\u001b[39m\u001b[38;5;124m open.\u001b[39m\u001b[38;5;124m\"\u001b[39m\n\u001b[1;32m    322\u001b[0m     )\n\u001b[0;32m--> 324\u001b[0m \u001b[38;5;28;01mreturn\u001b[39;00m \u001b[43mio_open\u001b[49m\u001b[43m(\u001b[49m\u001b[43mfile\u001b[49m\u001b[43m,\u001b[49m\u001b[43m \u001b[49m\u001b[38;5;241;43m*\u001b[39;49m\u001b[43margs\u001b[49m\u001b[43m,\u001b[49m\u001b[43m \u001b[49m\u001b[38;5;241;43m*\u001b[39;49m\u001b[38;5;241;43m*\u001b[39;49m\u001b[43mkwargs\u001b[49m\u001b[43m)\u001b[49m\n",
            "\u001b[0;31mFileNotFoundError\u001b[0m: [Errno 44] No such file or directory: 'nif_list.txt'"
          ],
          "output_type": "error"
        }
      ],
      "execution_count": 15
    }
  ]
}