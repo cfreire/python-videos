{
  "cells": [
    {
      "cell_type": "markdown",
      "metadata": {},
      "source": [
        "# Python core exercises\n",
        "\n",
        "```txt\n",
        "       video:  2\n",
        "       title:  Python core exercises\n",
        "      author:  César Freire <cesar.freire@training.rumos.pt>\n",
        "   reviewers:  Ana Felizardo, Paulo Martins\n",
        "affiliations:  Rumos Formação\n",
        "```"
      ]
    },
    {
      "cell_type": "markdown",
      "metadata": {},
      "source": [
        "## Exercise 1\n",
        "\n",
        "* Create a variable `x` of float type equals to 2.3\n",
        "* Create a variable `y`of int type equals to 4\n",
        "* Print the value of x raise to y rounded to 3 decimal digits"
      ]
    },
    {
      "cell_type": "code",
      "execution_count": 1,
      "metadata": {
        "trusted": true
      },
      "outputs": [],
      "source": [
        "# code Ex. 1\n"
      ]
    },
    {
      "cell_type": "markdown",
      "metadata": {},
      "source": [
        "## Exercise 2\n",
        "https://en.wikipedia.org/wiki/The_quick_brown_fox_jumps_over_the_lazy_dog\n",
        "\n",
        "Having the text variable defined as:\n",
        "\n",
        "`text = 'The quick brown fox jumps over the lazy dog'`\n",
        "\n",
        "and using string function to manipulate the text, try to output the following:\n",
        "\n",
        "`'THE QUICK BROWN FOX JUMPS OVER THE LAZY'`\n"
      ]
    },
    {
      "cell_type": "code",
      "execution_count": 2,
      "metadata": {
        "trusted": true
      },
      "outputs": [],
      "source": [
        "# code Ex. 2\n"
      ]
    },
    {
      "cell_type": "markdown",
      "metadata": {},
      "source": [
        "## Exercise 3\n",
        "https://semver.org/\n",
        "\n",
        "Python adopts `semver` notation to track versions of libraries.\n",
        "\n",
        "Create a code snippet that prints Python version divided by (major, minor). Example for a python3.12 installation\n",
        "\n",
        "output:\n",
        "\n",
        "`major=3, minor=12`"
      ]
    },
    {
      "cell_type": "code",
      "execution_count": 3,
      "metadata": {
        "trusted": true
      },
      "outputs": [],
      "source": [
        "# code Ex. 3\n"
      ]
    },
    {
      "cell_type": "markdown",
      "metadata": {},
      "source": [
        "## Exercise 4\n",
        "https://en.wikipedia.org/wiki/Fibonacci_sequence\n",
        "\n",
        "The fibonacci sequence is used during the software develop life cycle (SLDC) especially when using agile methodologies like SCRUM [scrum-poker](https://www.scrumpoker-online.org/en/)\n",
        "\n",
        "Create a code snippet with variables as loops that print de sequence until 100\n",
        "\n",
        "output:\n",
        "\n",
        "`fibonacci: 0, 1, 1, 2, 3, 5, 8, 13, 21, 34, 55, 89,`"
      ]
    },
    {
      "cell_type": "code",
      "execution_count": 4,
      "metadata": {
        "trusted": true
      },
      "outputs": [],
      "source": [
        "# code Ex. 4\n"
      ]
    }
  ],
  "metadata": {
    "kernelspec": {
      "display_name": "Python (Pyodide)",
      "language": "python",
      "name": "python"
    },
    "language_info": {
      "codemirror_mode": {
        "name": "python",
        "version": 3
      },
      "file_extension": ".py",
      "mimetype": "text/x-python",
      "name": "python",
      "nbconvert_exporter": "python",
      "pygments_lexer": "ipython3",
      "version": "3.8"
    }
  },
  "nbformat": 4,
  "nbformat_minor": 4
}
