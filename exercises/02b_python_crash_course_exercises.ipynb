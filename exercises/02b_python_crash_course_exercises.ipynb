{
  "metadata": {
    "kernelspec": {
      "name": "python",
      "display_name": "Python (Pyodide)",
      "language": "python"
    },
    "language_info": {
      "codemirror_mode": {
        "name": "python",
        "version": 3
      },
      "file_extension": ".py",
      "mimetype": "text/x-python",
      "name": "python",
      "nbconvert_exporter": "python",
      "pygments_lexer": "ipython3",
      "version": "3.8"
    }
  },
  "nbformat_minor": 4,
  "nbformat": 4,
  "cells": [
    {
      "cell_type": "markdown",
      "source": "# Python core exercises\n\n```txt\n       video:  2\n       title:  Python core exercises\n      author:  César Freire <cesar.freire@training.rumos.pt>\n   reviewers:  Ana Felizardo, Paulo Martins\naffiliations:  Rumos Formação\n```",
      "metadata": {}
    },
    {
      "cell_type": "markdown",
      "source": "## Exercise 1\n\n* Create a variable `x` of float type equals to 2.3\n* Create a variable `y`of int type equals to 4\n* Print the value of x raise to y rounded to 3 decimal digits",
      "metadata": {}
    },
    {
      "cell_type": "code",
      "source": "# code Ex. 1\n",
      "metadata": {
        "trusted": true
      },
      "outputs": [],
      "execution_count": 1
    },
    {
      "cell_type": "markdown",
      "source": "## Exercise 2\nhttps://en.wikipedia.org/wiki/The_quick_brown_fox_jumps_over_the_lazy_dog\n\nHaving the text variable defined as:\n\n`text = 'The quick brown fox jumps over the lazy dog'`\n\nand using string function to manipulate the text, try to output the following:\n\n`'QUICK BROWN FOX JUMPS OVER THE LAZY'`\n",
      "metadata": {}
    },
    {
      "cell_type": "code",
      "source": "# code Ex. 2\n",
      "metadata": {
        "trusted": true
      },
      "outputs": [],
      "execution_count": 2
    },
    {
      "cell_type": "markdown",
      "source": "## Exercise 3\nhttps://semver.org/\n\nPython adopts `semver` notation to track versions of libraries.\n\nCreate a code snippet that prints Python version divided by (major, minor). Example for a python3.12 installation\n\noutput:\n\n`major=3, minor=12`",
      "metadata": {}
    },
    {
      "cell_type": "code",
      "source": "# code Ex. 3\n",
      "metadata": {
        "trusted": true
      },
      "outputs": [],
      "execution_count": 3
    },
    {
      "cell_type": "markdown",
      "source": "## Exercise 4\nhttps://en.wikipedia.org/wiki/Fibonacci_sequence\n\nThe fibonacci sequence is used during the software develop life cycle (SLDC) especially when using agile methodologies like SCRUM [scrum-poker](https://www.scrumpoker-online.org/en/)\n\nCreate a code snippet with variables as loops that print de sequence until 100\n\noutput:\n\n`fibonacci: 0, 1, 1, 2, 3, 5, 8, 13, 21, 34, 55, 89,`",
      "metadata": {}
    },
    {
      "cell_type": "code",
      "source": "# code Ex. 4\n",
      "metadata": {
        "trusted": true
      },
      "outputs": [],
      "execution_count": 4
    }
  ]
}