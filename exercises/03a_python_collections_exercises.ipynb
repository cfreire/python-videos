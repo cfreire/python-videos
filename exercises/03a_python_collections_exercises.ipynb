{
 "cells": [
  {
   "cell_type": "markdown",
   "metadata": {},
   "source": [
    "# Python collections exercises\n",
    "\n",
    "```txt\n",
    "       video:  3\n",
    "       title:  Python collections exercises\n",
    "      author:  César Freire <cesar.freire@training.rumos.pt>\n",
    "   reviewers:  Ana Felizardo, Paulo Martins\n",
    "affiliations:  Rumos Formação\n",
    "```"
   ]
  },
  {
   "cell_type": "markdown",
   "metadata": {},
   "source": [
    "## Exercise 1\n",
    "\n",
    "Given the following `list` of oil brent prices in USD:\n",
    "\n",
    "```python\n",
    "brent_price = [54.06, 53.23, 55.64, 57.1, 56.91, 59.46, 60.47, 59.24, 58.8, 58.65, 59.81, \n",
    "59.85, 62.04, 62.18, 60.9, 61.05, 61.09, 61.49, 59.71, 60.98, 61.89, 62.46, 61.86, 62.26, \n",
    "61.67, 62.22, 61.01, 61.37, 61.3, 62.58, 63.27, 64.0, 65.65, 66.41, 65.86, 66.82, 66.91, \n",
    "66.91, 64.02, 64.51, 65.55, 65.03, 63.71, 64.44, 64.24, 64.51, 64.82, 65.66, 65.06, 65.33, \n",
    "65.89, 66.18, 66.11, 66.65, 67.13, 68.35, 68.3, 66.29, 67.37, 67.51, 67.35, 66.08, 67.93, \n",
    "69.08]\n",
    "\n",
    "Calculate the following:\n",
    "\n",
    "* Mean of first 10 days \n",
    "* Mean of last 10 days\n",
    "* Total mean of all days\n",
    "\n",
    "NOTE: print all calculations to 2 decimal digital. Python as a `statistics` library to help on `mean`\n",
    "\n",
    "```"
   ]
  },
  {
   "cell_type": "code",
   "execution_count": 1,
   "metadata": {},
   "outputs": [],
   "source": [
    "# code Ex. 1\n"
   ]
  },
  {
   "cell_type": "markdown",
   "metadata": {},
   "source": [
    "## Exercise 2\n",
    "\n",
    "Bellow is a dictionary of currency conversion rates to EUR\n",
    "\n",
    "`currencies = { 'USD': 0.92, 'GBP': 1.17, 'AOA': 0.0011, 'BTC': 58_290.94 }`\n",
    "\n",
    "Create a program to ask for a currency and a value. If the currency exists on the dictionary converts that value to EUR.\n",
    "Example:\n",
    "\n",
    "\n",
    "```txt\n",
    "Input:\n",
    "\n",
    "$ Currency: USD\n",
    "$ Value: 10.0\n",
    "\n",
    "Output:\n",
    "10.00 USD -> 9.20 EUR\n",
    "```"
   ]
  },
  {
   "cell_type": "code",
   "execution_count": null,
   "metadata": {},
   "outputs": [],
   "source": [
    "# Code Ex. 2 \n"
   ]
  },
  {
   "cell_type": "markdown",
   "metadata": {},
   "source": [
    "## Exercise: 3\n",
    "\n",
    "Portuguese IPMA as un API with JSON data, that allow us to retrieve last 3 hours of observation for major Portugal cities. Main objective is to calculate last 3h temperature average for your city.\n",
    "\n",
    "__IPMA API__\n",
    "\n",
    "https://api.ipma.pt/\n",
    "\n",
    "__Surface observations JSON__\n",
    "\n",
    "https://api.ipma.pt/open-data/observation/meteorology/stations/obs-surface.geojson\n",
    "\n",
    "\n",
    "__Station Ids__\n",
    "\n",
    "https://api.ipma.pt/open-data/observation/meteorology/stations/stations.json\n",
    "\n",
    "\n",
    "1. Import the `obs-surface.geojson` observations to jupyterLab Data folder by copy-paste or browser save as...\n",
    "1. Identify the `idEstacao` for your city. Example: `idEstacao == 7240919:`  # Lisboa\n",
    "1. Import the data to your code using the example bellow\n",
    "1. Create list of temperatures for your city\n",
    "1. Print mean (average) temperatures"
   ]
  },
  {
   "cell_type": "code",
   "execution_count": 10,
   "metadata": {},
   "outputs": [],
   "source": [
    "import json\n",
    "\n",
    "file_name = '../data/obs-surface.geojson'\n",
    "\n",
    "# Opening JSON file\n",
    "f = open(file_name)\n",
    "\n",
    "# returns JSON object as a dictionary\n",
    "data = json.load(f)\n",
    "\n",
    "# Closing file\n",
    "f.close()"
   ]
  },
  {
   "cell_type": "code",
   "execution_count": null,
   "metadata": {},
   "outputs": [],
   "source": [
    "# code Ex. 3\n"
   ]
  },
  {
   "cell_type": "markdown",
   "metadata": {},
   "source": [
    "## Exercise 4\n",
    "\n",
    "Exam solutions analytics\n",
    "\n",
    "Some examinations applications was the tendency to create random numbers with uniform distribution (Number of 1,2,3,4,... is equal) known as [CWE-331: Insufficient Entropy](https://cwe.mitre.org/data/definitions/331.html)\n",
    "\n",
    "\n",
    "In a given exam with 40 questions the following tuple are the answers.\n",
    "\n",
    "```python\n",
    "exam = ('A', 'B', 'C', 'A', 'A', 'B', 'C', 'D', 'D', 'D', \n",
    "        'D', 'B', 'C', 'B', 'C', 'B', 'D', 'C', 'A', 'D', \n",
    "        'A', 'D', 'C', 'C', 'D', 'A', 'A', 'A', 'A', 'D', \n",
    "        'D', 'A', 'A', 'D', 'C', 'B', 'B', 'A', 'C', 'C')\n",
    "```\n",
    "\n",
    "Create a script that counts how many 'A', 'B', 'C', 'D', there is on this tuple.\n",
    "\n",
    "__Optional question:__ \n",
    "\n",
    "Statistical prove using (Chi-Square)[https://docs.scipy.org/doc/scipy/reference/generated/scipy.stats.chisquare.html] test from 'scipy' library, what is the possibility that you may be wrong."
   ]
  },
  {
   "cell_type": "code",
   "execution_count": null,
   "metadata": {},
   "outputs": [],
   "source": [
    "# code Ex.4"
   ]
  }
 ],
 "metadata": {
  "kernelspec": {
   "display_name": "venv",
   "language": "python",
   "name": "python3"
  },
  "language_info": {
   "codemirror_mode": {
    "name": "ipython",
    "version": 3
   },
   "file_extension": ".py",
   "mimetype": "text/x-python",
   "name": "python",
   "nbconvert_exporter": "python",
   "pygments_lexer": "ipython3",
   "version": "3.12.3"
  }
 },
 "nbformat": 4,
 "nbformat_minor": 2
}
