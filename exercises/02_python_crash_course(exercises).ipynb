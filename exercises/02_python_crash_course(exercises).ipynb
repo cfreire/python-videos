{
 "cells": [
  {
   "cell_type": "markdown",
   "metadata": {},
   "source": [
    "# Python core exercises\n",
    "\n",
    "```txt\n",
    "       video:  2\n",
    "       title:  Python core exercises\n",
    "      author:  César Freire <cesar.freire@training.rumos.pt>\n",
    "   reviewers:  Ana Felizardo, Paulo Martins\n",
    "affiliations:  Rumos Formação\n",
    "```"
   ]
  }
 ],
 "metadata": {
  "language_info": {
   "name": "python"
  }
 },
 "nbformat": 4,
 "nbformat_minor": 2
}
