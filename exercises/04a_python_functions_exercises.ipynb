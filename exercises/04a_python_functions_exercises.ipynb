{
  "metadata": {
    "kernelspec": {
      "name": "python",
      "display_name": "Python (Pyodide)",
      "language": "python"
    },
    "language_info": {
      "codemirror_mode": {
        "name": "python",
        "version": 3
      },
      "file_extension": ".py",
      "mimetype": "text/x-python",
      "name": "python",
      "nbconvert_exporter": "python",
      "pygments_lexer": "ipython3",
      "version": "3.8"
    }
  },
  "nbformat_minor": 4,
  "nbformat": 4,
  "cells": [
    {
      "cell_type": "markdown",
      "source": "# Python functions exercises\n\n```txt\n       video:  4\n       title:  Python functions exercises\n      author:  César Freire <cesar.freire@training.rumos.pt>\n   reviewers:  Ana Felizardo, Paulo Martins\naffiliations:  Rumos Formação\n```",
      "metadata": {}
    },
    {
      "cell_type": "markdown",
      "source": "## Exercise 1\n\nCreate a functions that computes the square root of x $\\sqrt{x}$ rounded to optionally 3 digits\n\nExample:\n\n```python\ndef square_root(x:int, digits=3) -> float:\n    \"\"\" Rounded square root \"\"\"\n    # Write your logic here\n\n\n# Example of usage \nsquare_root(2)  # output: 1.414\n```",
      "metadata": {}
    },
    {
      "cell_type": "code",
      "source": "# code Ex. 1\n",
      "metadata": {
        "trusted": true
      },
      "outputs": [],
      "execution_count": null
    },
    {
      "cell_type": "markdown",
      "source": "## Exercise 2\n\nCreate a function that as a string parameter with spaces and will return that string in lowercase separated by underscores.\n\n__Example:__\n\ninput:\n\n`'Data from Server1.txt'`\n\noutput:\n\n`'data_from_server1.txt'`",
      "metadata": {}
    },
    {
      "cell_type": "code",
      "source": "# code Ex. 2 \n",
      "metadata": {
        "trusted": true
      },
      "outputs": [],
      "execution_count": null
    },
    {
      "cell_type": "markdown",
      "source": "## Exercise: 3\n\nCreate a function that returns a list with the fibonacci sequence until a given number (n).\n\nExample:\n\n```python\nfibonacci(n=200)  # output [0, 1, 1, 2, 3, 5, 8, 13, 21, 34, 55, 89, 144]\n```\n",
      "metadata": {}
    },
    {
      "cell_type": "code",
      "source": "# code Ex.3\n",
      "metadata": {
        "trusted": true
      },
      "outputs": [],
      "execution_count": null
    },
    {
      "cell_type": "markdown",
      "source": "## Exercise 4\n\nAn extra day is added to the calendar almost every four years as February 29, and the day is called a leap day. \n\nIn the Gregorian calendar, three conditions are used to identify leap years:\n\n* The year can be evenly divided by 4, is a leap year, unless:\n* The year can be evenly divided by 100, it is NOT a leap year, unless:\n* The year is also evenly divisible by 400. Then it is a leap year.\n* This means that in the Gregorian calendar, the years 2000 and 2400 are leap years, while 1800, 1900, 2100, 2200, 2300 and 2500 are NOT leap years. Source\n\nGiven a year, determine whether it is a leap year. If it is a leap year, return the Boolean True, otherwise return False.\n\nExample:\n\n```python\ndef is_leap(year: int) -> bool:\n    \"\"\" Tests is year is a leap year \"\"\"\n    \n    # Write your logic here\n\n\n# Example usage\nassert is_leap_year(2024) == True\nassert is_leap_year(1900) == False \nassert is_leap_year(2000) == True\nassert is_leap_year(2023) == False\n```\n",
      "metadata": {}
    },
    {
      "cell_type": "code",
      "source": "# code Ex.4\n",
      "metadata": {
        "trusted": true
      },
      "outputs": [],
      "execution_count": null
    }
  ]
}