{
 "cells": [
  {
   "cell_type": "markdown",
   "metadata": {},
   "source": [
    "# Python functions exercises\n",
    "\n",
    "```txt\n",
    "       video:  4\n",
    "       title:  Python functions exercises\n",
    "      author:  César Freire <cesar.freire@training.rumos.pt>\n",
    "   reviewers:  Ana Felizardo, Paulo Martins\n",
    "affiliations:  Rumos Formação\n",
    "```"
   ]
  },
  {
   "cell_type": "markdown",
   "metadata": {},
   "source": [
    "## Exercise 1\n",
    "\n",
    "Create a functions that computes the square root of x $\\sqrt{x}$ rounded to optionally 3 digits\n",
    "\n",
    "Example:\n",
    "\n",
    "```python\n",
    "def square_root(x:int, digits=3) -> float:\n",
    "    \"\"\" Rounded square root \"\"\"\n",
    "    # Write your logic here\n",
    "\n",
    "\n",
    "# Example of usage \n",
    "square_root(2)  # output: 1.414\n",
    "```"
   ]
  },
  {
   "cell_type": "code",
   "execution_count": 11,
   "metadata": {},
   "outputs": [],
   "source": [
    "# code Ex. 1\n"
   ]
  },
  {
   "cell_type": "markdown",
   "metadata": {},
   "source": [
    "## Exercise 2\n",
    "\n",
    "Create a function that as a string parameter with spaces and will return that string in lowercase separated by underscores.\n",
    "\n",
    "__Example:__\n",
    "\n",
    "input:\n",
    "\n",
    "`'Data from Server1.txt'`\n",
    "\n",
    "output:\n",
    "\n",
    "`'data_from_server1.txt'`"
   ]
  },
  {
   "cell_type": "code",
   "execution_count": 2,
   "metadata": {},
   "outputs": [
    {
     "data": {
      "text/plain": [
       "'data_from_server1.txt'"
      ]
     },
     "execution_count": 2,
     "metadata": {},
     "output_type": "execute_result"
    }
   ],
   "source": [
    "# code Ex. 2 \n"
   ]
  },
  {
   "cell_type": "markdown",
   "metadata": {},
   "source": [
    "## Exercise: 3\n",
    "\n",
    "Create a function that returns a list with the fibonacci sequence until a given number (n).\n",
    "\n",
    "Example:\n",
    "\n",
    "```\n",
    "fibonacci(n=200)\n",
    "\n",
    "[0, 1, 1, 2, 3, 5, 8, 13, 21, 34, 55, 89, 144]\n",
    "```"
   ]
  },
  {
   "cell_type": "code",
   "execution_count": 4,
   "metadata": {},
   "outputs": [
    {
     "data": {
      "text/plain": [
       "[0, 1, 1, 2, 3, 5, 8, 13, 21, 34, 55, 89, 144]"
      ]
     },
     "execution_count": 4,
     "metadata": {},
     "output_type": "execute_result"
    }
   ],
   "source": [
    "# code Ex.3"
   ]
  },
  {
   "cell_type": "markdown",
   "metadata": {},
   "source": [
    "## Exercise 4\n",
    "\n",
    "An extra day is added to the calendar almost every four years as February 29, and the day is called a leap day. \n",
    "\n",
    "In the Gregorian calendar, three conditions are used to identify leap years:\n",
    "\n",
    "* The year can be evenly divided by 4, is a leap year, unless:\n",
    "* The year can be evenly divided by 100, it is NOT a leap year, unless:\n",
    "* The year is also evenly divisible by 400. Then it is a leap year.\n",
    "* This means that in the Gregorian calendar, the years 2000 and 2400 are leap years, while 1800, 1900, 2100, 2200, 2300 and 2500 are NOT leap years. Source\n",
    "\n",
    "Given a year, determine whether it is a leap year. If it is a leap year, return the Boolean True, otherwise return False.\n",
    "\n",
    "Example:\n",
    "\n",
    "```python\n",
    "def is_leap(year: int) -> bool:\n",
    "    \"\"\" Tests is year is a leap year \"\"\"\n",
    "    \n",
    "    # Write your logic here\n",
    "\n",
    "\n",
    "# Example usage\n",
    "assert is_leap_year(2024) == True\n",
    "assert is_leap_year(1900) == False \n",
    "assert is_leap_year(2000) == True\n",
    "assert is_leap_year(2023) ==  False\n",
    "```"
   ]
  },
  {
   "cell_type": "code",
   "execution_count": 10,
   "metadata": {},
   "outputs": [],
   "source": [
    "# code Ex.4\n"
   ]
  }
 ],
 "metadata": {
  "kernelspec": {
   "display_name": "venv",
   "language": "python",
   "name": "python3"
  },
  "language_info": {
   "codemirror_mode": {
    "name": "ipython",
    "version": 3
   },
   "file_extension": ".py",
   "mimetype": "text/x-python",
   "name": "python",
   "nbconvert_exporter": "python",
   "pygments_lexer": "ipython3",
   "version": "3.12.3"
  }
 },
 "nbformat": 4,
 "nbformat_minor": 2
}
