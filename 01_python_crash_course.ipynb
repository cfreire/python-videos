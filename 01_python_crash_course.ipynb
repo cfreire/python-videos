{
 "cells": [
  {
   "cell_type": "markdown",
   "metadata": {},
   "source": [
    "# Python crash course\n",
    "\n",
    "> +INFO: https://docs.python.org/3/tutorial/introduction.html#lists\n",
    "\n",
    "_RUMOS | César Freire_"
   ]
  },
  {
   "cell_type": "markdown",
   "metadata": {},
   "source": [
    "## Variables\n",
    "\n",
    "* int\n",
    "* float\n",
    "* bool\n",
    "* strings"
   ]
  },
  {
   "cell_type": "markdown",
   "metadata": {},
   "source": [
    "### Integers\n",
    "_Integers is those which are devoid of the fractional part_"
   ]
  },
  {
   "cell_type": "code",
   "execution_count": 1,
   "metadata": {},
   "outputs": [
    {
     "data": {
      "text/plain": [
       "80"
      ]
     },
     "execution_count": 1,
     "metadata": {},
     "output_type": "execute_result"
    }
   ],
   "source": [
    "http_port = 80\n",
    "http_port"
   ]
  },
  {
   "cell_type": "code",
   "execution_count": 2,
   "metadata": {},
   "outputs": [
    {
     "data": {
      "text/plain": [
       "int"
      ]
     },
     "execution_count": 2,
     "metadata": {},
     "output_type": "execute_result"
    }
   ],
   "source": [
    "# get the type of variable\n",
    "type(http_port)"
   ]
  },
  {
   "cell_type": "code",
   "execution_count": 3,
   "metadata": {},
   "outputs": [
    {
     "data": {
      "text/plain": [
       "int"
      ]
     },
     "execution_count": 3,
     "metadata": {},
     "output_type": "execute_result"
    }
   ],
   "source": [
    "# underscore in numeric literals\n",
    "trillion = 1_000_000_000_000_000_000\n",
    "type(trillion)"
   ]
  },
  {
   "cell_type": "code",
   "execution_count": 4,
   "metadata": {},
   "outputs": [
    {
     "data": {
      "text/plain": [
       "2037035976334486086268445688409378161051468393665936250636140449354381299763336706183397376"
      ]
     },
     "execution_count": 4,
     "metadata": {},
     "output_type": "execute_result"
    }
   ],
   "source": [
    "# support for large int's\n",
    "2 ** 300  # 2 ^300"
   ]
  },
  {
   "cell_type": "markdown",
   "metadata": {},
   "source": [
    "### Floats\n",
    "_Numbers that have a non-empty decimal fraction_"
   ]
  },
  {
   "cell_type": "code",
   "execution_count": 5,
   "metadata": {},
   "outputs": [
    {
     "data": {
      "text/plain": [
       "float"
      ]
     },
     "execution_count": 5,
     "metadata": {},
     "output_type": "execute_result"
    }
   ],
   "source": [
    "timeout = 12.4\n",
    "type(timeout)"
   ]
  },
  {
   "cell_type": "code",
   "execution_count": 6,
   "metadata": {},
   "outputs": [
    {
     "data": {
      "text/plain": [
       "float"
      ]
     },
     "execution_count": 6,
     "metadata": {},
     "output_type": "execute_result"
    }
   ],
   "source": [
    "type(4e2)"
   ]
  },
  {
   "cell_type": "markdown",
   "metadata": {},
   "source": [
    "### Booleans\n",
    "_Booleans represent one of two values: `True` or `False`_\n",
    "\n",
    "NOTE: `True` and `False` are written with upper case since they are immutable"
   ]
  },
  {
   "cell_type": "code",
   "execution_count": 7,
   "metadata": {},
   "outputs": [
    {
     "data": {
      "text/plain": [
       "bool"
      ]
     },
     "execution_count": 7,
     "metadata": {},
     "output_type": "execute_result"
    }
   ],
   "source": [
    "port_open = True\n",
    "type(port_open)"
   ]
  },
  {
   "cell_type": "markdown",
   "metadata": {},
   "source": [
    "### Strings\n",
    "_Strings in python are surrounded by either single quotation marks, or double quotation marks_"
   ]
  },
  {
   "cell_type": "code",
   "execution_count": 8,
   "metadata": {},
   "outputs": [
    {
     "data": {
      "text/plain": [
       "str"
      ]
     },
     "execution_count": 8,
     "metadata": {},
     "output_type": "execute_result"
    }
   ],
   "source": [
    "# You can use quotes inside a string, as long as they don't match the quotes surrounding the string\n",
    "welcome_msg = \"Starting server's v1.2\"\n",
    "error_msg = 'Server result is \"error\" '\n",
    "\n",
    "type(error_msg)"
   ]
  },
  {
   "cell_type": "markdown",
   "metadata": {},
   "source": [
    "## Libraries\n",
    "\n",
    "* Python Standard Library | \n",
    "https://docs.python.org/3/library/index.html\n",
    "\n",
    "*  Python Package Index | \n",
    "https://pypi.org/"
   ]
  },
  {
   "cell_type": "markdown",
   "metadata": {},
   "source": [
    "### Core libraries"
   ]
  },
  {
   "cell_type": "code",
   "execution_count": 9,
   "metadata": {},
   "outputs": [
    {
     "data": {
      "text/plain": [
       "'3.12.3 (main, Apr 10 2024, 05:33:47) [GCC 13.2.0]'"
      ]
     },
     "execution_count": 9,
     "metadata": {},
     "output_type": "execute_result"
    }
   ],
   "source": [
    "import sys\n",
    "\n",
    "sys.version"
   ]
  },
  {
   "cell_type": "code",
   "execution_count": 10,
   "metadata": {},
   "outputs": [
    {
     "data": {
      "text/plain": [
       "'3.12.3 (main, Apr 10 2024, 05:33:47) [GCC 13.2.0]'"
      ]
     },
     "execution_count": 10,
     "metadata": {},
     "output_type": "execute_result"
    }
   ],
   "source": [
    "from sys import version\n",
    "\n",
    "version"
   ]
  },
  {
   "cell_type": "code",
   "execution_count": 11,
   "metadata": {},
   "outputs": [
    {
     "data": {
      "text/plain": [
       "'3.12.3 (main, Apr 10 2024, 05:33:47) [GCC 13.2.0]'"
      ]
     },
     "execution_count": 11,
     "metadata": {},
     "output_type": "execute_result"
    }
   ],
   "source": [
    "from sys import version as ver  # rename\n",
    "\n",
    "ver"
   ]
  },
  {
   "cell_type": "markdown",
   "metadata": {},
   "source": [
    "### Additions to the standard library"
   ]
  },
  {
   "cell_type": "code",
   "execution_count": 12,
   "metadata": {},
   "outputs": [
    {
     "name": "stdout",
     "output_type": "stream",
     "text": [
      "Requirement already satisfied: numpy in ./.venv/lib/python3.12/site-packages (2.0.0)\n",
      "Note: you may need to restart the kernel to use updated packages.\n"
     ]
    }
   ],
   "source": [
    "%pip install numpy"
   ]
  },
  {
   "cell_type": "code",
   "execution_count": 13,
   "metadata": {},
   "outputs": [
    {
     "data": {
      "text/plain": [
       "2"
      ]
     },
     "execution_count": 13,
     "metadata": {},
     "output_type": "execute_result"
    }
   ],
   "source": [
    "import numpy as np\n",
    "np.random.randint(0,10)"
   ]
  },
  {
   "cell_type": "markdown",
   "metadata": {},
   "source": [
    "## Flow control\n",
    "\n",
    "* for\n",
    "* if-then-else\n",
    "* while"
   ]
  },
  {
   "cell_type": "code",
   "execution_count": 14,
   "metadata": {},
   "outputs": [
    {
     "name": "stdout",
     "output_type": "stream",
     "text": [
      "0\n",
      "1\n",
      "2\n"
     ]
    }
   ],
   "source": [
    "# loop\n",
    "for x in range(3):\n",
    "    print(x)"
   ]
  },
  {
   "cell_type": "code",
   "execution_count": 15,
   "metadata": {},
   "outputs": [
    {
     "name": "stdout",
     "output_type": "stream",
     "text": [
      "1 . 2 . 3 . 4 . 5 . 6 . 7 . 8 . 9 . 10 . OK\n"
     ]
    }
   ],
   "source": [
    "# loop with no line feed\n",
    "for x in range(1, 11):\n",
    "    print(x, end=' . ')\n",
    "print('OK')"
   ]
  },
  {
   "cell_type": "code",
   "execution_count": 16,
   "metadata": {},
   "outputs": [
    {
     "name": "stdout",
     "output_type": "stream",
     "text": [
      "1 . 2 . 3 . 4 . 5 . OK\n"
     ]
    }
   ],
   "source": [
    "# loop with if and break\n",
    "for x in range(1, 11):\n",
    "    print(x, end=' . ')\n",
    "    if x == 5:\n",
    "        break\n",
    "print('OK')"
   ]
  },
  {
   "cell_type": "code",
   "execution_count": 17,
   "metadata": {},
   "outputs": [
    {
     "name": "stdout",
     "output_type": "stream",
     "text": [
      "1 . 2 . 3 . 4 . 6 . 7 . 8 . 9 . 10 . OK\n"
     ]
    }
   ],
   "source": [
    "# loop with if-else and continue\n",
    "for x in range(1, 11):\n",
    "    if x == 5:\n",
    "        continue\n",
    "    else:\n",
    "      print(x, end=' . ')\n",
    "print('OK')"
   ]
  },
  {
   "cell_type": "code",
   "execution_count": 18,
   "metadata": {},
   "outputs": [
    {
     "name": "stdout",
     "output_type": "stream",
     "text": [
      "5.4.3.2.1."
     ]
    }
   ],
   "source": [
    "a = 5\n",
    "while a > 0:\n",
    "    print(a, end='.')\n",
    "    a = a -1  # or a -=1"
   ]
  },
  {
   "cell_type": "markdown",
   "metadata": {},
   "source": [
    "## Jupyter magic commands\n",
    "https://ipython.readthedocs.io/en/stable/interactive/magics.html"
   ]
  },
  {
   "cell_type": "code",
   "execution_count": 19,
   "metadata": {},
   "outputs": [
    {
     "name": "stdout",
     "output_type": "stream",
     "text": [
      "Variable      Type      Data/Info\n",
      "---------------------------------\n",
      "a             int       0\n",
      "error_msg     str       Server result is \"error\" \n",
      "http_port     int       80\n",
      "np            module    <module 'numpy' from '/ho<...>kages/numpy/__init__.py'>\n",
      "port_open     bool      True\n",
      "sys           module    <module 'sys' (built-in)>\n",
      "timeout       float     12.4\n",
      "trillion      int       1000000000000000000\n",
      "ver           str       3.12.3 (main, Apr 10 2024, 05:33:47) [GCC 13.2.0]\n",
      "version       str       3.12.3 (main, Apr 10 2024, 05:33:47) [GCC 13.2.0]\n",
      "welcome_msg   str       Starting server's v1.2\n",
      "x             int       10\n"
     ]
    }
   ],
   "source": [
    "%whos"
   ]
  },
  {
   "cell_type": "markdown",
   "metadata": {},
   "source": [
    "## Python style guide\n",
    "https://peps.python.org/pep-0008/\n",
    "\n",
    "\n",
    "\n",
    "| __Guido van Russum__  |  __Tim Petters__ | \n",
    "| ----- | ---- |\n",
    "| ![guido-van-rossum](https://upload.wikimedia.org/wikipedia/commons/thumb/e/e2/Guido-portrait-2014-drc.jpg/290px-Guido-portrait-2014-drc.jpg) | ![Tim Petters](https://community.cadence.com/resized-image/__size/250x480/__key/communityserver-blogs-components-weblogfiles/00-00-00-01-06/8738.peters.png) |\n",
    "\n",
    "_One of Guido’s key insights is that code is read much more often than it is written. The guidelines provided here are intended to improve the readability of code and make it consistent across the wide spectrum of Python code. As PEP 20 says, “Readability counts”._"
   ]
  },
  {
   "cell_type": "code",
   "execution_count": 20,
   "metadata": {},
   "outputs": [
    {
     "name": "stdout",
     "output_type": "stream",
     "text": [
      "The Zen of Python, by Tim Peters\n",
      "\n",
      "Beautiful is better than ugly.\n",
      "Explicit is better than implicit.\n",
      "Simple is better than complex.\n",
      "Complex is better than complicated.\n",
      "Flat is better than nested.\n",
      "Sparse is better than dense.\n",
      "Readability counts.\n",
      "Special cases aren't special enough to break the rules.\n",
      "Although practicality beats purity.\n",
      "Errors should never pass silently.\n",
      "Unless explicitly silenced.\n",
      "In the face of ambiguity, refuse the temptation to guess.\n",
      "There should be one-- and preferably only one --obvious way to do it.\n",
      "Although that way may not be obvious at first unless you're Dutch.\n",
      "Now is better than never.\n",
      "Although never is often better than *right* now.\n",
      "If the implementation is hard to explain, it's a bad idea.\n",
      "If the implementation is easy to explain, it may be a good idea.\n",
      "Namespaces are one honking great idea -- let's do more of those!\n"
     ]
    }
   ],
   "source": [
    "# PEP 20\n",
    "import this"
   ]
  },
  {
   "cell_type": "markdown",
   "metadata": {},
   "source": [
    "### PEP8 main rules\n",
    "\n",
    "* Use 4 spaces per indentation level\n",
    "* Limit all lines to a maximum of 79 characters\n",
    "* Surround top-level function and class definitions with two blank lines\n",
    "* Imports should usually be on separate lines"
   ]
  },
  {
   "cell_type": "markdown",
   "metadata": {},
   "source": [
    "### Verifying PEP8 in iPython notebook code"
   ]
  },
  {
   "cell_type": "code",
   "execution_count": 21,
   "metadata": {},
   "outputs": [
    {
     "name": "stdout",
     "output_type": "stream",
     "text": [
      "Note: you may need to restart the kernel to use updated packages.\n"
     ]
    }
   ],
   "source": [
    "%pip install -q flake8 pycodestyle_magic"
   ]
  },
  {
   "cell_type": "code",
   "execution_count": 22,
   "metadata": {},
   "outputs": [],
   "source": [
    "%load_ext pycodestyle_magic"
   ]
  },
  {
   "cell_type": "code",
   "execution_count": 23,
   "metadata": {},
   "outputs": [],
   "source": [
    "%pycodestyle_on"
   ]
  },
  {
   "cell_type": "code",
   "execution_count": 24,
   "metadata": {},
   "outputs": [
    {
     "name": "stderr",
     "output_type": "stream",
     "text": [
      "2:2: E225 missing whitespace around operator\n"
     ]
    },
    {
     "name": "stdout",
     "output_type": "stream",
     "text": [
      "5.4.3.2.1."
     ]
    },
    {
     "name": "stderr",
     "output_type": "stream",
     "text": [
      "3:8: E225 missing whitespace around operator\n",
      "4:17: E251 unexpected spaces around keyword / parameter equals\n",
      "4:19: E251 unexpected spaces around keyword / parameter equals\n",
      "5:6: E225 missing whitespace around operator\n",
      "5:10: E261 at least two spaces before inline comment\n",
      "5:11: E262 inline comment should start with '# '\n"
     ]
    }
   ],
   "source": [
    "# NOT PEP8\n",
    "a=5\n",
    "while a>0:\n",
    "    print(a, end = '.')\n",
    "    a=a-1 #or a -=1"
   ]
  },
  {
   "cell_type": "code",
   "execution_count": 25,
   "metadata": {},
   "outputs": [
    {
     "name": "stdout",
     "output_type": "stream",
     "text": [
      "5.4.3.2.1."
     ]
    }
   ],
   "source": [
    "# PEP8\n",
    "a = 5\n",
    "while a > 0:\n",
    "    print(a, end='.')\n",
    "    a = a-1  # or a -=1"
   ]
  },
  {
   "cell_type": "code",
   "execution_count": 26,
   "metadata": {},
   "outputs": [],
   "source": [
    "%pycodestyle_off"
   ]
  },
  {
   "cell_type": "markdown",
   "metadata": {},
   "source": [
    "## Addon topics\n",
    "\n",
    "* String evolution\n",
    "* Getting help\n",
    "* Python 2 Why end of line "
   ]
  },
  {
   "cell_type": "markdown",
   "metadata": {},
   "source": [
    "### String evolution\n",
    "\n",
    "All Python modules uses semver versioning.\n",
    "https://semver.org/"
   ]
  },
  {
   "cell_type": "code",
   "execution_count": 27,
   "metadata": {},
   "outputs": [
    {
     "data": {
      "text/plain": [
       "sys.version_info(major=3, minor=12, micro=3, releaselevel='final', serial=0)"
      ]
     },
     "execution_count": 27,
     "metadata": {},
     "output_type": "execute_result"
    }
   ],
   "source": [
    "from sys import version_info\n",
    "version_info"
   ]
  },
  {
   "cell_type": "code",
   "execution_count": 29,
   "metadata": {},
   "outputs": [
    {
     "data": {
      "text/plain": [
       "(3, 12)"
      ]
     },
     "execution_count": 29,
     "metadata": {},
     "output_type": "execute_result"
    }
   ],
   "source": [
    "major = version_info.major\n",
    "minor = version_info.minor\n",
    "major, minor"
   ]
  },
  {
   "cell_type": "code",
   "execution_count": 37,
   "metadata": {},
   "outputs": [
    {
     "name": "stdout",
     "output_type": "stream",
     "text": [
      "major=3 minor=12\n",
      "major=3 minor=12\n",
      "major=3 minor=12\n",
      "major=3 minor=12\n",
      "major=3 minor=12\n",
      "major=3 minor=12\n"
     ]
    }
   ],
   "source": [
    "# python 1.0 (1994)\n",
    "print('major=%i minor=%i' % (major, minor))\n",
    "\n",
    "# python 2.7 (2008)\n",
    "# SyntaxError: Missing parentheses in call to 'print'. Did you mean print(...)?\n",
    "# print 'major=', major ,'minor=', minor\n",
    "\n",
    "# python 3.0\n",
    "print('major=', major, ' minor=', minor, sep='')\n",
    "\n",
    "# python 3.6\n",
    "print('major={} minor={}'.format(major, minor))\n",
    "\n",
    "# python 3.7\n",
    "print(f'major={major} minor={minor}')\n",
    "\n",
    "# python 3.8 (self-documenting expressions in f-strings)\n",
    "print(f'{major=} {minor=}')"
   ]
  },
  {
   "cell_type": "markdown",
   "metadata": {},
   "source": [
    "### Getting help on a function\n",
    "\n",
    "* `TAB` autocomplete\n",
    "* `SHIFT-TAB` inline help"
   ]
  },
  {
   "cell_type": "code",
   "execution_count": 49,
   "metadata": {},
   "outputs": [
    {
     "name": "stdout",
     "output_type": "stream",
     "text": [
      "Help on built-in function repr in module builtins:\n",
      "\n",
      "repr(obj, /)\n",
      "    Return the canonical string representation of the object.\n",
      "\n",
      "    For many object types, including most builtins, eval(repr(obj)) == obj.\n",
      "\n",
      "major=3 minor=12\n"
     ]
    }
   ],
   "source": [
    "help(repr)\n",
    "\n",
    "# Example\n",
    "print('major=' + repr(major) + ' minor=' + repr(minor))\n"
   ]
  },
  {
   "cell_type": "markdown",
   "metadata": {},
   "source": [
    "### Python2 End of life - Why?"
   ]
  },
  {
   "cell_type": "code",
   "execution_count": 51,
   "metadata": {},
   "outputs": [
    {
     "data": {
      "text/plain": [
       "3.5"
      ]
     },
     "execution_count": 51,
     "metadata": {},
     "output_type": "execute_result"
    }
   ],
   "source": [
    "# In Python3\n",
    "# 7 / 2 = 3.5\n",
    "7 / 2"
   ]
  },
  {
   "cell_type": "code",
   "execution_count": 52,
   "metadata": {},
   "outputs": [
    {
     "data": {
      "text/plain": [
       "3"
      ]
     },
     "execution_count": 52,
     "metadata": {},
     "output_type": "execute_result"
    }
   ],
   "source": [
    "# In Python2\n",
    "# 7 / 2 = 3 (int division gives int response)\n",
    "7 // 2"
   ]
  },
  {
   "cell_type": "code",
   "execution_count": 53,
   "metadata": {},
   "outputs": [
    {
     "data": {
      "text/plain": [
       "'℃'"
      ]
     },
     "execution_count": 53,
     "metadata": {},
     "output_type": "execute_result"
    }
   ],
   "source": [
    "# Python3 (UNICODE) vs Python2 (ASCII)\n",
    "# Support for unicode\n",
    "'\\u2103'"
   ]
  }
 ],
 "metadata": {
  "kernelspec": {
   "display_name": ".venv",
   "language": "python",
   "name": "python3"
  },
  "language_info": {
   "codemirror_mode": {
    "name": "ipython",
    "version": 3
   },
   "file_extension": ".py",
   "mimetype": "text/x-python",
   "name": "python",
   "nbconvert_exporter": "python",
   "pygments_lexer": "ipython3",
   "version": "3.12.3"
  }
 },
 "nbformat": 4,
 "nbformat_minor": 2
}
